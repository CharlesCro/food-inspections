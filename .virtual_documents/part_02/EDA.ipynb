








import pandas as pd
import numpy as np
import re


# Setting pandas to display all columns
pd.set_option('display.max_columns', None)








# Chicago Restaurant Inspections
chicago = pd.read_csv('../data/inspection_chicago.csv')
chicago.head(3)


print(f'Chicago Inspection Dataset Shape: \n{chicago.shape[0]} observations \n{chicago.shape[1]} features')


chicago.info()





# Checking for duplicate entries
if chicago.duplicated().any():
    print("There are duplicate rows in the dataset.")
else:
    print("No duplicates found.")


# Assessment of Null Values
chicago.isna().sum()





# Rename Columns
chicago.columns = chicago.columns.str.replace(' ', '_').str.lower()


# Drop unnecessary columns for the time being
chicago.drop(columns = ['latitude', 'longitude', 'city', 'state', 'zip'], inplace = True)


# Drop rows with negligible missing values
chicago.dropna(subset = ['aka_name', 'license_#', 'risk'], inplace = True)


chicago.info()





# Inspection Type Frequency
chicago['inspection_type'].value_counts(normalize = True).plot(kind = 'barh');





# Inspecton Results
chicago['results'].value_counts(normalize = True).plot(kind = 'barh');





# Assesing Risk Column
chicago['risk'].value_counts(normalize = True)








# Observing how violation field is formatted so I can determine how I'd like to parse the values
filter = ~chicago['violations'].isnull()
for violation in chicago[filter]['violations'][:3]:
    print(violation)
    print('='*60)








# Test for loop to with print functions to see if my parsing methods are working properly

filter = ~chicago['violations'].isnull()
for i, violations in enumerate(chicago[filter]['violations'][:3]):
    name = chicago[filter].iloc[i]['dba_name']
    date = chicago[filter].iloc[i]['inspection_date']
    
    print(f'{name} Inspection Violations on {date}:')
    
    violations_list_str = violations.split(' | ')
    
    violations_list_code = [] # one of the features I'd like to create
    violation_count = len(violations_list_str) # other new desired feature
    
    for v in violations_list_str:
        violations_list_code.append(int(re.search(r'^\d{1,2}', v).group())) 
        print(v)
        print('-'*30)

    print('Inspection Summary:')
    print(f'Violation Count (new feature): {violation_count}')
    print(f'List of Violation Codes (new feature): {violations_list_code}')
    print('='*60)






