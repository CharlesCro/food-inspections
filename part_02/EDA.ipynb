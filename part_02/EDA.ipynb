{
 "cells": [
  {
   "cell_type": "markdown",
   "id": "15fd2097-ca8f-4041-a950-659a36efeda6",
   "metadata": {},
   "source": [
    "Personal objectives for this project:\n",
    "\n",
    "1. Mastery of data cleaning and feature engineering\n",
    "\n",
    "2. A dive into app development and translating my data analysis into a front-end product that expresses my work in the most captivating way for the non-techincal audience.\n",
    "\n",
    "3. In confronting the obstacles of this idea, understanding how I could solve them in the context of the bootcamp deadline while also keeping as thorough a record as possible for how I could solve these problems better in the future versions of this idea."
   ]
  },
  {
   "cell_type": "markdown",
   "id": "579cbe66-ce03-407d-97e1-f08001ddec4f",
   "metadata": {},
   "source": [
    "# Problem Statement (First Draft)"
   ]
  },
  {
   "cell_type": "markdown",
   "id": "5f985f13-58bd-4086-916d-5ae2c74cf2e6",
   "metadata": {},
   "source": [
    "Restaurants may have passed their latest inspection and can be open for business with no problems, but this isn't the full story. More information should be provided to potential customers about the track record of the restaurant so they can make a better informed decision. The goals of this project are:\n",
    "\n",
    "- A streamlit app which helps people assess the cleanliness of restaurants via visualizations of the restaurant's inspection statistics. This app could \n",
    "lower the severity of foodborne outbreaks by informing the customers of potential unsafe food practices of restaurants before they choose to eat there.\n",
    "- A classification model to predict the inspection result. (logistic regression for most interpretability ?)\n",
    "\n",
    "**Stretch Goals:**\n",
    "The results of this project could be scaled to work for multiple cities as well as covering other types of establishments such as hotels, housing units, and even swimming pools. With my app I hope to encourage people to make more informed & healthier choices on things which may impact their health and well-being greatly.\n",
    "\n",
    "\n",
    "side notes (future):\n",
    "- process comments to look for key words such as rats/etc in combination with location to tell you if nearby restaurants are suffering from infestations which could affect you."
   ]
  },
  {
   "cell_type": "markdown",
   "id": "c735b60a-a255-45a1-b383-06a82b02ad17",
   "metadata": {},
   "source": [
    "---\n",
    "## Imports"
   ]
  },
  {
   "cell_type": "code",
   "execution_count": 7,
   "id": "3b4bbfa9-aa62-4314-a991-6509cd3ee236",
   "metadata": {},
   "outputs": [],
   "source": [
    "import pandas as pd\n",
    "import numpy as np\n",
    "import re\n",
    "import matplotlib.pyplot as plt\n",
    "import seaborn as sns"
   ]
  },
  {
   "cell_type": "code",
   "execution_count": 8,
   "id": "64aa06e2-1cfb-4a2c-87de-e138dac7ab34",
   "metadata": {},
   "outputs": [],
   "source": [
    "# Setting pandas to display all columns\n",
    "pd.set_option('display.max_columns', None)"
   ]
  },
  {
   "cell_type": "markdown",
   "id": "70f36143-ade3-42af-a5e7-2339e08e52ec",
   "metadata": {},
   "source": [
    "---\n",
    "## Load Data"
   ]
  },
  {
   "cell_type": "markdown",
   "id": "f77ae410-008a-4213-8b14-00685484419e",
   "metadata": {},
   "source": [
    "**Initial Data Collection Research**\n",
    "\n",
    "Two potential data sources\n",
    "- Chicago Data Portal\n",
    "- New York Data Portal\n",
    "\n",
    "All cities/counties in the US provide ample data on restaurant inspection, with varying degrees of accessibility, ranging from needing to file a 'request for info' on a per restaurant basis, displaying the data already in json format on the website to be easily scraped or offering downloadable PDFs, to even having all the inspection results stored in a downloadble .csv file all ready to be worked upon. I begun my search considering only major cities as I want my app to have the highest impact possible upon release, and these cities also had more modern data storage techniques.\n",
    "\n",
    "I narrowed my choices down to Chicago and New York as they came in .csv format with thorough data descriptions and were maintained the best. \n",
    "\n",
    "In the end I chose the Chicago dataset as its information is the perfect level of thoroughness without requiring too much cleaning and reorganization considering the limited timeframe of this capstone project. In the future steps of this project, I must explore how to to aggregate multiple cities restaurant inspection info through varied data collection methods in order to generalize this data for the purposes of scaling my app across many regions."
   ]
  },
  {
   "cell_type": "code",
   "execution_count": 11,
   "id": "f0dcd952-f3f1-495a-8bcd-f17c9c0ff80b",
   "metadata": {},
   "outputs": [
    {
     "data": {
      "text/html": [
       "<div>\n",
       "<style scoped>\n",
       "    .dataframe tbody tr th:only-of-type {\n",
       "        vertical-align: middle;\n",
       "    }\n",
       "\n",
       "    .dataframe tbody tr th {\n",
       "        vertical-align: top;\n",
       "    }\n",
       "\n",
       "    .dataframe thead th {\n",
       "        text-align: right;\n",
       "    }\n",
       "</style>\n",
       "<table border=\"1\" class=\"dataframe\">\n",
       "  <thead>\n",
       "    <tr style=\"text-align: right;\">\n",
       "      <th></th>\n",
       "      <th>Inspection ID</th>\n",
       "      <th>DBA Name</th>\n",
       "      <th>AKA Name</th>\n",
       "      <th>License #</th>\n",
       "      <th>Facility Type</th>\n",
       "      <th>Risk</th>\n",
       "      <th>Address</th>\n",
       "      <th>City</th>\n",
       "      <th>State</th>\n",
       "      <th>Zip</th>\n",
       "      <th>Inspection Date</th>\n",
       "      <th>Inspection Type</th>\n",
       "      <th>Results</th>\n",
       "      <th>Violations</th>\n",
       "      <th>Latitude</th>\n",
       "      <th>Longitude</th>\n",
       "      <th>Location</th>\n",
       "    </tr>\n",
       "  </thead>\n",
       "  <tbody>\n",
       "    <tr>\n",
       "      <th>0</th>\n",
       "      <td>2606078</td>\n",
       "      <td>LOOMIS CITGO INC.</td>\n",
       "      <td>LOOMIS CITGO INC.</td>\n",
       "      <td>2523672.0</td>\n",
       "      <td>GAS STATION</td>\n",
       "      <td>Risk 2 (Medium)</td>\n",
       "      <td>1356 W 87TH ST</td>\n",
       "      <td>CHICAGO</td>\n",
       "      <td>IL</td>\n",
       "      <td>60620.0</td>\n",
       "      <td>11/07/2024</td>\n",
       "      <td>Canvass Re-Inspection</td>\n",
       "      <td>Pass</td>\n",
       "      <td>49. NON-FOOD/FOOD CONTACT SURFACES CLEAN - Com...</td>\n",
       "      <td>41.735973</td>\n",
       "      <td>-87.658068</td>\n",
       "      <td>(41.73597328807627, -87.65806837861354)</td>\n",
       "    </tr>\n",
       "    <tr>\n",
       "      <th>1</th>\n",
       "      <td>2606026</td>\n",
       "      <td>FAMOUS GRILL</td>\n",
       "      <td>SAM'S FAMOUS GRILL</td>\n",
       "      <td>2961604.0</td>\n",
       "      <td>Restaurant</td>\n",
       "      <td>Risk 1 (High)</td>\n",
       "      <td>2926 W 63RD ST</td>\n",
       "      <td>CHICAGO</td>\n",
       "      <td>IL</td>\n",
       "      <td>60629.0</td>\n",
       "      <td>11/06/2024</td>\n",
       "      <td>License</td>\n",
       "      <td>Pass</td>\n",
       "      <td>NaN</td>\n",
       "      <td>41.779173</td>\n",
       "      <td>-87.696989</td>\n",
       "      <td>(41.779173106768134, -87.69698885824073)</td>\n",
       "    </tr>\n",
       "    <tr>\n",
       "      <th>2</th>\n",
       "      <td>2605986</td>\n",
       "      <td>MOODZ FOOD &amp; DELI</td>\n",
       "      <td>MOODZ FOOD &amp; DELI</td>\n",
       "      <td>2992998.0</td>\n",
       "      <td>Grocery Store</td>\n",
       "      <td>Risk 1 (High)</td>\n",
       "      <td>233 W 119TH ST</td>\n",
       "      <td>CHICAGO</td>\n",
       "      <td>IL</td>\n",
       "      <td>60628.0</td>\n",
       "      <td>11/06/2024</td>\n",
       "      <td>License Re-Inspection</td>\n",
       "      <td>Pass</td>\n",
       "      <td>38. INSECTS, RODENTS, &amp; ANIMALS NOT PRESENT - ...</td>\n",
       "      <td>41.677849</td>\n",
       "      <td>-87.628719</td>\n",
       "      <td>(41.67784867927214, -87.62871899471705)</td>\n",
       "    </tr>\n",
       "  </tbody>\n",
       "</table>\n",
       "</div>"
      ],
      "text/plain": [
       "   Inspection ID           DBA Name            AKA Name  License #  \\\n",
       "0        2606078  LOOMIS CITGO INC.   LOOMIS CITGO INC.  2523672.0   \n",
       "1        2606026       FAMOUS GRILL  SAM'S FAMOUS GRILL  2961604.0   \n",
       "2        2605986  MOODZ FOOD & DELI   MOODZ FOOD & DELI  2992998.0   \n",
       "\n",
       "   Facility Type             Risk          Address     City State      Zip  \\\n",
       "0    GAS STATION  Risk 2 (Medium)  1356 W 87TH ST   CHICAGO    IL  60620.0   \n",
       "1     Restaurant    Risk 1 (High)  2926 W 63RD ST   CHICAGO    IL  60629.0   \n",
       "2  Grocery Store    Risk 1 (High)  233 W 119TH ST   CHICAGO    IL  60628.0   \n",
       "\n",
       "  Inspection Date        Inspection Type Results  \\\n",
       "0      11/07/2024  Canvass Re-Inspection    Pass   \n",
       "1      11/06/2024                License    Pass   \n",
       "2      11/06/2024  License Re-Inspection    Pass   \n",
       "\n",
       "                                          Violations   Latitude  Longitude  \\\n",
       "0  49. NON-FOOD/FOOD CONTACT SURFACES CLEAN - Com...  41.735973 -87.658068   \n",
       "1                                                NaN  41.779173 -87.696989   \n",
       "2  38. INSECTS, RODENTS, & ANIMALS NOT PRESENT - ...  41.677849 -87.628719   \n",
       "\n",
       "                                   Location  \n",
       "0   (41.73597328807627, -87.65806837861354)  \n",
       "1  (41.779173106768134, -87.69698885824073)  \n",
       "2   (41.67784867927214, -87.62871899471705)  "
      ]
     },
     "execution_count": 11,
     "metadata": {},
     "output_type": "execute_result"
    }
   ],
   "source": [
    "# Chicago Restaurant Inspections\n",
    "chicago = pd.read_csv('../data/inspection_chicago.csv')\n",
    "chicago.head(3)"
   ]
  },
  {
   "cell_type": "code",
   "execution_count": 12,
   "id": "8173ba07-f94c-42d0-8c92-6b7642bc4c98",
   "metadata": {},
   "outputs": [
    {
     "name": "stdout",
     "output_type": "stream",
     "text": [
      "Chicago Inspection Dataset Shape: \n",
      "108678 observations \n",
      "17 features\n"
     ]
    }
   ],
   "source": [
    "print(f'Chicago Inspection Dataset Shape: \\n{chicago.shape[0]} observations \\n{chicago.shape[1]} features')"
   ]
  },
  {
   "cell_type": "code",
   "execution_count": 13,
   "id": "9ae9b97c-56a1-40a7-9c0c-6824c56a117e",
   "metadata": {},
   "outputs": [
    {
     "name": "stdout",
     "output_type": "stream",
     "text": [
      "<class 'pandas.core.frame.DataFrame'>\n",
      "RangeIndex: 108678 entries, 0 to 108677\n",
      "Data columns (total 17 columns):\n",
      " #   Column           Non-Null Count   Dtype  \n",
      "---  ------           --------------   -----  \n",
      " 0   Inspection ID    108678 non-null  int64  \n",
      " 1   DBA Name         108678 non-null  object \n",
      " 2   AKA Name         108420 non-null  object \n",
      " 3   License #        108674 non-null  float64\n",
      " 4   Facility Type    108098 non-null  object \n",
      " 5   Risk             108655 non-null  object \n",
      " 6   Address          108678 non-null  object \n",
      " 7   City             108602 non-null  object \n",
      " 8   State            108637 non-null  object \n",
      " 9   Zip              108669 non-null  float64\n",
      " 10  Inspection Date  108678 non-null  object \n",
      " 11  Inspection Type  108678 non-null  object \n",
      " 12  Results          108678 non-null  object \n",
      " 13  Violations       77337 non-null   object \n",
      " 14  Latitude         108273 non-null  float64\n",
      " 15  Longitude        108273 non-null  float64\n",
      " 16  Location         108273 non-null  object \n",
      "dtypes: float64(4), int64(1), object(12)\n",
      "memory usage: 14.1+ MB\n"
     ]
    }
   ],
   "source": [
    "chicago.info()"
   ]
  },
  {
   "cell_type": "markdown",
   "id": "b41cd3a2-b443-4f3a-813a-6103d5e70ed8",
   "metadata": {},
   "source": [
    "--- \n",
    "## Data Cleaning"
   ]
  },
  {
   "cell_type": "markdown",
   "id": "306f16ba-c60e-4fc4-83d7-b21229e5aa0f",
   "metadata": {},
   "source": [
    "**TO DO**\n",
    "- convert license_# to float (rename license_#?)\n",
    "- find num_inspections by restaurant\n",
    "- remove anything that isn't restaurant?\n",
    "\n",
    "- rename Inspection Type columns to something more understandable for app"
   ]
  },
  {
   "cell_type": "code",
   "execution_count": 15,
   "id": "b4802f0c-8182-4f3f-8511-fb2dd3ad8039",
   "metadata": {},
   "outputs": [
    {
     "name": "stdout",
     "output_type": "stream",
     "text": [
      "No duplicates found.\n"
     ]
    }
   ],
   "source": [
    "# Checking for duplicate entries\n",
    "if chicago.duplicated().any():\n",
    "    print(\"There are duplicate rows in the dataset.\")\n",
    "else:\n",
    "    print(\"No duplicates found.\")"
   ]
  },
  {
   "cell_type": "code",
   "execution_count": 16,
   "id": "2f935368-7d96-45d6-9a20-b921b5606c17",
   "metadata": {},
   "outputs": [
    {
     "data": {
      "text/plain": [
       "Inspection ID          0\n",
       "DBA Name               0\n",
       "AKA Name             258\n",
       "License #              4\n",
       "Facility Type        580\n",
       "Risk                  23\n",
       "Address                0\n",
       "City                  76\n",
       "State                 41\n",
       "Zip                    9\n",
       "Inspection Date        0\n",
       "Inspection Type        0\n",
       "Results                0\n",
       "Violations         31341\n",
       "Latitude             405\n",
       "Longitude            405\n",
       "Location             405\n",
       "dtype: int64"
      ]
     },
     "execution_count": 16,
     "metadata": {},
     "output_type": "execute_result"
    }
   ],
   "source": [
    "# Assessment of Null Values\n",
    "chicago.isna().sum()"
   ]
  },
  {
   "cell_type": "markdown",
   "id": "2ce27bb6-c838-46cc-9b68-5b70efa10c3c",
   "metadata": {},
   "source": [
    "- `Latitude`, `Longitude` and `Location` can be dropped as `Address` column is full and the address is what I will need for my app.\n",
    "- Same goes for `City` and `State`, they will be dropped since for this project we will only be dealing with Chicago, IL establishments.\n",
    "- `AKA Name` will be useful for my app but not needed for modelling, in the app I will allow a user to look up an establishment by `Address` if `AKA Name` is not available.\n",
    "- I will likely drop missing `Facility Type` entries since there are so few, however I should research further in EDA why these values might be missing. Perhap it was because of a specific type of inspection or maybe it's missing completely at random.\n",
    "- Very small amounts of missing `License #` and `Risk` values I will double check what these entries are before dropping them as well..\n",
    "\n",
    "- The bulk of my cleaning will be to parse the `Violations` column and using EDA to understand how it relates to `Inspection Type` and `Result`. In regards to rows where it is missing, the end goal is to engineer entirely new features such as `violation_count` in which case all these missing values will just be a 0, assuming the missing values aren't diminished greatly once I filter the dataset depending on type of inspection, TBD in EDA."
   ]
  },
  {
   "cell_type": "code",
   "execution_count": 18,
   "id": "fde49cd7-5fc4-4583-83cd-75294c250f29",
   "metadata": {},
   "outputs": [],
   "source": [
    "# Rename Columns\n",
    "chicago.columns = chicago.columns.str.replace(' ', '_').str.lower()"
   ]
  },
  {
   "cell_type": "code",
   "execution_count": 19,
   "id": "ed802481-0433-4b5c-a196-26dd3b7efab9",
   "metadata": {},
   "outputs": [],
   "source": [
    "# Drop unnecessary columns for the time being\n",
    "chicago.drop(columns = ['latitude', 'longitude', 'city', 'state', 'zip', 'location'], inplace = True)"
   ]
  },
  {
   "cell_type": "code",
   "execution_count": 20,
   "id": "38f22e5d-4d04-421d-8b41-865ab4884c16",
   "metadata": {},
   "outputs": [],
   "source": [
    "# Drop rows with negligible missing values\n",
    "chicago.dropna(subset = ['aka_name', 'license_#', 'risk', 'facility_type'], inplace = True)"
   ]
  },
  {
   "cell_type": "code",
   "execution_count": 21,
   "id": "383503b4-890f-47a6-8b9b-1823f22815e7",
   "metadata": {},
   "outputs": [],
   "source": [
    "# Filling in missing violations column\n",
    "chicago['violations'] = chicago['violations'].fillna('No Violations')"
   ]
  },
  {
   "cell_type": "code",
   "execution_count": 22,
   "id": "f9cda948-2f53-447e-a5f4-7558d5fe8f11",
   "metadata": {},
   "outputs": [
    {
     "name": "stdout",
     "output_type": "stream",
     "text": [
      "<class 'pandas.core.frame.DataFrame'>\n",
      "Index: 107877 entries, 0 to 108677\n",
      "Data columns (total 11 columns):\n",
      " #   Column           Non-Null Count   Dtype  \n",
      "---  ------           --------------   -----  \n",
      " 0   inspection_id    107877 non-null  int64  \n",
      " 1   dba_name         107877 non-null  object \n",
      " 2   aka_name         107877 non-null  object \n",
      " 3   license_#        107877 non-null  float64\n",
      " 4   facility_type    107877 non-null  object \n",
      " 5   risk             107877 non-null  object \n",
      " 6   address          107877 non-null  object \n",
      " 7   inspection_date  107877 non-null  object \n",
      " 8   inspection_type  107877 non-null  object \n",
      " 9   results          107877 non-null  object \n",
      " 10  violations       107877 non-null  object \n",
      "dtypes: float64(1), int64(1), object(9)\n",
      "memory usage: 9.9+ MB\n"
     ]
    }
   ],
   "source": [
    "chicago.info()"
   ]
  },
  {
   "cell_type": "markdown",
   "id": "66593ae9-1dc9-4a5b-a408-e3ffcf964493",
   "metadata": {},
   "source": [
    "## EDA / Feature Engineering"
   ]
  },
  {
   "cell_type": "code",
   "execution_count": 24,
   "id": "a3800b5c-4155-4e7f-8bf3-31bc92a53a48",
   "metadata": {},
   "outputs": [
    {
     "data": {
      "image/png": "[encoded data removed]",
      "text/plain": [
       "<Figure size 640x480 with 1 Axes>"
      ]
     },
     "metadata": {},
     "output_type": "display_data"
    }
   ],
   "source": [
    "# Inspection Type Frequency\n",
    "chicago['inspection_type'].value_counts(normalize = True).plot(kind = 'barh');"
   ]
  },
  {
   "cell_type": "markdown",
   "id": "75c104eb-e511-4261-8237-a6d06bff4f8d",
   "metadata": {},
   "source": [
    "**Three Most Common Inspection Types**\n",
    "\n",
    "- Canvass: the most common type of inspection performed at a frequency relative to the `risk` of the establishment.\n",
    "- License: when the inspection is done as a requirement for the establishment to receive its license to operate.\n",
    "- Complaint: when the inspection is done in response to a complaint against the establishment.\n",
    "\n",
    "- Need to find the best way to encode this column for my app and modelling.\n",
    "\n",
    "**Re-inspections can occur for most of the inspection types.**"
   ]
  },
  {
   "cell_type": "code",
   "execution_count": 26,
   "id": "70a22664-62ef-4093-ac5c-f0e4c3a8df6a",
   "metadata": {},
   "outputs": [
    {
     "data": {
      "image/png": "[encoded data removed]",
      "text/plain": [
       "<Figure size 640x480 with 1 Axes>"
      ]
     },
     "metadata": {},
     "output_type": "display_data"
    }
   ],
   "source": [
    "# Inspecton Results\n",
    "chicago['results'].value_counts(normalize = True).plot(kind = 'barh');"
   ]
  },
  {
   "cell_type": "markdown",
   "id": "17b72e5e-58a2-42c5-96e2-2aaafe06c6af",
   "metadata": {},
   "source": [
    "- More than 40% of inspections result in a Pass\n",
    "- Almost 1 in 5 inspections result in a Fail"
   ]
  },
  {
   "cell_type": "code",
   "execution_count": 28,
   "id": "9efb6bc5-d48f-4d5d-a0f3-850be6105c76",
   "metadata": {
    "scrolled": true
   },
   "outputs": [
    {
     "data": {
      "text/plain": [
       "(91035, 11)"
      ]
     },
     "execution_count": 28,
     "metadata": {},
     "output_type": "execute_result"
    }
   ],
   "source": [
    "# For the purposes of a simpler problem to tackle initially and for easier modelling, I will simplify the results to just Pass or Fail\n",
    "chicago['results'] = chicago['results'].replace('Pass w/ Conditions', 'Pass')\n",
    "\n",
    "# Now I will drop results which are not pass or fail\n",
    "chicago = chicago[chicago['results'].isin(['Pass', 'Fail'])]\n",
    "chicago.shape"
   ]
  },
  {
   "cell_type": "markdown",
   "id": "28ffb4c4-1c18-4e95-a163-1ae3fe9a9cda",
   "metadata": {},
   "source": [
    "- This method is risky as there is a possibility establishments who went out of business or deemed no entry could be re-opened later meaning they should not be removed from my dataset.\n",
    "- A future workaround to this would be to search for the latest result by each establishment and check if they are still open as of latest inspection.\n",
    "- I have not lost enough inspection rows to deem this is a necessary task at the moment, but it should be solved eventually."
   ]
  },
  {
   "cell_type": "code",
   "execution_count": 30,
   "id": "ef5fe182-acc5-494e-8146-16544e64c3a7",
   "metadata": {},
   "outputs": [
    {
     "data": {
      "text/plain": [
       "risk\n",
       "Risk 1 (High)      0.792783\n",
       "Risk 2 (Medium)    0.153073\n",
       "Risk 3 (Low)       0.054144\n",
       "Name: proportion, dtype: float64"
      ]
     },
     "execution_count": 30,
     "metadata": {},
     "output_type": "execute_result"
    }
   ],
   "source": [
    "# Assesing Risk Column\n",
    "chicago['risk'].value_counts(normalize = True)"
   ]
  },
  {
   "cell_type": "markdown",
   "id": "1fe0ab9b-e82a-4b89-8500-169ee5bb8b8b",
   "metadata": {},
   "source": [
    "- Risk 1 (High) being so frequent makes intuitive sense as inspections are performed at a rate relative to the risk factor, so this data would be biased to have higher risk establishments since they are inspected more frequently."
   ]
  },
  {
   "cell_type": "markdown",
   "id": "ff680b43-5713-4688-b4b0-ee567d86ee92",
   "metadata": {},
   "source": [
    "---\n",
    "### A bulk of my initial work is taking this violations column and turning it into more useful features in order to be visualized.\n",
    "\n",
    "Once I have my desired features, the EDA will become a lot more effective as I can begin working on my app visualizations simultaneously."
   ]
  },
  {
   "cell_type": "code",
   "execution_count": 33,
   "id": "3b99c4ed-bda6-4205-9ac1-ed8b9b4703c1",
   "metadata": {},
   "outputs": [
    {
     "name": "stdout",
     "output_type": "stream",
     "text": [
      "49. NON-FOOD/FOOD CONTACT SURFACES CLEAN - Comments: 4-601.11(C) : MUST CLEAN DUST BUILD UP AND DEBRIS FROM WINDOW SILLS,SERVICE COUNTER SHELVING UNITS,WALK IN COOLER-FAN GUARD COVERS AND SHELVING UNITS | 55. PHYSICAL FACILITIES INSTALLED, MAINTAINED & CLEAN - Comments:  6-201.13: MUST REPAIR OR REPLACE STAINED CEILING TILES AT PREP AREA,REAR STORAGE AREA,DAMAGED WALL AT ENTRY.MUST REMOVE MOLD FROM WALL IN REAR STORAGE NEXT TO COOLER. | 55. PHYSICAL FACILITIES INSTALLED, MAINTAINED & CLEAN - Comments:  6-201.11 : MUST CLEAN DIRT AND DUST BUILD UP FROM WALLS & CEILING IN WALK IN COOLER,REAR DISH WASHING AREA. | 55. PHYSICAL FACILITIES INSTALLED, MAINTAINED & CLEAN - Comments:  6-201.17 : MUST CLEAN DUST BUILD UP FROM CEILING VENTS THROUGHOUT INCLUDING TOILET ROOMS. | 57. ALL FOOD EMPLOYEES HAVE FOOD HANDLER TRAINING - Comments: : 2-102.13 : OBSERVED NO FOOD HANDLERS TRAINING FOR EMPLOYEES.\n",
      "============================================================\n",
      "No Violations\n",
      "============================================================\n",
      "38. INSECTS, RODENTS, & ANIMALS NOT PRESENT - Comments:  OBSERVED NUMEROUS DEAD ROACHES ON GLUEBOARD IN PREP AND SALES AREA. INSTRUCTED MANAGER TO REMOVE. | 47. FOOD & NON-FOOD CONTACT SURFACES CLEANABLE, PROPERLY DESIGNED, CONSTRUCTED & USED - Comments:  OBSERVED RAW WOOD SURFACES IN PREP, ALES AND STORAGE AREAS. INSTRUCTED MANAGER TO SEAL ALL RAW WOOD SURFACES TO MAKE SMOOTH AND EASILY CLEANABLE. | 49. NON-FOOD/FOOD CONTACT SURFACES CLEAN - Comments:  OBSERVED DEBRIS ON INTERIOR AND EXTERIOR SURFACES OF SHELVING UNITS, PREP TABLES, HOLDING UNITS, COOLERS, FREEZERS. INSTRUCTED MANAGER TO CLEAN AND MAINTAIN. | 51. PLUMBING INSTALLED; PROPER BACKFLOW DEVICES - Comments:  OBSERVED LEAKING FAUCET ON 3-COMPARTMENT SINK. INSTRUCTED MANAGER TO REPAIR AND MAINTAIN. | 54. GARBAGE & REFUSE PROPERLY DISPOSED; FACILITIES MAINTAINED - Comments: OBSERVED NO RECEPTACLE AT THE HAND WASHING SINKS IN PREP AREA. INSTRUCTED MANAGER TO PROVIDE RECEPTACLES IN ALL AREAS WASTE IS COMMONLY DISCARDED. | 55. PHYSICAL FACILITIES INSTALLED, MAINTAINED & CLEAN - Comments: OBSERVED DAMAGED FLOOR TILES IN PREP, SALES AND STORAGE AREAS. INSTRUCTED MANAGER TO REPLACE ALL DAMAGED FLOOR TILES AND MAINTAIN. | 55. PHYSICAL FACILITIES INSTALLED, MAINTAINED & CLEAN - Comments: OBSERVED UNUSED ARTICLES AND EQUIPMENT IN REAR PREP AND STORAGE AREAS. INSTRUCTED MANAGER TO REMOVE ALL UNNECESSARY ITEMS TO PREVENT PEST HARBORAGE. | 56. ADEQUATE VENTILATION & LIGHTING; DESIGNATED AREAS USED - Comments:  OBSERVED VENTILATION HOOD NOT OPERABLE ABOVE FRYERS IN REAR PREP AREA. INSTRUCTED MANAGER TO REPAIR AND MAINTAIN. | 56. ADEQUATE VENTILATION & LIGHTING; DESIGNATED AREAS USED - Comments:  OBSERVED VENTILATION FAN NOT OPERABLE INSIDE WASHROOM. INSTRUCTED MANAGER TO REPAIR AND MAINTAIN. | 57. ALL FOOD EMPLOYEES HAVE FOOD HANDLER TRAINING - Comments:  OBSERVED NO FOOD HANDLER TRAINING AVAILABLE. INSTRUCTED MANAGER TO PROVIDE FOOD HANDLER TRAINING FOR EMPLOYEES.\n",
      "============================================================\n"
     ]
    }
   ],
   "source": [
    "# Observing how violation field is formatted so I can determine how I'd like to parse the values\n",
    "for violation in chicago['violations'][:3]:\n",
    "    print(violation)\n",
    "    print('='*60)"
   ]
  },
  {
   "cell_type": "markdown",
   "id": "20b84b5e-f5a4-4d65-b66f-8a36ced1ca3f",
   "metadata": {},
   "source": [
    "**Parsing Violation Notes**\n",
    "\n",
    "- My first task is to extract only the violation code and descriptor elements of this submission, for example, if one violation is written as:\n",
    "\n",
    "`49. NON-FOOD/FOOD CONTACT SURFACES CLEAN - Comments: 4-601.11(C) : MUST CLEAN DUST BUILD UP AND DEBRIS FROM WINDOW SILLS,SERVICE COUNTER SHELVING UNITS,WALK IN COOLER-FAN GUARD COVERS AND SHELVING UNITS |`\n",
    "\n",
    "I would like to end up with: `49. NON-FOOD/FOOD CONTACT SURFACES CLEAN`\n",
    "\n",
    "- There is an identifiable pattern in how the violations are written in which I can already see how I can pattern match to retreive the violation part alone: the violation code followed by a period and then the descriptor of the code, then a hyphen before Comments, then a separating bar (|) and the pattern is repeated for each violation.\n",
    "\n",
    "I can save it as a stretch goal to use NLP techniques to evaluate the `Comments` section and display key words such as type of rodents found and type of dirt discovered."
   ]
  },
  {
   "cell_type": "markdown",
   "id": "fc3c0215-e74c-40f0-bb3d-b94b62c7348b",
   "metadata": {},
   "source": [
    "---\n",
    "### Parsing Violations Column (Testing)"
   ]
  },
  {
   "cell_type": "markdown",
   "id": "9dd59624-31ee-4194-8d85-06d1b3e79a36",
   "metadata": {},
   "source": [
    "- I want to break apart this violations column piece by piece so I can work with and display the info in a much easier fashion, this will be my main goal to start off this project.\n",
    "\n",
    "- An establishment can receive one or more of 45 distinct violations (violation \n",
    "numbers 1-44 and 70) Violations are broken down further by critical or serious violations (violation number 1-14 and 15-\r\n",
    "29, respectively. I will need to add logic to categorize these violations as such, and that will be another useful feature.--"
   ]
  },
  {
   "cell_type": "markdown",
   "id": "c8d869eb-d2a9-4a54-9c85-a26b33e2ad2b",
   "metadata": {},
   "source": [
    "### Optimizing the previous code block"
   ]
  },
  {
   "cell_type": "code",
   "execution_count": 38,
   "id": "05beb636-b092-464c-a9c6-077dbfed82c3",
   "metadata": {},
   "outputs": [],
   "source": [
    "def process_violations(violations):\n",
    "    '''\n",
    "        This function will be applied to the violations column of the dataframe\n",
    "        and return the features I'd like to create.\n",
    "    '''\n",
    "\n",
    "    if violations != 'No Violations':\n",
    "        violations_list_str = violations.split(' | ')\n",
    "        violation_count = len(violations_list_str)\n",
    "        violations_list_code = [int(re.search(r'^\\d{1,2}', v).group()) for v in violations_list_str]\n",
    "    else:\n",
    "        violation_count = 0\n",
    "        violations_list_code = []\n",
    "\n",
    "    return violation_count, violations_list_code"
   ]
  },
  {
   "cell_type": "code",
   "execution_count": 39,
   "id": "c1808139-7b56-4334-81a4-0ae01a460439",
   "metadata": {},
   "outputs": [],
   "source": [
    "# Apply the function to the main dataframe to generate new columns\n",
    "chicago[['violation_count', 'violation_codes']] = chicago['violations'].apply(\n",
    "    lambda x: pd.Series(process_violations(x))\n",
    ")"
   ]
  },
  {
   "cell_type": "code",
   "execution_count": 40,
   "id": "5747924d-f1d6-4b86-aa7c-25c1566f3cdc",
   "metadata": {},
   "outputs": [
    {
     "data": {
      "text/html": [
       "<div>\n",
       "<style scoped>\n",
       "    .dataframe tbody tr th:only-of-type {\n",
       "        vertical-align: middle;\n",
       "    }\n",
       "\n",
       "    .dataframe tbody tr th {\n",
       "        vertical-align: top;\n",
       "    }\n",
       "\n",
       "    .dataframe thead th {\n",
       "        text-align: right;\n",
       "    }\n",
       "</style>\n",
       "<table border=\"1\" class=\"dataframe\">\n",
       "  <thead>\n",
       "    <tr style=\"text-align: right;\">\n",
       "      <th></th>\n",
       "      <th>inspection_id</th>\n",
       "      <th>dba_name</th>\n",
       "      <th>aka_name</th>\n",
       "      <th>license_#</th>\n",
       "      <th>facility_type</th>\n",
       "      <th>risk</th>\n",
       "      <th>address</th>\n",
       "      <th>inspection_date</th>\n",
       "      <th>inspection_type</th>\n",
       "      <th>results</th>\n",
       "      <th>violations</th>\n",
       "      <th>violation_count</th>\n",
       "      <th>violation_codes</th>\n",
       "    </tr>\n",
       "  </thead>\n",
       "  <tbody>\n",
       "    <tr>\n",
       "      <th>0</th>\n",
       "      <td>2606078</td>\n",
       "      <td>LOOMIS CITGO INC.</td>\n",
       "      <td>LOOMIS CITGO INC.</td>\n",
       "      <td>2523672.0</td>\n",
       "      <td>GAS STATION</td>\n",
       "      <td>Risk 2 (Medium)</td>\n",
       "      <td>1356 W 87TH ST</td>\n",
       "      <td>11/07/2024</td>\n",
       "      <td>Canvass Re-Inspection</td>\n",
       "      <td>Pass</td>\n",
       "      <td>49. NON-FOOD/FOOD CONTACT SURFACES CLEAN - Com...</td>\n",
       "      <td>5</td>\n",
       "      <td>[49, 55, 55, 55, 57]</td>\n",
       "    </tr>\n",
       "    <tr>\n",
       "      <th>1</th>\n",
       "      <td>2606026</td>\n",
       "      <td>FAMOUS GRILL</td>\n",
       "      <td>SAM'S FAMOUS GRILL</td>\n",
       "      <td>2961604.0</td>\n",
       "      <td>Restaurant</td>\n",
       "      <td>Risk 1 (High)</td>\n",
       "      <td>2926 W 63RD ST</td>\n",
       "      <td>11/06/2024</td>\n",
       "      <td>License</td>\n",
       "      <td>Pass</td>\n",
       "      <td>No Violations</td>\n",
       "      <td>0</td>\n",
       "      <td>[]</td>\n",
       "    </tr>\n",
       "    <tr>\n",
       "      <th>2</th>\n",
       "      <td>2605986</td>\n",
       "      <td>MOODZ FOOD &amp; DELI</td>\n",
       "      <td>MOODZ FOOD &amp; DELI</td>\n",
       "      <td>2992998.0</td>\n",
       "      <td>Grocery Store</td>\n",
       "      <td>Risk 1 (High)</td>\n",
       "      <td>233 W 119TH ST</td>\n",
       "      <td>11/06/2024</td>\n",
       "      <td>License Re-Inspection</td>\n",
       "      <td>Pass</td>\n",
       "      <td>38. INSECTS, RODENTS, &amp; ANIMALS NOT PRESENT - ...</td>\n",
       "      <td>10</td>\n",
       "      <td>[38, 47, 49, 51, 54, 55, 55, 56, 56, 57]</td>\n",
       "    </tr>\n",
       "    <tr>\n",
       "      <th>3</th>\n",
       "      <td>2606049</td>\n",
       "      <td>SAVE A LOT</td>\n",
       "      <td>SAVE A LOT</td>\n",
       "      <td>2830633.0</td>\n",
       "      <td>Grocery Store</td>\n",
       "      <td>Risk 2 (Medium)</td>\n",
       "      <td>10700-10736 S HALSTED ST</td>\n",
       "      <td>11/06/2024</td>\n",
       "      <td>License Re-Inspection</td>\n",
       "      <td>Pass</td>\n",
       "      <td>No Violations</td>\n",
       "      <td>0</td>\n",
       "      <td>[]</td>\n",
       "    </tr>\n",
       "    <tr>\n",
       "      <th>5</th>\n",
       "      <td>2605995</td>\n",
       "      <td>DUNKIN DONUTS</td>\n",
       "      <td>DUNKIN DONUTS</td>\n",
       "      <td>2835421.0</td>\n",
       "      <td>Restaurant</td>\n",
       "      <td>Risk 2 (Medium)</td>\n",
       "      <td>1465 W 95TH ST</td>\n",
       "      <td>11/06/2024</td>\n",
       "      <td>Canvass Re-Inspection</td>\n",
       "      <td>Pass</td>\n",
       "      <td>39. CONTAMINATION PREVENTED DURING FOOD PREPAR...</td>\n",
       "      <td>7</td>\n",
       "      <td>[39, 39, 41, 47, 49, 53, 55]</td>\n",
       "    </tr>\n",
       "    <tr>\n",
       "      <th>6</th>\n",
       "      <td>2606039</td>\n",
       "      <td>STARBUCKS COFFEE #13710</td>\n",
       "      <td>STARBUCKS</td>\n",
       "      <td>1843207.0</td>\n",
       "      <td>Restaurant</td>\n",
       "      <td>Risk 2 (Medium)</td>\n",
       "      <td>30 W ERIE ST</td>\n",
       "      <td>11/06/2024</td>\n",
       "      <td>Canvass</td>\n",
       "      <td>Fail</td>\n",
       "      <td>38. INSECTS, RODENTS, &amp; ANIMALS NOT PRESENT - ...</td>\n",
       "      <td>4</td>\n",
       "      <td>[38, 52, 55, 55]</td>\n",
       "    </tr>\n",
       "    <tr>\n",
       "      <th>8</th>\n",
       "      <td>2606024</td>\n",
       "      <td>ANDINA COMFORT FOOD</td>\n",
       "      <td>ANDINA COMFORT FOOD</td>\n",
       "      <td>2997252.0</td>\n",
       "      <td>Restaurant</td>\n",
       "      <td>Risk 1 (High)</td>\n",
       "      <td>2325 W TAYLOR ST</td>\n",
       "      <td>11/06/2024</td>\n",
       "      <td>License</td>\n",
       "      <td>Pass</td>\n",
       "      <td>3. MANAGEMENT, FOOD EMPLOYEE AND CONDITIONAL E...</td>\n",
       "      <td>2</td>\n",
       "      <td>[3, 58]</td>\n",
       "    </tr>\n",
       "    <tr>\n",
       "      <th>11</th>\n",
       "      <td>2606040</td>\n",
       "      <td>UNCLE BEN'S GRILL</td>\n",
       "      <td>UNCLE BEN'S GRILL</td>\n",
       "      <td>2835481.0</td>\n",
       "      <td>Restaurant</td>\n",
       "      <td>Risk 1 (High)</td>\n",
       "      <td>456 N DAMEN AVE</td>\n",
       "      <td>11/06/2024</td>\n",
       "      <td>Complaint</td>\n",
       "      <td>Pass</td>\n",
       "      <td>2. CITY OF CHICAGO FOOD SERVICE SANITATION CER...</td>\n",
       "      <td>6</td>\n",
       "      <td>[2, 3, 9, 49, 55, 55]</td>\n",
       "    </tr>\n",
       "    <tr>\n",
       "      <th>12</th>\n",
       "      <td>2606019</td>\n",
       "      <td>TONY'S FAMOUS STEAK &amp; LEMONADE</td>\n",
       "      <td>TONY'S FAMOUS STEAK &amp; LEMONADE</td>\n",
       "      <td>2956392.0</td>\n",
       "      <td>Restaurant</td>\n",
       "      <td>Risk 1 (High)</td>\n",
       "      <td>1642 W 79TH ST</td>\n",
       "      <td>11/06/2024</td>\n",
       "      <td>Canvass Re-Inspection</td>\n",
       "      <td>Fail</td>\n",
       "      <td>49. NON-FOOD/FOOD CONTACT SURFACES CLEAN - Com...</td>\n",
       "      <td>3</td>\n",
       "      <td>[49, 55, 60]</td>\n",
       "    </tr>\n",
       "    <tr>\n",
       "      <th>15</th>\n",
       "      <td>2606048</td>\n",
       "      <td>WALDO COONEY'S PIZZA</td>\n",
       "      <td>WALDO COONEY'S PIZZA</td>\n",
       "      <td>2996990.0</td>\n",
       "      <td>Restaurant</td>\n",
       "      <td>Risk 1 (High)</td>\n",
       "      <td>8541 S PULASKI RD</td>\n",
       "      <td>11/06/2024</td>\n",
       "      <td>License Re-Inspection</td>\n",
       "      <td>Pass</td>\n",
       "      <td>No Violations</td>\n",
       "      <td>0</td>\n",
       "      <td>[]</td>\n",
       "    </tr>\n",
       "  </tbody>\n",
       "</table>\n",
       "</div>"
      ],
      "text/plain": [
       "    inspection_id                        dba_name  \\\n",
       "0         2606078               LOOMIS CITGO INC.   \n",
       "1         2606026                    FAMOUS GRILL   \n",
       "2         2605986               MOODZ FOOD & DELI   \n",
       "3         2606049                      SAVE A LOT   \n",
       "5         2605995                   DUNKIN DONUTS   \n",
       "6         2606039         STARBUCKS COFFEE #13710   \n",
       "8         2606024             ANDINA COMFORT FOOD   \n",
       "11        2606040               UNCLE BEN'S GRILL   \n",
       "12        2606019  TONY'S FAMOUS STEAK & LEMONADE   \n",
       "15        2606048            WALDO COONEY'S PIZZA   \n",
       "\n",
       "                          aka_name  license_#  facility_type             risk  \\\n",
       "0                LOOMIS CITGO INC.  2523672.0    GAS STATION  Risk 2 (Medium)   \n",
       "1               SAM'S FAMOUS GRILL  2961604.0     Restaurant    Risk 1 (High)   \n",
       "2                MOODZ FOOD & DELI  2992998.0  Grocery Store    Risk 1 (High)   \n",
       "3                       SAVE A LOT  2830633.0  Grocery Store  Risk 2 (Medium)   \n",
       "5                    DUNKIN DONUTS  2835421.0     Restaurant  Risk 2 (Medium)   \n",
       "6                        STARBUCKS  1843207.0     Restaurant  Risk 2 (Medium)   \n",
       "8              ANDINA COMFORT FOOD  2997252.0     Restaurant    Risk 1 (High)   \n",
       "11               UNCLE BEN'S GRILL  2835481.0     Restaurant    Risk 1 (High)   \n",
       "12  TONY'S FAMOUS STEAK & LEMONADE  2956392.0     Restaurant    Risk 1 (High)   \n",
       "15            WALDO COONEY'S PIZZA  2996990.0     Restaurant    Risk 1 (High)   \n",
       "\n",
       "                      address inspection_date        inspection_type results  \\\n",
       "0             1356 W 87TH ST       11/07/2024  Canvass Re-Inspection    Pass   \n",
       "1             2926 W 63RD ST       11/06/2024                License    Pass   \n",
       "2             233 W 119TH ST       11/06/2024  License Re-Inspection    Pass   \n",
       "3   10700-10736 S HALSTED ST       11/06/2024  License Re-Inspection    Pass   \n",
       "5             1465 W 95TH ST       11/06/2024  Canvass Re-Inspection    Pass   \n",
       "6               30 W ERIE ST       11/06/2024                Canvass    Fail   \n",
       "8           2325 W TAYLOR ST       11/06/2024                License    Pass   \n",
       "11           456 N DAMEN AVE       11/06/2024              Complaint    Pass   \n",
       "12            1642 W 79TH ST       11/06/2024  Canvass Re-Inspection    Fail   \n",
       "15         8541 S PULASKI RD       11/06/2024  License Re-Inspection    Pass   \n",
       "\n",
       "                                           violations  violation_count  \\\n",
       "0   49. NON-FOOD/FOOD CONTACT SURFACES CLEAN - Com...                5   \n",
       "1                                       No Violations                0   \n",
       "2   38. INSECTS, RODENTS, & ANIMALS NOT PRESENT - ...               10   \n",
       "3                                       No Violations                0   \n",
       "5   39. CONTAMINATION PREVENTED DURING FOOD PREPAR...                7   \n",
       "6   38. INSECTS, RODENTS, & ANIMALS NOT PRESENT - ...                4   \n",
       "8   3. MANAGEMENT, FOOD EMPLOYEE AND CONDITIONAL E...                2   \n",
       "11  2. CITY OF CHICAGO FOOD SERVICE SANITATION CER...                6   \n",
       "12  49. NON-FOOD/FOOD CONTACT SURFACES CLEAN - Com...                3   \n",
       "15                                      No Violations                0   \n",
       "\n",
       "                             violation_codes  \n",
       "0                       [49, 55, 55, 55, 57]  \n",
       "1                                         []  \n",
       "2   [38, 47, 49, 51, 54, 55, 55, 56, 56, 57]  \n",
       "3                                         []  \n",
       "5               [39, 39, 41, 47, 49, 53, 55]  \n",
       "6                           [38, 52, 55, 55]  \n",
       "8                                    [3, 58]  \n",
       "11                     [2, 3, 9, 49, 55, 55]  \n",
       "12                              [49, 55, 60]  \n",
       "15                                        []  "
      ]
     },
     "execution_count": 40,
     "metadata": {},
     "output_type": "execute_result"
    }
   ],
   "source": [
    "chicago.head(10)"
   ]
  },
  {
   "cell_type": "code",
   "execution_count": 41,
   "id": "a352efc3-39ae-4f49-aaba-3b72d5335e37",
   "metadata": {},
   "outputs": [
    {
     "data": {
      "text/html": [
       "<div>\n",
       "<style scoped>\n",
       "    .dataframe tbody tr th:only-of-type {\n",
       "        vertical-align: middle;\n",
       "    }\n",
       "\n",
       "    .dataframe tbody tr th {\n",
       "        vertical-align: top;\n",
       "    }\n",
       "\n",
       "    .dataframe thead th {\n",
       "        text-align: right;\n",
       "    }\n",
       "</style>\n",
       "<table border=\"1\" class=\"dataframe\">\n",
       "  <thead>\n",
       "    <tr style=\"text-align: right;\">\n",
       "      <th></th>\n",
       "      <th>inspection_id</th>\n",
       "      <th>dba_name</th>\n",
       "      <th>aka_name</th>\n",
       "      <th>license_#</th>\n",
       "      <th>facility_type</th>\n",
       "      <th>risk</th>\n",
       "      <th>address</th>\n",
       "      <th>inspection_date</th>\n",
       "      <th>inspection_type</th>\n",
       "      <th>results</th>\n",
       "      <th>violations</th>\n",
       "      <th>violation_count</th>\n",
       "      <th>violation_codes</th>\n",
       "      <th>is_reinspection</th>\n",
       "    </tr>\n",
       "  </thead>\n",
       "  <tbody>\n",
       "    <tr>\n",
       "      <th>0</th>\n",
       "      <td>2606078</td>\n",
       "      <td>LOOMIS CITGO INC.</td>\n",
       "      <td>LOOMIS CITGO INC.</td>\n",
       "      <td>2523672.0</td>\n",
       "      <td>GAS STATION</td>\n",
       "      <td>Risk 2 (Medium)</td>\n",
       "      <td>1356 W 87TH ST</td>\n",
       "      <td>11/07/2024</td>\n",
       "      <td>Canvass Re-Inspection</td>\n",
       "      <td>Pass</td>\n",
       "      <td>49. NON-FOOD/FOOD CONTACT SURFACES CLEAN - Com...</td>\n",
       "      <td>5</td>\n",
       "      <td>[49, 55, 55, 55, 57]</td>\n",
       "      <td>True</td>\n",
       "    </tr>\n",
       "    <tr>\n",
       "      <th>1</th>\n",
       "      <td>2606026</td>\n",
       "      <td>FAMOUS GRILL</td>\n",
       "      <td>SAM'S FAMOUS GRILL</td>\n",
       "      <td>2961604.0</td>\n",
       "      <td>Restaurant</td>\n",
       "      <td>Risk 1 (High)</td>\n",
       "      <td>2926 W 63RD ST</td>\n",
       "      <td>11/06/2024</td>\n",
       "      <td>License</td>\n",
       "      <td>Pass</td>\n",
       "      <td>No Violations</td>\n",
       "      <td>0</td>\n",
       "      <td>[]</td>\n",
       "      <td>False</td>\n",
       "    </tr>\n",
       "    <tr>\n",
       "      <th>2</th>\n",
       "      <td>2605986</td>\n",
       "      <td>MOODZ FOOD &amp; DELI</td>\n",
       "      <td>MOODZ FOOD &amp; DELI</td>\n",
       "      <td>2992998.0</td>\n",
       "      <td>Grocery Store</td>\n",
       "      <td>Risk 1 (High)</td>\n",
       "      <td>233 W 119TH ST</td>\n",
       "      <td>11/06/2024</td>\n",
       "      <td>License Re-Inspection</td>\n",
       "      <td>Pass</td>\n",
       "      <td>38. INSECTS, RODENTS, &amp; ANIMALS NOT PRESENT - ...</td>\n",
       "      <td>10</td>\n",
       "      <td>[38, 47, 49, 51, 54, 55, 55, 56, 56, 57]</td>\n",
       "      <td>True</td>\n",
       "    </tr>\n",
       "  </tbody>\n",
       "</table>\n",
       "</div>"
      ],
      "text/plain": [
       "   inspection_id           dba_name            aka_name  license_#  \\\n",
       "0        2606078  LOOMIS CITGO INC.   LOOMIS CITGO INC.  2523672.0   \n",
       "1        2606026       FAMOUS GRILL  SAM'S FAMOUS GRILL  2961604.0   \n",
       "2        2605986  MOODZ FOOD & DELI   MOODZ FOOD & DELI  2992998.0   \n",
       "\n",
       "   facility_type             risk          address inspection_date  \\\n",
       "0    GAS STATION  Risk 2 (Medium)  1356 W 87TH ST       11/07/2024   \n",
       "1     Restaurant    Risk 1 (High)  2926 W 63RD ST       11/06/2024   \n",
       "2  Grocery Store    Risk 1 (High)  233 W 119TH ST       11/06/2024   \n",
       "\n",
       "         inspection_type results  \\\n",
       "0  Canvass Re-Inspection    Pass   \n",
       "1                License    Pass   \n",
       "2  License Re-Inspection    Pass   \n",
       "\n",
       "                                          violations  violation_count  \\\n",
       "0  49. NON-FOOD/FOOD CONTACT SURFACES CLEAN - Com...                5   \n",
       "1                                      No Violations                0   \n",
       "2  38. INSECTS, RODENTS, & ANIMALS NOT PRESENT - ...               10   \n",
       "\n",
       "                            violation_codes  is_reinspection  \n",
       "0                      [49, 55, 55, 55, 57]             True  \n",
       "1                                        []            False  \n",
       "2  [38, 47, 49, 51, 54, 55, 55, 56, 56, 57]             True  "
      ]
     },
     "execution_count": 41,
     "metadata": {},
     "output_type": "execute_result"
    }
   ],
   "source": [
    "# Next feature, whether the inspection is first or Re-Inspection\n",
    "chicago['is_reinspection'] = chicago['inspection_type'].str.contains('Re-Inspection')\n",
    "chicago.head(3)"
   ]
  },
  {
   "cell_type": "code",
   "execution_count": 42,
   "id": "5cbdfe18-83e5-4b57-8be0-33463b043c25",
   "metadata": {},
   "outputs": [
    {
     "data": {
      "image/png": "[encoded data removed]",
      "text/plain": [
       "<Figure size 640x480 with 1 Axes>"
      ]
     },
     "metadata": {},
     "output_type": "display_data"
    }
   ],
   "source": [
    "# Distribution of violation count depending if it is reinspection \n",
    "sns.violinplot(\n",
    "    data=chicago,\n",
    "    x='violation_count',  \n",
    "    y='is_reinspection', \n",
    "    palette='muted',\n",
    "    hue = 'is_reinspection',\n",
    "    orient='h',\n",
    "    legend = False \n",
    ")\n",
    "\n",
    "# Customize plot labels\n",
    "plt.title('Did Violation Count Decrease After First Visit?', fontsize=16)\n",
    "plt.xlabel('Violation Count', fontsize=12)\n",
    "plt.ylabel('Re-Inspection (True/False)', fontsize=12);"
   ]
  },
  {
   "cell_type": "markdown",
   "id": "29d20f26-be98-4696-aa50-fbfc13d73c13",
   "metadata": {},
   "source": [
    "---\n",
    "# Export Processed Data (for streamlit and modelling)\n",
    "\n",
    "I will export the data worked upon so far in order to make a prototype streamlit app to continue steady progress.\n",
    "\n",
    "Data cleaning and EDA will be revisited many times over in this process as I discover the more hidden nuances of my streamlit app and modelling process."
   ]
  },
  {
   "cell_type": "code",
   "execution_count": 73,
   "id": "3d6c6d6b-5c6e-422b-be1e-cd42b9df4b75",
   "metadata": {},
   "outputs": [],
   "source": [
    "chicago.to_csv('../data/processed_chicago.csv', index = False)"
   ]
  },
  {
   "cell_type": "code",
   "execution_count": null,
   "id": "2dbd3917-3342-43dd-ae3e-d1e77a01975b",
   "metadata": {},
   "outputs": [],
   "source": []
  }
 ],
 "metadata": {
  "kernelspec": {
   "display_name": "Python 3 (ipykernel)",
   "language": "python",
   "name": "python3"
  },
  "language_info": {
   "codemirror_mode": {
    "name": "ipython",
    "version": 3
   },
   "file_extension": ".py",
   "mimetype": "text/x-python",
   "name": "python",
   "nbconvert_exporter": "python",
   "pygments_lexer": "ipython3",
   "version": "3.12.4"
  }
 },
 "nbformat": 4,
 "nbformat_minor": 5
}
