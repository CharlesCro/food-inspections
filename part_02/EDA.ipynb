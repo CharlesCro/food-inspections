{
 "cells": [
  {
   "cell_type": "markdown",
   "id": "579cbe66-ce03-407d-97e1-f08001ddec4f",
   "metadata": {},
   "source": [
    "# Problem Statement (First Draft)"
   ]
  },
  {
   "cell_type": "markdown",
   "id": "5f985f13-58bd-4086-916d-5ae2c74cf2e6",
   "metadata": {},
   "source": [
    "Restaurants may have passed their latest inspection and can be open for business with no problems, but this isn't the full story. More information should be provided to potential customers about the track record of the restaurant so they can make a better informed decision. The goals of this project are:\n",
    "\n",
    "- An app which helps people assess the cleanliness of restaurants via visualizations of the restaurant's inspection statistics. This app could \n",
    "lower the severity of foodborne outbreaks by informing the customers of potential unsafe food practices of restaurants before they choose to eat there.\n",
    "- A classification model to predict the inspection result. (logistic regression for most interpretability ?)\n",
    "\n",
    "**Stretch Goals:**\n",
    "The results of this project could be scaled to work for multiple cities as well as covering other types of establishments such as hotels, housing units, and even swimming pools. With my app I hope to encourage people to make more informed & healthier choices on things which may impact their health and well-being greatly."
   ]
  },
  {
   "cell_type": "markdown",
   "id": "c735b60a-a255-45a1-b383-06a82b02ad17",
   "metadata": {},
   "source": [
    "---\n",
    "## Imports"
   ]
  },
  {
   "cell_type": "code",
   "execution_count": 184,
   "id": "3b4bbfa9-aa62-4314-a991-6509cd3ee236",
   "metadata": {},
   "outputs": [],
   "source": [
    "import pandas as pd\n",
    "import numpy as np\n",
    "import re"
   ]
  },
  {
   "cell_type": "code",
   "execution_count": 185,
   "id": "64aa06e2-1cfb-4a2c-87de-e138dac7ab34",
   "metadata": {},
   "outputs": [],
   "source": [
    "# Setting pandas to display all columns\n",
    "pd.set_option('display.max_columns', None)"
   ]
  },
  {
   "cell_type": "markdown",
   "id": "70f36143-ade3-42af-a5e7-2339e08e52ec",
   "metadata": {},
   "source": [
    "---\n",
    "## Load Data"
   ]
  },
  {
   "cell_type": "markdown",
   "id": "f77ae410-008a-4213-8b14-00685484419e",
   "metadata": {},
   "source": [
    "**Initial Data Collection Research**\n",
    "\n",
    "Two potential data sources\n",
    "- Chicago Data Portal\n",
    "- New York Data Portal\n",
    "\n",
    "All cities/counties in the US provide ample data on restaurant inspection, with varying degrees of accessibility, ranging from needing to file a 'request for info' on a per restaurant basis, displaying the data already in json format on the website to be easily scraped or offering downloadable PDFs, to even having all the inspection results stored in a downloadble .csv file all ready to be worked upon. I begun my search considering only major cities as I want my app to have the highest impact possible upon release, and these cities also had more modern data storage techniques.\n",
    "\n",
    "I narrowed my choices down to Chicago and New York as they came in .csv format with thorough data descriptions and were maintained the best. \n",
    "\n",
    "In the end I chose the Chicago dataset as its information is the perfect level of thoroughness without requiring too much cleaning and reorganization considering the limited timeframe of this capstone project. In the future steps of this project, I must explore how to to aggregate multiple cities restaurant inspection info through varied data collection methods in order to generalize this data for the purposes of scaling my app across many regions."
   ]
  },
  {
   "cell_type": "code",
   "execution_count": 188,
   "id": "f0dcd952-f3f1-495a-8bcd-f17c9c0ff80b",
   "metadata": {},
   "outputs": [
    {
     "data": {
      "text/html": [
       "<div>\n",
       "<style scoped>\n",
       "    .dataframe tbody tr th:only-of-type {\n",
       "        vertical-align: middle;\n",
       "    }\n",
       "\n",
       "    .dataframe tbody tr th {\n",
       "        vertical-align: top;\n",
       "    }\n",
       "\n",
       "    .dataframe thead th {\n",
       "        text-align: right;\n",
       "    }\n",
       "</style>\n",
       "<table border=\"1\" class=\"dataframe\">\n",
       "  <thead>\n",
       "    <tr style=\"text-align: right;\">\n",
       "      <th></th>\n",
       "      <th>Inspection ID</th>\n",
       "      <th>DBA Name</th>\n",
       "      <th>AKA Name</th>\n",
       "      <th>License #</th>\n",
       "      <th>Facility Type</th>\n",
       "      <th>Risk</th>\n",
       "      <th>Address</th>\n",
       "      <th>City</th>\n",
       "      <th>State</th>\n",
       "      <th>Zip</th>\n",
       "      <th>Inspection Date</th>\n",
       "      <th>Inspection Type</th>\n",
       "      <th>Results</th>\n",
       "      <th>Violations</th>\n",
       "      <th>Latitude</th>\n",
       "      <th>Longitude</th>\n",
       "      <th>Location</th>\n",
       "    </tr>\n",
       "  </thead>\n",
       "  <tbody>\n",
       "    <tr>\n",
       "      <th>0</th>\n",
       "      <td>2606078</td>\n",
       "      <td>LOOMIS CITGO INC.</td>\n",
       "      <td>LOOMIS CITGO INC.</td>\n",
       "      <td>2523672.0</td>\n",
       "      <td>GAS STATION</td>\n",
       "      <td>Risk 2 (Medium)</td>\n",
       "      <td>1356 W 87TH ST</td>\n",
       "      <td>CHICAGO</td>\n",
       "      <td>IL</td>\n",
       "      <td>60620.0</td>\n",
       "      <td>11/07/2024</td>\n",
       "      <td>Canvass Re-Inspection</td>\n",
       "      <td>Pass</td>\n",
       "      <td>49. NON-FOOD/FOOD CONTACT SURFACES CLEAN - Com...</td>\n",
       "      <td>41.735973</td>\n",
       "      <td>-87.658068</td>\n",
       "      <td>(41.73597328807627, -87.65806837861354)</td>\n",
       "    </tr>\n",
       "    <tr>\n",
       "      <th>1</th>\n",
       "      <td>2606026</td>\n",
       "      <td>FAMOUS GRILL</td>\n",
       "      <td>SAM'S FAMOUS GRILL</td>\n",
       "      <td>2961604.0</td>\n",
       "      <td>Restaurant</td>\n",
       "      <td>Risk 1 (High)</td>\n",
       "      <td>2926 W 63RD ST</td>\n",
       "      <td>CHICAGO</td>\n",
       "      <td>IL</td>\n",
       "      <td>60629.0</td>\n",
       "      <td>11/06/2024</td>\n",
       "      <td>License</td>\n",
       "      <td>Pass</td>\n",
       "      <td>NaN</td>\n",
       "      <td>41.779173</td>\n",
       "      <td>-87.696989</td>\n",
       "      <td>(41.779173106768134, -87.69698885824073)</td>\n",
       "    </tr>\n",
       "    <tr>\n",
       "      <th>2</th>\n",
       "      <td>2605986</td>\n",
       "      <td>MOODZ FOOD &amp; DELI</td>\n",
       "      <td>MOODZ FOOD &amp; DELI</td>\n",
       "      <td>2992998.0</td>\n",
       "      <td>Grocery Store</td>\n",
       "      <td>Risk 1 (High)</td>\n",
       "      <td>233 W 119TH ST</td>\n",
       "      <td>CHICAGO</td>\n",
       "      <td>IL</td>\n",
       "      <td>60628.0</td>\n",
       "      <td>11/06/2024</td>\n",
       "      <td>License Re-Inspection</td>\n",
       "      <td>Pass</td>\n",
       "      <td>38. INSECTS, RODENTS, &amp; ANIMALS NOT PRESENT - ...</td>\n",
       "      <td>41.677849</td>\n",
       "      <td>-87.628719</td>\n",
       "      <td>(41.67784867927214, -87.62871899471705)</td>\n",
       "    </tr>\n",
       "  </tbody>\n",
       "</table>\n",
       "</div>"
      ],
      "text/plain": [
       "   Inspection ID           DBA Name            AKA Name  License #  \\\n",
       "0        2606078  LOOMIS CITGO INC.   LOOMIS CITGO INC.  2523672.0   \n",
       "1        2606026       FAMOUS GRILL  SAM'S FAMOUS GRILL  2961604.0   \n",
       "2        2605986  MOODZ FOOD & DELI   MOODZ FOOD & DELI  2992998.0   \n",
       "\n",
       "   Facility Type             Risk          Address     City State      Zip  \\\n",
       "0    GAS STATION  Risk 2 (Medium)  1356 W 87TH ST   CHICAGO    IL  60620.0   \n",
       "1     Restaurant    Risk 1 (High)  2926 W 63RD ST   CHICAGO    IL  60629.0   \n",
       "2  Grocery Store    Risk 1 (High)  233 W 119TH ST   CHICAGO    IL  60628.0   \n",
       "\n",
       "  Inspection Date        Inspection Type Results  \\\n",
       "0      11/07/2024  Canvass Re-Inspection    Pass   \n",
       "1      11/06/2024                License    Pass   \n",
       "2      11/06/2024  License Re-Inspection    Pass   \n",
       "\n",
       "                                          Violations   Latitude  Longitude  \\\n",
       "0  49. NON-FOOD/FOOD CONTACT SURFACES CLEAN - Com...  41.735973 -87.658068   \n",
       "1                                                NaN  41.779173 -87.696989   \n",
       "2  38. INSECTS, RODENTS, & ANIMALS NOT PRESENT - ...  41.677849 -87.628719   \n",
       "\n",
       "                                   Location  \n",
       "0   (41.73597328807627, -87.65806837861354)  \n",
       "1  (41.779173106768134, -87.69698885824073)  \n",
       "2   (41.67784867927214, -87.62871899471705)  "
      ]
     },
     "execution_count": 188,
     "metadata": {},
     "output_type": "execute_result"
    }
   ],
   "source": [
    "# Chicago Restaurant Inspections\n",
    "chicago = pd.read_csv('../data/inspection_chicago.csv')\n",
    "chicago.head(3)"
   ]
  },
  {
   "cell_type": "code",
   "execution_count": 189,
   "id": "8173ba07-f94c-42d0-8c92-6b7642bc4c98",
   "metadata": {},
   "outputs": [
    {
     "name": "stdout",
     "output_type": "stream",
     "text": [
      "Chicago Inspection Dataset Shape: \n",
      "108678 observations \n",
      "17 features\n"
     ]
    }
   ],
   "source": [
    "print(f'Chicago Inspection Dataset Shape: \\n{chicago.shape[0]} observations \\n{chicago.shape[1]} features')"
   ]
  },
  {
   "cell_type": "code",
   "execution_count": 190,
   "id": "9ae9b97c-56a1-40a7-9c0c-6824c56a117e",
   "metadata": {},
   "outputs": [
    {
     "name": "stdout",
     "output_type": "stream",
     "text": [
      "<class 'pandas.core.frame.DataFrame'>\n",
      "RangeIndex: 108678 entries, 0 to 108677\n",
      "Data columns (total 17 columns):\n",
      " #   Column           Non-Null Count   Dtype  \n",
      "---  ------           --------------   -----  \n",
      " 0   Inspection ID    108678 non-null  int64  \n",
      " 1   DBA Name         108678 non-null  object \n",
      " 2   AKA Name         108420 non-null  object \n",
      " 3   License #        108674 non-null  float64\n",
      " 4   Facility Type    108098 non-null  object \n",
      " 5   Risk             108655 non-null  object \n",
      " 6   Address          108678 non-null  object \n",
      " 7   City             108602 non-null  object \n",
      " 8   State            108637 non-null  object \n",
      " 9   Zip              108669 non-null  float64\n",
      " 10  Inspection Date  108678 non-null  object \n",
      " 11  Inspection Type  108678 non-null  object \n",
      " 12  Results          108678 non-null  object \n",
      " 13  Violations       77337 non-null   object \n",
      " 14  Latitude         108273 non-null  float64\n",
      " 15  Longitude        108273 non-null  float64\n",
      " 16  Location         108273 non-null  object \n",
      "dtypes: float64(4), int64(1), object(12)\n",
      "memory usage: 14.1+ MB\n"
     ]
    }
   ],
   "source": [
    "chicago.info()"
   ]
  },
  {
   "cell_type": "markdown",
   "id": "b41cd3a2-b443-4f3a-813a-6103d5e70ed8",
   "metadata": {},
   "source": [
    "--- \n",
    "## Data Cleaning"
   ]
  },
  {
   "cell_type": "code",
   "execution_count": 192,
   "id": "b4802f0c-8182-4f3f-8511-fb2dd3ad8039",
   "metadata": {},
   "outputs": [
    {
     "name": "stdout",
     "output_type": "stream",
     "text": [
      "No duplicates found.\n"
     ]
    }
   ],
   "source": [
    "# Checking for duplicate entries\n",
    "if chicago.duplicated().any():\n",
    "    print(\"There are duplicate rows in the dataset.\")\n",
    "else:\n",
    "    print(\"No duplicates found.\")"
   ]
  },
  {
   "cell_type": "code",
   "execution_count": 193,
   "id": "2f935368-7d96-45d6-9a20-b921b5606c17",
   "metadata": {},
   "outputs": [
    {
     "data": {
      "text/plain": [
       "Inspection ID          0\n",
       "DBA Name               0\n",
       "AKA Name             258\n",
       "License #              4\n",
       "Facility Type        580\n",
       "Risk                  23\n",
       "Address                0\n",
       "City                  76\n",
       "State                 41\n",
       "Zip                    9\n",
       "Inspection Date        0\n",
       "Inspection Type        0\n",
       "Results                0\n",
       "Violations         31341\n",
       "Latitude             405\n",
       "Longitude            405\n",
       "Location             405\n",
       "dtype: int64"
      ]
     },
     "execution_count": 193,
     "metadata": {},
     "output_type": "execute_result"
    }
   ],
   "source": [
    "# Assessment of Null Values\n",
    "chicago.isna().sum()"
   ]
  },
  {
   "cell_type": "markdown",
   "id": "2ce27bb6-c838-46cc-9b68-5b70efa10c3c",
   "metadata": {},
   "source": [
    "- `Latitude`, `Longitude` and `Location` can be dropped as `Address` column is full and the address is what I will need for my app.\n",
    "- Same goes for `City` and `State`, they will be dropped since for this project we will only be dealing with Chicago, IL establishments.\n",
    "- `AKA Name` will be useful for my app but not needed for modelling, in the app I will allow a user to look up an establishment by `Address` if `AKA Name` is not available.\n",
    "- I will likely drop missing `Facility Type` entries since there are so few, however I should research further in EDA why these values might be missing. Perhap it was because of a specific type of inspection or maybe it's missing completely at random.\n",
    "- Very small amounts of missing `License #` and `Risk` values I will double check what these entries are before dropping them as well..\n",
    "\n",
    "- The bulk of my cleaning will be to parse the `Violations` column and using EDA to understand how it relates to `Inspection Type` and `Result`. In regards to rows where it is missing, the end goal is to engineer entirely new features such as `violation_count` in which case all these missing values will just be a 0, assuming the missing values aren't diminished greatly once I filter the dataset depending on type of inspection, TBD in EDA."
   ]
  },
  {
   "cell_type": "code",
   "execution_count": 195,
   "id": "fde49cd7-5fc4-4583-83cd-75294c250f29",
   "metadata": {},
   "outputs": [],
   "source": [
    "# Rename Columns\n",
    "chicago.columns = chicago.columns.str.replace(' ', '_').str.lower()"
   ]
  },
  {
   "cell_type": "code",
   "execution_count": 196,
   "id": "ed802481-0433-4b5c-a196-26dd3b7efab9",
   "metadata": {},
   "outputs": [],
   "source": [
    "# Drop unnecessary columns for the time being\n",
    "chicago.drop(columns = ['latitude', 'longitude', 'city', 'state', 'zip'], inplace = True)"
   ]
  },
  {
   "cell_type": "code",
   "execution_count": 197,
   "id": "38f22e5d-4d04-421d-8b41-865ab4884c16",
   "metadata": {},
   "outputs": [],
   "source": [
    "# Drop rows with negligible missing values\n",
    "chicago.dropna(subset = ['aka_name', 'license_#', 'risk'], inplace = True)"
   ]
  },
  {
   "cell_type": "code",
   "execution_count": 198,
   "id": "f9cda948-2f53-447e-a5f4-7558d5fe8f11",
   "metadata": {},
   "outputs": [
    {
     "name": "stdout",
     "output_type": "stream",
     "text": [
      "<class 'pandas.core.frame.DataFrame'>\n",
      "Index: 108401 entries, 0 to 108677\n",
      "Data columns (total 12 columns):\n",
      " #   Column           Non-Null Count   Dtype  \n",
      "---  ------           --------------   -----  \n",
      " 0   inspection_id    108401 non-null  int64  \n",
      " 1   dba_name         108401 non-null  object \n",
      " 2   aka_name         108401 non-null  object \n",
      " 3   license_#        108401 non-null  float64\n",
      " 4   facility_type    107877 non-null  object \n",
      " 5   risk             108401 non-null  object \n",
      " 6   address          108401 non-null  object \n",
      " 7   inspection_date  108401 non-null  object \n",
      " 8   inspection_type  108401 non-null  object \n",
      " 9   results          108401 non-null  object \n",
      " 10  violations       77244 non-null   object \n",
      " 11  location         108000 non-null  object \n",
      "dtypes: float64(1), int64(1), object(10)\n",
      "memory usage: 10.8+ MB\n"
     ]
    }
   ],
   "source": [
    "chicago.info()"
   ]
  },
  {
   "cell_type": "markdown",
   "id": "66593ae9-1dc9-4a5b-a408-e3ffcf964493",
   "metadata": {},
   "source": [
    "## EDA / Feature Engineering"
   ]
  },
  {
   "cell_type": "code",
   "execution_count": 200,
   "id": "a3800b5c-4155-4e7f-8bf3-31bc92a53a48",
   "metadata": {
    "scrolled": true
   },
   "outputs": [
    {
     "data": {
      "image/png": "[encoded data removed]",
      "text/plain": [
       "<Figure size 640x480 with 1 Axes>"
      ]
     },
     "metadata": {},
     "output_type": "display_data"
    }
   ],
   "source": [
    "# Inspection Type Frequency\n",
    "chicago['inspection_type'].value_counts(normalize = True).plot(kind = 'barh');"
   ]
  },
  {
   "cell_type": "markdown",
   "id": "75c104eb-e511-4261-8237-a6d06bff4f8d",
   "metadata": {},
   "source": [
    "**Three Most Common Inspection Types**\n",
    "\n",
    "- Canvass: the most common type of inspection performed at a frequency relative to the `risk` of the establishment.\n",
    "- License: when the inspection is done as a requirement for the establishment to receive its license to operate.\n",
    "- Complaint: when the inspection is done in response to a complaint against the establishment.\n",
    "\n",
    "**Re-inspections can occur for most of the inspection types.**"
   ]
  },
  {
   "cell_type": "code",
   "execution_count": 202,
   "id": "70a22664-62ef-4093-ac5c-f0e4c3a8df6a",
   "metadata": {},
   "outputs": [
    {
     "data": {
      "image/png": "[encoded data removed]",
      "text/plain": [
       "<Figure size 640x480 with 1 Axes>"
      ]
     },
     "metadata": {},
     "output_type": "display_data"
    }
   ],
   "source": [
    "# Inspecton Results\n",
    "chicago['results'].value_counts(normalize = True).plot(kind = 'barh');"
   ]
  },
  {
   "cell_type": "markdown",
   "id": "17b72e5e-58a2-42c5-96e2-2aaafe06c6af",
   "metadata": {},
   "source": [
    "- More than 40% of inspections result in a Pass\n",
    "- Almost 1 in 5 inspections result in a Fail"
   ]
  },
  {
   "cell_type": "code",
   "execution_count": 204,
   "id": "ef5fe182-acc5-494e-8146-16544e64c3a7",
   "metadata": {},
   "outputs": [
    {
     "data": {
      "text/plain": [
       "risk\n",
       "Risk 1 (High)      0.782557\n",
       "Risk 2 (Medium)    0.156142\n",
       "Risk 3 (Low)       0.060922\n",
       "All                0.000378\n",
       "Name: proportion, dtype: float64"
      ]
     },
     "execution_count": 204,
     "metadata": {},
     "output_type": "execute_result"
    }
   ],
   "source": [
    "# Assesing Risk Column\n",
    "chicago['risk'].value_counts(normalize = True)"
   ]
  },
  {
   "cell_type": "markdown",
   "id": "1fe0ab9b-e82a-4b89-8500-169ee5bb8b8b",
   "metadata": {},
   "source": [
    "- Risk 1 (High) being so frequent makes intuitive sense as inspections are performed at a rate relative to the risk factor, so this data would be biased to have higher risk establishments since they are inspected more frequently."
   ]
  },
  {
   "cell_type": "markdown",
   "id": "ff680b43-5713-4688-b4b0-ee567d86ee92",
   "metadata": {},
   "source": [
    "---\n",
    "### A bulk of my initial work is taking this violations column and turning it into more useful features in order to be visualized."
   ]
  },
  {
   "cell_type": "code",
   "execution_count": 207,
   "id": "3b99c4ed-bda6-4205-9ac1-ed8b9b4703c1",
   "metadata": {},
   "outputs": [
    {
     "name": "stdout",
     "output_type": "stream",
     "text": [
      "49. NON-FOOD/FOOD CONTACT SURFACES CLEAN - Comments: 4-601.11(C) : MUST CLEAN DUST BUILD UP AND DEBRIS FROM WINDOW SILLS,SERVICE COUNTER SHELVING UNITS,WALK IN COOLER-FAN GUARD COVERS AND SHELVING UNITS | 55. PHYSICAL FACILITIES INSTALLED, MAINTAINED & CLEAN - Comments:  6-201.13: MUST REPAIR OR REPLACE STAINED CEILING TILES AT PREP AREA,REAR STORAGE AREA,DAMAGED WALL AT ENTRY.MUST REMOVE MOLD FROM WALL IN REAR STORAGE NEXT TO COOLER. | 55. PHYSICAL FACILITIES INSTALLED, MAINTAINED & CLEAN - Comments:  6-201.11 : MUST CLEAN DIRT AND DUST BUILD UP FROM WALLS & CEILING IN WALK IN COOLER,REAR DISH WASHING AREA. | 55. PHYSICAL FACILITIES INSTALLED, MAINTAINED & CLEAN - Comments:  6-201.17 : MUST CLEAN DUST BUILD UP FROM CEILING VENTS THROUGHOUT INCLUDING TOILET ROOMS. | 57. ALL FOOD EMPLOYEES HAVE FOOD HANDLER TRAINING - Comments: : 2-102.13 : OBSERVED NO FOOD HANDLERS TRAINING FOR EMPLOYEES.\n",
      "============================================================\n",
      "38. INSECTS, RODENTS, & ANIMALS NOT PRESENT - Comments:  OBSERVED NUMEROUS DEAD ROACHES ON GLUEBOARD IN PREP AND SALES AREA. INSTRUCTED MANAGER TO REMOVE. | 47. FOOD & NON-FOOD CONTACT SURFACES CLEANABLE, PROPERLY DESIGNED, CONSTRUCTED & USED - Comments:  OBSERVED RAW WOOD SURFACES IN PREP, ALES AND STORAGE AREAS. INSTRUCTED MANAGER TO SEAL ALL RAW WOOD SURFACES TO MAKE SMOOTH AND EASILY CLEANABLE. | 49. NON-FOOD/FOOD CONTACT SURFACES CLEAN - Comments:  OBSERVED DEBRIS ON INTERIOR AND EXTERIOR SURFACES OF SHELVING UNITS, PREP TABLES, HOLDING UNITS, COOLERS, FREEZERS. INSTRUCTED MANAGER TO CLEAN AND MAINTAIN. | 51. PLUMBING INSTALLED; PROPER BACKFLOW DEVICES - Comments:  OBSERVED LEAKING FAUCET ON 3-COMPARTMENT SINK. INSTRUCTED MANAGER TO REPAIR AND MAINTAIN. | 54. GARBAGE & REFUSE PROPERLY DISPOSED; FACILITIES MAINTAINED - Comments: OBSERVED NO RECEPTACLE AT THE HAND WASHING SINKS IN PREP AREA. INSTRUCTED MANAGER TO PROVIDE RECEPTACLES IN ALL AREAS WASTE IS COMMONLY DISCARDED. | 55. PHYSICAL FACILITIES INSTALLED, MAINTAINED & CLEAN - Comments: OBSERVED DAMAGED FLOOR TILES IN PREP, SALES AND STORAGE AREAS. INSTRUCTED MANAGER TO REPLACE ALL DAMAGED FLOOR TILES AND MAINTAIN. | 55. PHYSICAL FACILITIES INSTALLED, MAINTAINED & CLEAN - Comments: OBSERVED UNUSED ARTICLES AND EQUIPMENT IN REAR PREP AND STORAGE AREAS. INSTRUCTED MANAGER TO REMOVE ALL UNNECESSARY ITEMS TO PREVENT PEST HARBORAGE. | 56. ADEQUATE VENTILATION & LIGHTING; DESIGNATED AREAS USED - Comments:  OBSERVED VENTILATION HOOD NOT OPERABLE ABOVE FRYERS IN REAR PREP AREA. INSTRUCTED MANAGER TO REPAIR AND MAINTAIN. | 56. ADEQUATE VENTILATION & LIGHTING; DESIGNATED AREAS USED - Comments:  OBSERVED VENTILATION FAN NOT OPERABLE INSIDE WASHROOM. INSTRUCTED MANAGER TO REPAIR AND MAINTAIN. | 57. ALL FOOD EMPLOYEES HAVE FOOD HANDLER TRAINING - Comments:  OBSERVED NO FOOD HANDLER TRAINING AVAILABLE. INSTRUCTED MANAGER TO PROVIDE FOOD HANDLER TRAINING FOR EMPLOYEES.\n",
      "============================================================\n",
      "39. CONTAMINATION PREVENTED DURING FOOD PREPARATION, STORAGE & DISPLAY - Comments: OBSERVED ICE SCOOP STORED IN VARIOUS ICE CONTAINERS. INSTRUCTED TO MAINTAIN SCOOP IN A CLEAN SANITIZED MANNER. | 39. CONTAMINATION PREVENTED DURING FOOD PREPARATION, STORAGE & DISPLAY - Comments:  ALL BEVERAGE DISPENSOR NOZZLES IN NEED OF CLEANING TO REMOVE ALL BUILD UP. INSTRUCTED TO CLEAN AND MAINTAIN. | 41. WIPING CLOTHS: PROPERLY USED & STORED - Comments:  ALL WIPING CLOTHS IN NEED OF STORING IN A CLEAN SANITIZING SOLUTION. INSTRUCTED TO CHANGE SOLUTION MORE FREQUENTLY. | 47. FOOD & NON-FOOD CONTACT SURFACES CLEANABLE, PROPERLY DESIGNED, CONSTRUCTED & USED - Comments: ALL STORAGE SHELVES ON FRONT SERVICE LINE AREA IN NEED OF CLEANING TO REMOVE ALL FOOD SPILLS. INSTRUCTED TO CLEAN AND MAINTAIN | 49. NON-FOOD/FOOD CONTACT SURFACES CLEAN - Comments: FOOD EQUIPMENT IN NEED OF CLEANING TO REMOVE ALL FOOD SPILLS AND BUILD UP. INSTRUCTED TO CLEAN AND MAINTAIN.  | 53. TOILET FACILITIES: PROPERLY CONSTRUCTED, SUPPLIED, & CLEANED - Comments: INSTRUCTED TO DETAIL CLEAN ALL PLUMBING FIXTURES AND MAINTAIN CLEAN. CORRECT AND MAINTAIN. | 55. PHYSICAL FACILITIES INSTALLED, MAINTAINED & CLEAN - Comments: FLOORS IN DINING AREA AND SERVICE AREA IN NEED OF DETAIL CLEANING TO REMOVE ALL DEBRIS. INSTRUCTED TO DETAIL CLEAN AND MAINTAIN.\n",
      "============================================================\n"
     ]
    }
   ],
   "source": [
    "# Observing how violation field is formatted so I can determine how I'd like to parse the values\n",
    "filter = ~chicago['violations'].isnull()\n",
    "for violation in chicago[filter]['violations'][:3]:\n",
    "    print(violation)\n",
    "    print('='*60)"
   ]
  },
  {
   "cell_type": "markdown",
   "id": "20b84b5e-f5a4-4d65-b66f-8a36ced1ca3f",
   "metadata": {},
   "source": [
    "**Parsing Violation Notes**\n",
    "\n",
    "- My first task is to extract only the violation code and descriptor elements of this submission, for example, if one violation is written as:\n",
    "\n",
    "`49. NON-FOOD/FOOD CONTACT SURFACES CLEAN - Comments: 4-601.11(C) : MUST CLEAN DUST BUILD UP AND DEBRIS FROM WINDOW SILLS,SERVICE COUNTER SHELVING UNITS,WALK IN COOLER-FAN GUARD COVERS AND SHELVING UNITS |`\n",
    "\n",
    "I would like to end up with: `49. NON-FOOD/FOOD CONTACT SURFACES CLEAN`\n",
    "\n",
    "- There is an identifiable pattern in how the violations are written in which I can already see how I can pattern match to retreive the violation part alone: the violation code followed by a period and then the descriptor of the code, then a hyphen before Comments, then a separating bar (|) and the pattern is repeated for each violation.\n",
    "\n",
    "I can save it as a stretch goal to use NLP techniques to evaluate the `Comments` section and display key words such as type of rodents found and type of dirt discovered."
   ]
  },
  {
   "cell_type": "markdown",
   "id": "fc3c0215-e74c-40f0-bb3d-b94b62c7348b",
   "metadata": {},
   "source": [
    "---\n",
    "### Parsing Violations Column (Testing)"
   ]
  },
  {
   "cell_type": "code",
   "execution_count": 233,
   "id": "1c5041a7-cbb6-48c7-bd50-3811b7e991d9",
   "metadata": {},
   "outputs": [
    {
     "name": "stdout",
     "output_type": "stream",
     "text": [
      "LOOMIS CITGO INC. Inspection Violations on 11/07/2024:\n",
      "49. NON-FOOD/FOOD CONTACT SURFACES CLEAN - Comments: 4-601.11(C) : MUST CLEAN DUST BUILD UP AND DEBRIS FROM WINDOW SILLS,SERVICE COUNTER SHELVING UNITS,WALK IN COOLER-FAN GUARD COVERS AND SHELVING UNITS\n",
      "------------------------------\n",
      "55. PHYSICAL FACILITIES INSTALLED, MAINTAINED & CLEAN - Comments:  6-201.13: MUST REPAIR OR REPLACE STAINED CEILING TILES AT PREP AREA,REAR STORAGE AREA,DAMAGED WALL AT ENTRY.MUST REMOVE MOLD FROM WALL IN REAR STORAGE NEXT TO COOLER.\n",
      "------------------------------\n",
      "55. PHYSICAL FACILITIES INSTALLED, MAINTAINED & CLEAN - Comments:  6-201.11 : MUST CLEAN DIRT AND DUST BUILD UP FROM WALLS & CEILING IN WALK IN COOLER,REAR DISH WASHING AREA.\n",
      "------------------------------\n",
      "55. PHYSICAL FACILITIES INSTALLED, MAINTAINED & CLEAN - Comments:  6-201.17 : MUST CLEAN DUST BUILD UP FROM CEILING VENTS THROUGHOUT INCLUDING TOILET ROOMS.\n",
      "------------------------------\n",
      "57. ALL FOOD EMPLOYEES HAVE FOOD HANDLER TRAINING - Comments: : 2-102.13 : OBSERVED NO FOOD HANDLERS TRAINING FOR EMPLOYEES.\n",
      "------------------------------\n",
      "Inspection Summary:\n",
      "Violation Count (new feature): 5\n",
      "List of Violation Codes (new feature): [49, 55, 55, 55, 57]\n",
      "============================================================\n",
      "MOODZ FOOD & DELI Inspection Violations on 11/06/2024:\n",
      "38. INSECTS, RODENTS, & ANIMALS NOT PRESENT - Comments:  OBSERVED NUMEROUS DEAD ROACHES ON GLUEBOARD IN PREP AND SALES AREA. INSTRUCTED MANAGER TO REMOVE.\n",
      "------------------------------\n",
      "47. FOOD & NON-FOOD CONTACT SURFACES CLEANABLE, PROPERLY DESIGNED, CONSTRUCTED & USED - Comments:  OBSERVED RAW WOOD SURFACES IN PREP, ALES AND STORAGE AREAS. INSTRUCTED MANAGER TO SEAL ALL RAW WOOD SURFACES TO MAKE SMOOTH AND EASILY CLEANABLE.\n",
      "------------------------------\n",
      "49. NON-FOOD/FOOD CONTACT SURFACES CLEAN - Comments:  OBSERVED DEBRIS ON INTERIOR AND EXTERIOR SURFACES OF SHELVING UNITS, PREP TABLES, HOLDING UNITS, COOLERS, FREEZERS. INSTRUCTED MANAGER TO CLEAN AND MAINTAIN.\n",
      "------------------------------\n",
      "51. PLUMBING INSTALLED; PROPER BACKFLOW DEVICES - Comments:  OBSERVED LEAKING FAUCET ON 3-COMPARTMENT SINK. INSTRUCTED MANAGER TO REPAIR AND MAINTAIN.\n",
      "------------------------------\n",
      "54. GARBAGE & REFUSE PROPERLY DISPOSED; FACILITIES MAINTAINED - Comments: OBSERVED NO RECEPTACLE AT THE HAND WASHING SINKS IN PREP AREA. INSTRUCTED MANAGER TO PROVIDE RECEPTACLES IN ALL AREAS WASTE IS COMMONLY DISCARDED.\n",
      "------------------------------\n",
      "55. PHYSICAL FACILITIES INSTALLED, MAINTAINED & CLEAN - Comments: OBSERVED DAMAGED FLOOR TILES IN PREP, SALES AND STORAGE AREAS. INSTRUCTED MANAGER TO REPLACE ALL DAMAGED FLOOR TILES AND MAINTAIN.\n",
      "------------------------------\n",
      "55. PHYSICAL FACILITIES INSTALLED, MAINTAINED & CLEAN - Comments: OBSERVED UNUSED ARTICLES AND EQUIPMENT IN REAR PREP AND STORAGE AREAS. INSTRUCTED MANAGER TO REMOVE ALL UNNECESSARY ITEMS TO PREVENT PEST HARBORAGE.\n",
      "------------------------------\n",
      "56. ADEQUATE VENTILATION & LIGHTING; DESIGNATED AREAS USED - Comments:  OBSERVED VENTILATION HOOD NOT OPERABLE ABOVE FRYERS IN REAR PREP AREA. INSTRUCTED MANAGER TO REPAIR AND MAINTAIN.\n",
      "------------------------------\n",
      "56. ADEQUATE VENTILATION & LIGHTING; DESIGNATED AREAS USED - Comments:  OBSERVED VENTILATION FAN NOT OPERABLE INSIDE WASHROOM. INSTRUCTED MANAGER TO REPAIR AND MAINTAIN.\n",
      "------------------------------\n",
      "57. ALL FOOD EMPLOYEES HAVE FOOD HANDLER TRAINING - Comments:  OBSERVED NO FOOD HANDLER TRAINING AVAILABLE. INSTRUCTED MANAGER TO PROVIDE FOOD HANDLER TRAINING FOR EMPLOYEES.\n",
      "------------------------------\n",
      "Inspection Summary:\n",
      "Violation Count (new feature): 10\n",
      "List of Violation Codes (new feature): [38, 47, 49, 51, 54, 55, 55, 56, 56, 57]\n",
      "============================================================\n",
      "DUNKIN DONUTS Inspection Violations on 11/06/2024:\n",
      "39. CONTAMINATION PREVENTED DURING FOOD PREPARATION, STORAGE & DISPLAY - Comments: OBSERVED ICE SCOOP STORED IN VARIOUS ICE CONTAINERS. INSTRUCTED TO MAINTAIN SCOOP IN A CLEAN SANITIZED MANNER.\n",
      "------------------------------\n",
      "39. CONTAMINATION PREVENTED DURING FOOD PREPARATION, STORAGE & DISPLAY - Comments:  ALL BEVERAGE DISPENSOR NOZZLES IN NEED OF CLEANING TO REMOVE ALL BUILD UP. INSTRUCTED TO CLEAN AND MAINTAIN.\n",
      "------------------------------\n",
      "41. WIPING CLOTHS: PROPERLY USED & STORED - Comments:  ALL WIPING CLOTHS IN NEED OF STORING IN A CLEAN SANITIZING SOLUTION. INSTRUCTED TO CHANGE SOLUTION MORE FREQUENTLY.\n",
      "------------------------------\n",
      "47. FOOD & NON-FOOD CONTACT SURFACES CLEANABLE, PROPERLY DESIGNED, CONSTRUCTED & USED - Comments: ALL STORAGE SHELVES ON FRONT SERVICE LINE AREA IN NEED OF CLEANING TO REMOVE ALL FOOD SPILLS. INSTRUCTED TO CLEAN AND MAINTAIN\n",
      "------------------------------\n",
      "49. NON-FOOD/FOOD CONTACT SURFACES CLEAN - Comments: FOOD EQUIPMENT IN NEED OF CLEANING TO REMOVE ALL FOOD SPILLS AND BUILD UP. INSTRUCTED TO CLEAN AND MAINTAIN. \n",
      "------------------------------\n",
      "53. TOILET FACILITIES: PROPERLY CONSTRUCTED, SUPPLIED, & CLEANED - Comments: INSTRUCTED TO DETAIL CLEAN ALL PLUMBING FIXTURES AND MAINTAIN CLEAN. CORRECT AND MAINTAIN.\n",
      "------------------------------\n",
      "55. PHYSICAL FACILITIES INSTALLED, MAINTAINED & CLEAN - Comments: FLOORS IN DINING AREA AND SERVICE AREA IN NEED OF DETAIL CLEANING TO REMOVE ALL DEBRIS. INSTRUCTED TO DETAIL CLEAN AND MAINTAIN.\n",
      "------------------------------\n",
      "Inspection Summary:\n",
      "Violation Count (new feature): 7\n",
      "List of Violation Codes (new feature): [39, 39, 41, 47, 49, 53, 55]\n",
      "============================================================\n"
     ]
    }
   ],
   "source": [
    "# Test for loop to with print functions to see if my parsing methods are working properly\n",
    "\n",
    "filter = ~chicago['violations'].isnull()\n",
    "for i, violations in enumerate(chicago[filter]['violations'][:3]):\n",
    "    name = chicago[filter].iloc[i]['dba_name']\n",
    "    date = chicago[filter].iloc[i]['inspection_date']\n",
    "    \n",
    "    print(f'{name} Inspection Violations on {date}:')\n",
    "    \n",
    "    violations_list_str = violations.split(' | ')\n",
    "    \n",
    "    violations_list_code = [] # one of the features I'd like to create\n",
    "    violation_count = len(violations_list_str) # other new desired feature\n",
    "    \n",
    "    for v in violations_list_str:\n",
    "        violations_list_code.append(int(re.search(r'^\\d{1,2}', v).group())) \n",
    "        print(v)\n",
    "        print('-'*30)\n",
    "\n",
    "    print('Inspection Summary:')\n",
    "    print(f'Violation Count (new feature): {violation_count}')\n",
    "    print(f'List of Violation Codes (new feature): {violations_list_code}')\n",
    "    print('='*60)"
   ]
  },
  {
   "cell_type": "markdown",
   "id": "9dd59624-31ee-4194-8d85-06d1b3e79a36",
   "metadata": {},
   "source": [
    "- This seems to be working well, now to redefine these steps as cleaner functions and find a way to go over the entire dataset so I can append the new columns with these specific features.\n",
    "- I want to break apart this violations column piece by piece so I can work with and display the info in a much easier fashion, this will be my main goal to start off this project.\n",
    "\n",
    "- An establishment can receive one or more of 45 distinct violations (violation \n",
    "numbers 1-44 and 70) Violations are broken down further by critical or serious violations (violation number 1-14 and 15-\r\n",
    "29, respectively. I will need to add logic to categorize these violations as such, and that will be another useful feature.--"
   ]
  },
  {
   "cell_type": "code",
   "execution_count": null,
   "id": "5747924d-f1d6-4b86-aa7c-25c1566f3cdc",
   "metadata": {},
   "outputs": [],
   "source": []
  }
 ],
 "metadata": {
  "kernelspec": {
   "display_name": "Python 3 (ipykernel)",
   "language": "python",
   "name": "python3"
  },
  "language_info": {
   "codemirror_mode": {
    "name": "ipython",
    "version": 3
   },
   "file_extension": ".py",
   "mimetype": "text/x-python",
   "name": "python",
   "nbconvert_exporter": "python",
   "pygments_lexer": "ipython3",
   "version": "3.12.4"
  }
 },
 "nbformat": 4,
 "nbformat_minor": 5
}
