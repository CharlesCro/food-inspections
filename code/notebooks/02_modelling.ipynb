{
 "cells": [
  {
   "cell_type": "markdown",
   "id": "b06362b2-fd6e-48da-a18c-9adff8a85527",
   "metadata": {},
   "source": [
    "# Predicting Inspection Results\n",
    "---"
   ]
  },
  {
   "cell_type": "markdown",
   "id": "a07693bd-5f6e-4b8a-aa65-920f9bf9e81f",
   "metadata": {},
   "source": [
    "## Objectives\n",
    "\n",
    "- I am tackling a binary classification problem involving restaurant health inspections using the data I processed in `01_EDA`. I am choosing logistic regression in the hopes that a restaurant owner could interpret the coefficients to better understand what factors of a restaurant have the highest odds of affecting the success/failure of an inspection.\n",
    "- The two classes I am trying to predict will be Pass/Fail.\n",
    "- I will aim to optimize my model for **recall** (*AKA sensitivity or true positive rate*) since missing a positive case (inspection failure) could have significant consequences, akin to missing a diagnosis or not detecting a dangerous item going through a metal detector.\n",
    "\n",
    "---"
   ]
  },
  {
   "cell_type": "markdown",
   "id": "b7d953c7-c056-4f9a-8410-d64cfc3096e1",
   "metadata": {},
   "source": [
    "### Imports"
   ]
  },
  {
   "cell_type": "code",
   "execution_count": 1,
   "id": "d1d65708-534a-4cbd-afdb-699f9dfb4f64",
   "metadata": {},
   "outputs": [],
   "source": [
    "import ast # for evaluating violation codes column properly\n",
    "\n",
    "import pandas as pd\n",
    "import matplotlib.pyplot as plt\n",
    "import numpy as np\n",
    "import seaborn as sns\n",
    "import pickle\n",
    "\n",
    "# sklearn\n",
    "from sklearn.linear_model import LogisticRegression\n",
    "from sklearn.compose import ColumnTransformer\n",
    "from sklearn.preprocessing import StandardScaler, OneHotEncoder\n",
    "from sklearn.model_selection import train_test_split, GridSearchCV\n",
    "from sklearn.pipeline import Pipeline\n",
    "from sklearn.metrics import (confusion_matrix, accuracy_score, recall_score, precision_score, f1_score, roc_curve, roc_auc_score, precision_recall_curve)"
   ]
  },
  {
   "cell_type": "code",
   "execution_count": 2,
   "id": "b3abe36c-0300-42ca-876e-7e718683d8b1",
   "metadata": {},
   "outputs": [],
   "source": [
    "# Setting pandas to display all columns.\n",
    "pd.set_option('display.max_columns', None)"
   ]
  },
  {
   "cell_type": "markdown",
   "id": "b946490a-4fd1-4563-9370-c0709c196875",
   "metadata": {},
   "source": [
    "---\n",
    "### Load Dataset"
   ]
  },
  {
   "cell_type": "code",
   "execution_count": 3,
   "id": "f939dfe6-06d2-411d-8278-e455e43987d9",
   "metadata": {},
   "outputs": [],
   "source": [
    "file_path = '../../data/processed_chicago.csv'"
   ]
  },
  {
   "cell_type": "code",
   "execution_count": 4,
   "id": "171d681e-250e-4299-b9db-0e78c2b1ea51",
   "metadata": {},
   "outputs": [
    {
     "data": {
      "text/html": [
       "<div>\n",
       "<style scoped>\n",
       "    .dataframe tbody tr th:only-of-type {\n",
       "        vertical-align: middle;\n",
       "    }\n",
       "\n",
       "    .dataframe tbody tr th {\n",
       "        vertical-align: top;\n",
       "    }\n",
       "\n",
       "    .dataframe thead th {\n",
       "        text-align: right;\n",
       "    }\n",
       "</style>\n",
       "<table border=\"1\" class=\"dataframe\">\n",
       "  <thead>\n",
       "    <tr style=\"text-align: right;\">\n",
       "      <th></th>\n",
       "      <th>inspection_id</th>\n",
       "      <th>dba_name</th>\n",
       "      <th>aka_name</th>\n",
       "      <th>license</th>\n",
       "      <th>facility_type</th>\n",
       "      <th>risk</th>\n",
       "      <th>address</th>\n",
       "      <th>inspection_date</th>\n",
       "      <th>inspection_type</th>\n",
       "      <th>results</th>\n",
       "      <th>violations</th>\n",
       "      <th>name_cleaned</th>\n",
       "      <th>num_inspections</th>\n",
       "      <th>violation_count</th>\n",
       "      <th>violation_codes</th>\n",
       "      <th>severity_levels</th>\n",
       "      <th>average_severity</th>\n",
       "      <th>is_reinspection</th>\n",
       "    </tr>\n",
       "  </thead>\n",
       "  <tbody>\n",
       "    <tr>\n",
       "      <th>0</th>\n",
       "      <td>2608132</td>\n",
       "      <td>S.K.Y.</td>\n",
       "      <td>S.K.Y.</td>\n",
       "      <td>2516847</td>\n",
       "      <td>Restaurant</td>\n",
       "      <td>Risk 1 (High)</td>\n",
       "      <td>1239 W 18TH ST</td>\n",
       "      <td>2024-11-27</td>\n",
       "      <td>Standard Inspection</td>\n",
       "      <td>Pass</td>\n",
       "      <td>22. PROPER COLD HOLDING TEMPERATURES - Comment...</td>\n",
       "      <td>SKY</td>\n",
       "      <td>7</td>\n",
       "      <td>6</td>\n",
       "      <td>[22, 51, 55, 55, 55, 56]</td>\n",
       "      <td>[9, 5, 2, 2, 2, 5]</td>\n",
       "      <td>4.166667</td>\n",
       "      <td>False</td>\n",
       "    </tr>\n",
       "    <tr>\n",
       "      <th>1</th>\n",
       "      <td>2608152</td>\n",
       "      <td>601 W COMPANIES</td>\n",
       "      <td>601 W COMPANIES</td>\n",
       "      <td>2988676</td>\n",
       "      <td>Restaurant</td>\n",
       "      <td>Risk 1 (High)</td>\n",
       "      <td>200 E RANDOLPH ST</td>\n",
       "      <td>2024-11-27</td>\n",
       "      <td>Required Inspection to Open</td>\n",
       "      <td>Fail</td>\n",
       "      <td>1. PERSON IN CHARGE PRESENT, DEMONSTRATES KNOW...</td>\n",
       "      <td>601 W COMPANIES</td>\n",
       "      <td>52</td>\n",
       "      <td>7</td>\n",
       "      <td>[1, 5, 33, 36, 48, 50, 58]</td>\n",
       "      <td>[8, 10, 7, 4, 4, 6, 1]</td>\n",
       "      <td>5.714286</td>\n",
       "      <td>False</td>\n",
       "    </tr>\n",
       "    <tr>\n",
       "      <th>2</th>\n",
       "      <td>2608140</td>\n",
       "      <td>MC DONALD'S</td>\n",
       "      <td>MC DONALD'S</td>\n",
       "      <td>1045468</td>\n",
       "      <td>Restaurant</td>\n",
       "      <td>Risk 2 (Medium)</td>\n",
       "      <td>6737 S PULASKI RD</td>\n",
       "      <td>2024-11-27</td>\n",
       "      <td>Standard Inspection</td>\n",
       "      <td>Pass</td>\n",
       "      <td>22. PROPER COLD HOLDING TEMPERATURES - Comment...</td>\n",
       "      <td>MC DONALDS</td>\n",
       "      <td>1</td>\n",
       "      <td>2</td>\n",
       "      <td>[22, 55]</td>\n",
       "      <td>[9, 2]</td>\n",
       "      <td>5.500000</td>\n",
       "      <td>False</td>\n",
       "    </tr>\n",
       "  </tbody>\n",
       "</table>\n",
       "</div>"
      ],
      "text/plain": [
       "   inspection_id         dba_name         aka_name  license facility_type  \\\n",
       "0        2608132           S.K.Y.           S.K.Y.  2516847    Restaurant   \n",
       "1        2608152  601 W COMPANIES  601 W COMPANIES  2988676    Restaurant   \n",
       "2        2608140      MC DONALD'S      MC DONALD'S  1045468    Restaurant   \n",
       "\n",
       "              risk             address inspection_date  \\\n",
       "0    Risk 1 (High)     1239 W 18TH ST       2024-11-27   \n",
       "1    Risk 1 (High)  200 E RANDOLPH ST       2024-11-27   \n",
       "2  Risk 2 (Medium)  6737 S PULASKI RD       2024-11-27   \n",
       "\n",
       "               inspection_type results  \\\n",
       "0          Standard Inspection    Pass   \n",
       "1  Required Inspection to Open    Fail   \n",
       "2          Standard Inspection    Pass   \n",
       "\n",
       "                                          violations     name_cleaned  \\\n",
       "0  22. PROPER COLD HOLDING TEMPERATURES - Comment...              SKY   \n",
       "1  1. PERSON IN CHARGE PRESENT, DEMONSTRATES KNOW...  601 W COMPANIES   \n",
       "2  22. PROPER COLD HOLDING TEMPERATURES - Comment...       MC DONALDS   \n",
       "\n",
       "   num_inspections  violation_count             violation_codes  \\\n",
       "0                7                6    [22, 51, 55, 55, 55, 56]   \n",
       "1               52                7  [1, 5, 33, 36, 48, 50, 58]   \n",
       "2                1                2                    [22, 55]   \n",
       "\n",
       "          severity_levels  average_severity  is_reinspection  \n",
       "0      [9, 5, 2, 2, 2, 5]          4.166667            False  \n",
       "1  [8, 10, 7, 4, 4, 6, 1]          5.714286            False  \n",
       "2                  [9, 2]          5.500000            False  "
      ]
     },
     "execution_count": 4,
     "metadata": {},
     "output_type": "execute_result"
    }
   ],
   "source": [
    "chicago = pd.read_csv(file_path)\n",
    "chicago.head(3)"
   ]
  },
  {
   "cell_type": "code",
   "execution_count": 5,
   "id": "0abf94f4-0a9a-45d3-9486-aa85efd3f658",
   "metadata": {},
   "outputs": [
    {
     "data": {
      "image/png": "[encoded data removed]",
      "text/plain": [
       "<Figure size 800x600 with 1 Axes>"
      ]
     },
     "metadata": {
      "needs_background": "dark"
     },
     "output_type": "display_data"
    }
   ],
   "source": [
    "# Baseline Accuracy (as bar chart)\n",
    "plt.figure(figsize=(8, 6))\n",
    "\n",
    "ax = sns.barplot(x = ['(Negative Class)', '(Positive Class)'],\n",
    "                 y = chicago['results'].value_counts().values,\n",
    "                 palette = ['deepskyblue', 'red'],\n",
    "                 hue = ['Pass (Negative Class)', 'Fail (Positive Class)'],\n",
    "                 legend = False)\n",
    "# Annotated bars\n",
    "for i, val in enumerate(chicago['results'].value_counts().values):\n",
    "    count_norm = chicago['results'].value_counts(normalize=True)[i]\n",
    "    ax.text(i, val / 2,\n",
    "            f\"{count_norm:.2%}\",\n",
    "            ha = 'center',\n",
    "            va = 'center',\n",
    "            fontsize = 18,\n",
    "            color = 'white',\n",
    "            fontweight = 'bold')\n",
    "\n",
    "# Customization altered to match aesthetic of presentation slides.\n",
    "plt.title('Class Balance', fontsize = 25, color = 'white', fontweight = 'bold')\n",
    "plt.xlabel('Pass                   Fail', fontsize = 25, color = 'white', fontweight = 'bold')\n",
    "plt.yticks([], [])\n",
    "plt.xticks(color = 'white', fontweight = 'bold')\n",
    "\n",
    "# Set to transparent.\n",
    "ax.patch.set_alpha(0)  \n",
    "plt.gcf().patch.set_alpha(0)  \n",
    "\n",
    "# Remove borders.\n",
    "for spine in ['top', 'right', 'left', 'bottom']:\n",
    "    ax.spines[spine].set_visible(False)\n",
    "\n",
    "# Save plot to images folder.\n",
    "plt.savefig('../../images/class_balance.png');"
   ]
  },
  {
   "cell_type": "markdown",
   "id": "9fbe2294-2499-4087-a7c4-32911351dd22",
   "metadata": {},
   "source": [
    "---\n",
    "- I have chosen `Fail` as our positive class because  our features are health codes which were broken, so it would make more intuitive sense to have my coefficients be interpretable as *'Breaking this code makes you this % more likely to fail'* in order to place emphasis on the major health codes to avoid breaking. Much like a medical diagnosis or fraud detection, the positive class is not necesarrily always a good thing."
   ]
  },
  {
   "cell_type": "markdown",
   "id": "99b3b4a7-6395-4a5d-b580-7123e65130de",
   "metadata": {},
   "source": [
    "---\n",
    "# Defining Functions"
   ]
  },
  {
   "cell_type": "code",
   "execution_count": null,
   "id": "11104021-5137-4c86-9ed2-f074090886de",
   "metadata": {},
   "outputs": [],
   "source": [
    "def evaluate_model(model, X_train, y_train, X_test, y_test, model_name, threshold = 0.5):\n",
    "    '''\n",
    "        This function calculates relevent evaluation metrics such as accuracy, precision, recall, and F1 Score for\n",
    "        the train and test set and plots the ROC Curve and Confusion Matrix of a model's test predictions\n",
    "\n",
    "        Parameters:\n",
    "            model - a fitted sklearn classification model.\n",
    "            X_train - explanatory variables in the train set.\n",
    "            y_train - target labels in the train set.\n",
    "            X_test - explanatory variables in the test set.\n",
    "            y_test - target labels in the test set.\n",
    "            threshold - the decision threshold for determining which label to classify based on predicted probability.\n",
    "            model_name - name of model to be used for plot labels and when naming image to be exported with savefig().\n",
    "\n",
    "        Returns:\n",
    "            A dictionary 'test_metrics' with accuracy score, precision score, recall score, and F1 score of the test set.\n",
    "    '''\n",
    "    # Generate predictions for test and train set.\n",
    "    y_train_prob = model.predict_proba(X_train)[:, 1]\n",
    "    y_train_pred = (y_train_prob >= threshold).astype(int)\n",
    "\n",
    "    y_prob = model.predict_proba(X_test)[:, 1]\n",
    "    y_pred = (y_prob >= threshold).astype(int)\n",
    "\n",
    "    # Calculate scores for train and test set.\n",
    "    train_metrics = {\n",
    "        'Accuracy': accuracy_score(y_train, y_train_pred),\n",
    "        'Precision': precision_score(y_train, y_train_pred, pos_label = 1, zero_division=0),\n",
    "        'Recall': recall_score(y_train, y_train_pred, pos_label = 1, zero_division=0),\n",
    "        'F1 Score': f1_score(y_train, y_train_pred, pos_label = 1, zero_division=0)\n",
    "    }\n",
    "\n",
    "    test_metrics = {\n",
    "        'Accuracy': accuracy_score(y_test, y_pred),\n",
    "        'Precision': precision_score(y_test, y_pred, pos_label = 1, zero_division=0),\n",
    "        'Recall': recall_score(y_test, y_pred, pos_label = 1, zero_division=0),\n",
    "        'F1 Score': f1_score(y_test, y_pred, pos_label = 1, zero_division=0)\n",
    "    }\n",
    "    # Print performance of train set.\n",
    "    print('Training Scores:')\n",
    "    for metric, score in train_metrics.items():\n",
    "        print(f'{metric}: {score:.3f}')\n",
    "\n",
    "    # Plot the test performance.\n",
    "    fig, axes = plt.subplots(1, 2, figsize = (12, 6))\n",
    "\n",
    "    # Plot ROC Curve.\n",
    "    fpr, tpr, _ = roc_curve(y_test, y_prob, pos_label = 1)\n",
    "    auc = roc_auc_score(y_test, y_prob)\n",
    "    axes[0].plot(fpr, tpr, label = f'ROC Curve (AUC = {auc:.2f})', color = 'red', linewidth = 2)\n",
    "    axes[0].plot([0, 1], [0, 1], linestyle = '--', color = 'gray', label = 'Random Guess')\n",
    "    axes[0].set_xlabel('False Positive Rate')\n",
    "    axes[0].set_ylabel('True Positive Rate')\n",
    "    axes[0].set_title(f'ROC Curve of {model_name}')\n",
    "    axes[0].legend(loc = 'lower right')\n",
    "\n",
    "    # Plot Confusion Matrix.\n",
    "    cm = confusion_matrix(y_test, y_pred, labels = [1, 0])\n",
    "    sns.heatmap(cm, annot = True, fmt = 'd', cmap = 'Blues',\n",
    "                xticklabels = ['Fail', 'Pass'], yticklabels = ['Fail', 'Pass'],\n",
    "                cbar = False, ax = axes[1])\n",
    "    axes[1].set_xlabel('Predicted Label')\n",
    "    axes[1].set_ylabel('True Label')\n",
    "    axes[1].set_title(f'Confusion Matrix of {model_name}')\n",
    "\n",
    "    plt.tight_layout()\n",
    "    plt.show();\n",
    "\n",
    "    # Save plot to images folder.\n",
    "    plt.savefig(f'../../images/evaluation_{model_name}.png')\n",
    "\n",
    "    return test_metrics"
   ]
  },
  {
   "cell_type": "code",
   "execution_count": 7,
   "id": "43387b51-0968-4d9b-9844-48805045b571",
   "metadata": {},
   "outputs": [],
   "source": [
    "def get_odds(model):\n",
    "    '''\n",
    "        Calculates the odds ratios for features from a logistic regression model, \n",
    "        filtering to show only features related to violation codes.\n",
    "    \n",
    "        Parameters:\n",
    "            model - a fitted sklearn logistic regression model.\n",
    "    \n",
    "        Returns:\n",
    "            coeff_df - a DataFrame of features and their respective odds sorted by the odds\n",
    "    '''\n",
    "    features = model.named_steps['preprocessor'].get_feature_names_out()\n",
    "    coefficients = model.named_steps['classifier'].coef_.flatten()\n",
    "    \n",
    "    coeff_df = pd.DataFrame({\n",
    "        'Feature': features,\n",
    "        'Odds': np.exp(coefficients)\n",
    "    }).sort_values(by = 'Odds', ascending = False)\n",
    "    \n",
    "    # Filter to only show violation codes as that's what I'd like to interpret\n",
    "    coeff_df = coeff_df[coeff_df['Feature'].str.contains('violation_code')]\n",
    "    # Clean up names a bit\n",
    "    coeff_df['Feature'] = coeff_df['Feature'].str.replace('remainder__', '')\n",
    "\n",
    "    return coeff_df"
   ]
  },
  {
   "cell_type": "code",
   "execution_count": 8,
   "id": "41c9ebc6-47fa-48be-a922-3ed9c01daff2",
   "metadata": {},
   "outputs": [],
   "source": [
    "# Instantiating DataFrame to store all test results in order to be compared upon later\n",
    "model_test_results = pd.DataFrame(columns = ['Accuracy', 'Precision', 'Recall', 'F1 Score'])"
   ]
  },
  {
   "cell_type": "markdown",
   "id": "3b06df34-092f-4be4-b7e6-d0207029a643",
   "metadata": {},
   "source": [
    "---\n",
    "### Preprocessing"
   ]
  },
  {
   "cell_type": "code",
   "execution_count": 9,
   "id": "900db695-0257-41b2-b56e-47568f106caf",
   "metadata": {},
   "outputs": [
    {
     "data": {
      "text/plain": [
       "results\n",
       "0    0.77043\n",
       "1    0.22957\n",
       "Name: proportion, dtype: float64"
      ]
     },
     "execution_count": 9,
     "metadata": {},
     "output_type": "execute_result"
    }
   ],
   "source": [
    "# Encoding class labels (Pass = 0, Fail = 1).\n",
    "chicago['results'] = chicago['results'].map({'Pass': 0, 'Fail': 1})\n",
    "chicago['results'].value_counts(normalize = True)"
   ]
  },
  {
   "cell_type": "code",
   "execution_count": 10,
   "id": "6783975f-dc7e-4723-9d9f-80ea85ea16b0",
   "metadata": {},
   "outputs": [
    {
     "data": {
      "text/plain": [
       "(62556, 82)"
      ]
     },
     "execution_count": 10,
     "metadata": {},
     "output_type": "execute_result"
    }
   ],
   "source": [
    "# My violation_codes column kept getting treated as a string, this is the quickest and easiest solution for the time being.\n",
    "chicago['violation_codes'] = chicago['violation_codes'].apply(ast.literal_eval)\n",
    "\n",
    "# Flatten and get all unique violation codes\n",
    "unique_codes = sorted(set(code for codes in chicago['violation_codes'] for code in codes))\n",
    "\n",
    "# Hard coding one-hot encoded columns\n",
    "for code in unique_codes:\n",
    "    column_name = f'violation_code_{code}'\n",
    "    chicago[column_name] = chicago['violation_codes'].apply(lambda x: 1 if code in x else 0)\n",
    "\n",
    "chicago.shape"
   ]
  },
  {
   "cell_type": "code",
   "execution_count": 11,
   "id": "ab5d5495-c6d2-4ffe-8ac6-894259fbe906",
   "metadata": {},
   "outputs": [
    {
     "data": {
      "text/html": [
       "<div>\n",
       "<style scoped>\n",
       "    .dataframe tbody tr th:only-of-type {\n",
       "        vertical-align: middle;\n",
       "    }\n",
       "\n",
       "    .dataframe tbody tr th {\n",
       "        vertical-align: top;\n",
       "    }\n",
       "\n",
       "    .dataframe thead th {\n",
       "        text-align: right;\n",
       "    }\n",
       "</style>\n",
       "<table border=\"1\" class=\"dataframe\">\n",
       "  <thead>\n",
       "    <tr style=\"text-align: right;\">\n",
       "      <th></th>\n",
       "      <th>inspection_id</th>\n",
       "      <th>dba_name</th>\n",
       "      <th>aka_name</th>\n",
       "      <th>license</th>\n",
       "      <th>facility_type</th>\n",
       "      <th>risk</th>\n",
       "      <th>address</th>\n",
       "      <th>inspection_date</th>\n",
       "      <th>inspection_type</th>\n",
       "      <th>results</th>\n",
       "      <th>violations</th>\n",
       "      <th>name_cleaned</th>\n",
       "      <th>num_inspections</th>\n",
       "      <th>violation_count</th>\n",
       "      <th>violation_codes</th>\n",
       "      <th>severity_levels</th>\n",
       "      <th>average_severity</th>\n",
       "      <th>is_reinspection</th>\n",
       "      <th>violation_code_1</th>\n",
       "      <th>violation_code_2</th>\n",
       "      <th>violation_code_3</th>\n",
       "      <th>violation_code_4</th>\n",
       "      <th>violation_code_5</th>\n",
       "      <th>violation_code_6</th>\n",
       "      <th>violation_code_7</th>\n",
       "      <th>violation_code_8</th>\n",
       "      <th>violation_code_9</th>\n",
       "      <th>violation_code_10</th>\n",
       "      <th>violation_code_11</th>\n",
       "      <th>violation_code_12</th>\n",
       "      <th>violation_code_13</th>\n",
       "      <th>violation_code_14</th>\n",
       "      <th>violation_code_15</th>\n",
       "      <th>violation_code_16</th>\n",
       "      <th>violation_code_17</th>\n",
       "      <th>violation_code_18</th>\n",
       "      <th>violation_code_19</th>\n",
       "      <th>violation_code_20</th>\n",
       "      <th>violation_code_21</th>\n",
       "      <th>violation_code_22</th>\n",
       "      <th>violation_code_23</th>\n",
       "      <th>violation_code_24</th>\n",
       "      <th>violation_code_25</th>\n",
       "      <th>violation_code_26</th>\n",
       "      <th>violation_code_27</th>\n",
       "      <th>violation_code_28</th>\n",
       "      <th>violation_code_29</th>\n",
       "      <th>violation_code_30</th>\n",
       "      <th>violation_code_31</th>\n",
       "      <th>violation_code_32</th>\n",
       "      <th>violation_code_33</th>\n",
       "      <th>violation_code_34</th>\n",
       "      <th>violation_code_35</th>\n",
       "      <th>violation_code_36</th>\n",
       "      <th>violation_code_37</th>\n",
       "      <th>violation_code_38</th>\n",
       "      <th>violation_code_39</th>\n",
       "      <th>violation_code_40</th>\n",
       "      <th>violation_code_41</th>\n",
       "      <th>violation_code_42</th>\n",
       "      <th>violation_code_43</th>\n",
       "      <th>violation_code_44</th>\n",
       "      <th>violation_code_45</th>\n",
       "      <th>violation_code_46</th>\n",
       "      <th>violation_code_47</th>\n",
       "      <th>violation_code_48</th>\n",
       "      <th>violation_code_49</th>\n",
       "      <th>violation_code_50</th>\n",
       "      <th>violation_code_51</th>\n",
       "      <th>violation_code_52</th>\n",
       "      <th>violation_code_53</th>\n",
       "      <th>violation_code_54</th>\n",
       "      <th>violation_code_55</th>\n",
       "      <th>violation_code_56</th>\n",
       "      <th>violation_code_57</th>\n",
       "      <th>violation_code_58</th>\n",
       "      <th>violation_code_59</th>\n",
       "      <th>violation_code_60</th>\n",
       "      <th>violation_code_61</th>\n",
       "      <th>violation_code_62</th>\n",
       "      <th>violation_code_63</th>\n",
       "      <th>violation_code_64</th>\n",
       "    </tr>\n",
       "  </thead>\n",
       "  <tbody>\n",
       "    <tr>\n",
       "      <th>0</th>\n",
       "      <td>2608132</td>\n",
       "      <td>S.K.Y.</td>\n",
       "      <td>S.K.Y.</td>\n",
       "      <td>2516847</td>\n",
       "      <td>Restaurant</td>\n",
       "      <td>Risk 1 (High)</td>\n",
       "      <td>1239 W 18TH ST</td>\n",
       "      <td>2024-11-27</td>\n",
       "      <td>Standard Inspection</td>\n",
       "      <td>0</td>\n",
       "      <td>22. PROPER COLD HOLDING TEMPERATURES - Comment...</td>\n",
       "      <td>SKY</td>\n",
       "      <td>7</td>\n",
       "      <td>6</td>\n",
       "      <td>[22, 51, 55, 55, 55, 56]</td>\n",
       "      <td>[9, 5, 2, 2, 2, 5]</td>\n",
       "      <td>4.166667</td>\n",
       "      <td>False</td>\n",
       "      <td>0</td>\n",
       "      <td>0</td>\n",
       "      <td>0</td>\n",
       "      <td>0</td>\n",
       "      <td>0</td>\n",
       "      <td>0</td>\n",
       "      <td>0</td>\n",
       "      <td>0</td>\n",
       "      <td>0</td>\n",
       "      <td>0</td>\n",
       "      <td>0</td>\n",
       "      <td>0</td>\n",
       "      <td>0</td>\n",
       "      <td>0</td>\n",
       "      <td>0</td>\n",
       "      <td>0</td>\n",
       "      <td>0</td>\n",
       "      <td>0</td>\n",
       "      <td>0</td>\n",
       "      <td>0</td>\n",
       "      <td>0</td>\n",
       "      <td>1</td>\n",
       "      <td>0</td>\n",
       "      <td>0</td>\n",
       "      <td>0</td>\n",
       "      <td>0</td>\n",
       "      <td>0</td>\n",
       "      <td>0</td>\n",
       "      <td>0</td>\n",
       "      <td>0</td>\n",
       "      <td>0</td>\n",
       "      <td>0</td>\n",
       "      <td>0</td>\n",
       "      <td>0</td>\n",
       "      <td>0</td>\n",
       "      <td>0</td>\n",
       "      <td>0</td>\n",
       "      <td>0</td>\n",
       "      <td>0</td>\n",
       "      <td>0</td>\n",
       "      <td>0</td>\n",
       "      <td>0</td>\n",
       "      <td>0</td>\n",
       "      <td>0</td>\n",
       "      <td>0</td>\n",
       "      <td>0</td>\n",
       "      <td>0</td>\n",
       "      <td>0</td>\n",
       "      <td>0</td>\n",
       "      <td>0</td>\n",
       "      <td>1</td>\n",
       "      <td>0</td>\n",
       "      <td>0</td>\n",
       "      <td>0</td>\n",
       "      <td>1</td>\n",
       "      <td>1</td>\n",
       "      <td>0</td>\n",
       "      <td>0</td>\n",
       "      <td>0</td>\n",
       "      <td>0</td>\n",
       "      <td>0</td>\n",
       "      <td>0</td>\n",
       "      <td>0</td>\n",
       "      <td>0</td>\n",
       "    </tr>\n",
       "    <tr>\n",
       "      <th>1</th>\n",
       "      <td>2608152</td>\n",
       "      <td>601 W COMPANIES</td>\n",
       "      <td>601 W COMPANIES</td>\n",
       "      <td>2988676</td>\n",
       "      <td>Restaurant</td>\n",
       "      <td>Risk 1 (High)</td>\n",
       "      <td>200 E RANDOLPH ST</td>\n",
       "      <td>2024-11-27</td>\n",
       "      <td>Required Inspection to Open</td>\n",
       "      <td>1</td>\n",
       "      <td>1. PERSON IN CHARGE PRESENT, DEMONSTRATES KNOW...</td>\n",
       "      <td>601 W COMPANIES</td>\n",
       "      <td>52</td>\n",
       "      <td>7</td>\n",
       "      <td>[1, 5, 33, 36, 48, 50, 58]</td>\n",
       "      <td>[8, 10, 7, 4, 4, 6, 1]</td>\n",
       "      <td>5.714286</td>\n",
       "      <td>False</td>\n",
       "      <td>1</td>\n",
       "      <td>0</td>\n",
       "      <td>0</td>\n",
       "      <td>0</td>\n",
       "      <td>1</td>\n",
       "      <td>0</td>\n",
       "      <td>0</td>\n",
       "      <td>0</td>\n",
       "      <td>0</td>\n",
       "      <td>0</td>\n",
       "      <td>0</td>\n",
       "      <td>0</td>\n",
       "      <td>0</td>\n",
       "      <td>0</td>\n",
       "      <td>0</td>\n",
       "      <td>0</td>\n",
       "      <td>0</td>\n",
       "      <td>0</td>\n",
       "      <td>0</td>\n",
       "      <td>0</td>\n",
       "      <td>0</td>\n",
       "      <td>0</td>\n",
       "      <td>0</td>\n",
       "      <td>0</td>\n",
       "      <td>0</td>\n",
       "      <td>0</td>\n",
       "      <td>0</td>\n",
       "      <td>0</td>\n",
       "      <td>0</td>\n",
       "      <td>0</td>\n",
       "      <td>0</td>\n",
       "      <td>0</td>\n",
       "      <td>1</td>\n",
       "      <td>0</td>\n",
       "      <td>0</td>\n",
       "      <td>1</td>\n",
       "      <td>0</td>\n",
       "      <td>0</td>\n",
       "      <td>0</td>\n",
       "      <td>0</td>\n",
       "      <td>0</td>\n",
       "      <td>0</td>\n",
       "      <td>0</td>\n",
       "      <td>0</td>\n",
       "      <td>0</td>\n",
       "      <td>0</td>\n",
       "      <td>0</td>\n",
       "      <td>1</td>\n",
       "      <td>0</td>\n",
       "      <td>1</td>\n",
       "      <td>0</td>\n",
       "      <td>0</td>\n",
       "      <td>0</td>\n",
       "      <td>0</td>\n",
       "      <td>0</td>\n",
       "      <td>0</td>\n",
       "      <td>0</td>\n",
       "      <td>1</td>\n",
       "      <td>0</td>\n",
       "      <td>0</td>\n",
       "      <td>0</td>\n",
       "      <td>0</td>\n",
       "      <td>0</td>\n",
       "      <td>0</td>\n",
       "    </tr>\n",
       "    <tr>\n",
       "      <th>2</th>\n",
       "      <td>2608140</td>\n",
       "      <td>MC DONALD'S</td>\n",
       "      <td>MC DONALD'S</td>\n",
       "      <td>1045468</td>\n",
       "      <td>Restaurant</td>\n",
       "      <td>Risk 2 (Medium)</td>\n",
       "      <td>6737 S PULASKI RD</td>\n",
       "      <td>2024-11-27</td>\n",
       "      <td>Standard Inspection</td>\n",
       "      <td>0</td>\n",
       "      <td>22. PROPER COLD HOLDING TEMPERATURES - Comment...</td>\n",
       "      <td>MC DONALDS</td>\n",
       "      <td>1</td>\n",
       "      <td>2</td>\n",
       "      <td>[22, 55]</td>\n",
       "      <td>[9, 2]</td>\n",
       "      <td>5.500000</td>\n",
       "      <td>False</td>\n",
       "      <td>0</td>\n",
       "      <td>0</td>\n",
       "      <td>0</td>\n",
       "      <td>0</td>\n",
       "      <td>0</td>\n",
       "      <td>0</td>\n",
       "      <td>0</td>\n",
       "      <td>0</td>\n",
       "      <td>0</td>\n",
       "      <td>0</td>\n",
       "      <td>0</td>\n",
       "      <td>0</td>\n",
       "      <td>0</td>\n",
       "      <td>0</td>\n",
       "      <td>0</td>\n",
       "      <td>0</td>\n",
       "      <td>0</td>\n",
       "      <td>0</td>\n",
       "      <td>0</td>\n",
       "      <td>0</td>\n",
       "      <td>0</td>\n",
       "      <td>1</td>\n",
       "      <td>0</td>\n",
       "      <td>0</td>\n",
       "      <td>0</td>\n",
       "      <td>0</td>\n",
       "      <td>0</td>\n",
       "      <td>0</td>\n",
       "      <td>0</td>\n",
       "      <td>0</td>\n",
       "      <td>0</td>\n",
       "      <td>0</td>\n",
       "      <td>0</td>\n",
       "      <td>0</td>\n",
       "      <td>0</td>\n",
       "      <td>0</td>\n",
       "      <td>0</td>\n",
       "      <td>0</td>\n",
       "      <td>0</td>\n",
       "      <td>0</td>\n",
       "      <td>0</td>\n",
       "      <td>0</td>\n",
       "      <td>0</td>\n",
       "      <td>0</td>\n",
       "      <td>0</td>\n",
       "      <td>0</td>\n",
       "      <td>0</td>\n",
       "      <td>0</td>\n",
       "      <td>0</td>\n",
       "      <td>0</td>\n",
       "      <td>0</td>\n",
       "      <td>0</td>\n",
       "      <td>0</td>\n",
       "      <td>0</td>\n",
       "      <td>1</td>\n",
       "      <td>0</td>\n",
       "      <td>0</td>\n",
       "      <td>0</td>\n",
       "      <td>0</td>\n",
       "      <td>0</td>\n",
       "      <td>0</td>\n",
       "      <td>0</td>\n",
       "      <td>0</td>\n",
       "      <td>0</td>\n",
       "    </tr>\n",
       "  </tbody>\n",
       "</table>\n",
       "</div>"
      ],
      "text/plain": [
       "   inspection_id         dba_name         aka_name  license facility_type  \\\n",
       "0        2608132           S.K.Y.           S.K.Y.  2516847    Restaurant   \n",
       "1        2608152  601 W COMPANIES  601 W COMPANIES  2988676    Restaurant   \n",
       "2        2608140      MC DONALD'S      MC DONALD'S  1045468    Restaurant   \n",
       "\n",
       "              risk             address inspection_date  \\\n",
       "0    Risk 1 (High)     1239 W 18TH ST       2024-11-27   \n",
       "1    Risk 1 (High)  200 E RANDOLPH ST       2024-11-27   \n",
       "2  Risk 2 (Medium)  6737 S PULASKI RD       2024-11-27   \n",
       "\n",
       "               inspection_type  results  \\\n",
       "0          Standard Inspection        0   \n",
       "1  Required Inspection to Open        1   \n",
       "2          Standard Inspection        0   \n",
       "\n",
       "                                          violations     name_cleaned  \\\n",
       "0  22. PROPER COLD HOLDING TEMPERATURES - Comment...              SKY   \n",
       "1  1. PERSON IN CHARGE PRESENT, DEMONSTRATES KNOW...  601 W COMPANIES   \n",
       "2  22. PROPER COLD HOLDING TEMPERATURES - Comment...       MC DONALDS   \n",
       "\n",
       "   num_inspections  violation_count             violation_codes  \\\n",
       "0                7                6    [22, 51, 55, 55, 55, 56]   \n",
       "1               52                7  [1, 5, 33, 36, 48, 50, 58]   \n",
       "2                1                2                    [22, 55]   \n",
       "\n",
       "          severity_levels  average_severity  is_reinspection  \\\n",
       "0      [9, 5, 2, 2, 2, 5]          4.166667            False   \n",
       "1  [8, 10, 7, 4, 4, 6, 1]          5.714286            False   \n",
       "2                  [9, 2]          5.500000            False   \n",
       "\n",
       "   violation_code_1  violation_code_2  violation_code_3  violation_code_4  \\\n",
       "0                 0                 0                 0                 0   \n",
       "1                 1                 0                 0                 0   \n",
       "2                 0                 0                 0                 0   \n",
       "\n",
       "   violation_code_5  violation_code_6  violation_code_7  violation_code_8  \\\n",
       "0                 0                 0                 0                 0   \n",
       "1                 1                 0                 0                 0   \n",
       "2                 0                 0                 0                 0   \n",
       "\n",
       "   violation_code_9  violation_code_10  violation_code_11  violation_code_12  \\\n",
       "0                 0                  0                  0                  0   \n",
       "1                 0                  0                  0                  0   \n",
       "2                 0                  0                  0                  0   \n",
       "\n",
       "   violation_code_13  violation_code_14  violation_code_15  violation_code_16  \\\n",
       "0                  0                  0                  0                  0   \n",
       "1                  0                  0                  0                  0   \n",
       "2                  0                  0                  0                  0   \n",
       "\n",
       "   violation_code_17  violation_code_18  violation_code_19  violation_code_20  \\\n",
       "0                  0                  0                  0                  0   \n",
       "1                  0                  0                  0                  0   \n",
       "2                  0                  0                  0                  0   \n",
       "\n",
       "   violation_code_21  violation_code_22  violation_code_23  violation_code_24  \\\n",
       "0                  0                  1                  0                  0   \n",
       "1                  0                  0                  0                  0   \n",
       "2                  0                  1                  0                  0   \n",
       "\n",
       "   violation_code_25  violation_code_26  violation_code_27  violation_code_28  \\\n",
       "0                  0                  0                  0                  0   \n",
       "1                  0                  0                  0                  0   \n",
       "2                  0                  0                  0                  0   \n",
       "\n",
       "   violation_code_29  violation_code_30  violation_code_31  violation_code_32  \\\n",
       "0                  0                  0                  0                  0   \n",
       "1                  0                  0                  0                  0   \n",
       "2                  0                  0                  0                  0   \n",
       "\n",
       "   violation_code_33  violation_code_34  violation_code_35  violation_code_36  \\\n",
       "0                  0                  0                  0                  0   \n",
       "1                  1                  0                  0                  1   \n",
       "2                  0                  0                  0                  0   \n",
       "\n",
       "   violation_code_37  violation_code_38  violation_code_39  violation_code_40  \\\n",
       "0                  0                  0                  0                  0   \n",
       "1                  0                  0                  0                  0   \n",
       "2                  0                  0                  0                  0   \n",
       "\n",
       "   violation_code_41  violation_code_42  violation_code_43  violation_code_44  \\\n",
       "0                  0                  0                  0                  0   \n",
       "1                  0                  0                  0                  0   \n",
       "2                  0                  0                  0                  0   \n",
       "\n",
       "   violation_code_45  violation_code_46  violation_code_47  violation_code_48  \\\n",
       "0                  0                  0                  0                  0   \n",
       "1                  0                  0                  0                  1   \n",
       "2                  0                  0                  0                  0   \n",
       "\n",
       "   violation_code_49  violation_code_50  violation_code_51  violation_code_52  \\\n",
       "0                  0                  0                  1                  0   \n",
       "1                  0                  1                  0                  0   \n",
       "2                  0                  0                  0                  0   \n",
       "\n",
       "   violation_code_53  violation_code_54  violation_code_55  violation_code_56  \\\n",
       "0                  0                  0                  1                  1   \n",
       "1                  0                  0                  0                  0   \n",
       "2                  0                  0                  1                  0   \n",
       "\n",
       "   violation_code_57  violation_code_58  violation_code_59  violation_code_60  \\\n",
       "0                  0                  0                  0                  0   \n",
       "1                  0                  1                  0                  0   \n",
       "2                  0                  0                  0                  0   \n",
       "\n",
       "   violation_code_61  violation_code_62  violation_code_63  violation_code_64  \n",
       "0                  0                  0                  0                  0  \n",
       "1                  0                  0                  0                  0  \n",
       "2                  0                  0                  0                  0  "
      ]
     },
     "execution_count": 11,
     "metadata": {},
     "output_type": "execute_result"
    }
   ],
   "source": [
    "# Checking codes were properly encoded.\n",
    "chicago.head(3)"
   ]
  },
  {
   "cell_type": "code",
   "execution_count": 12,
   "id": "f27ddac7-cd56-4640-84a2-791608c7a9b7",
   "metadata": {},
   "outputs": [
    {
     "data": {
      "text/plain": [
       "0        3\n",
       "1        3\n",
       "2        2\n",
       "3        3\n",
       "4        3\n",
       "        ..\n",
       "62551    2\n",
       "62552    3\n",
       "62553    3\n",
       "62554    3\n",
       "62555    3\n",
       "Name: risk, Length: 62556, dtype: int64"
      ]
     },
     "execution_count": 12,
     "metadata": {},
     "output_type": "execute_result"
    }
   ],
   "source": [
    "# Ordinal encoding for risk.\n",
    "risk_mapping = {'Risk 1 (High)': 3, 'Risk 2 (Medium)': 2, 'Risk 3 (Low)': 1}\n",
    "chicago['risk'] = chicago['risk'].map(risk_mapping)\n",
    "chicago['risk']"
   ]
  },
  {
   "cell_type": "code",
   "execution_count": 13,
   "id": "69043b96-2e85-405d-93ad-2e2a9635237f",
   "metadata": {},
   "outputs": [],
   "source": [
    "# Creating X and y.\n",
    "X = chicago.drop(columns = ['inspection_id', 'dba_name', 'aka_name', 'license', 'facility_type', 'address', 'inspection_date', 'results',\n",
    "       'violations', 'name_cleaned', 'violation_codes', 'severity_levels'])\n",
    "y = chicago['results']"
   ]
  },
  {
   "cell_type": "code",
   "execution_count": 14,
   "id": "c2887a30-78b3-4c3d-914a-5bf46d8cf92f",
   "metadata": {},
   "outputs": [],
   "source": [
    "# Splitting data into train and test.\n",
    "X_train, X_test, y_train, y_test = train_test_split(X, y, random_state=42, stratify = y)"
   ]
  },
  {
   "cell_type": "code",
   "execution_count": 15,
   "id": "f755cf06-402f-433a-a1d9-6522f26c854a",
   "metadata": {},
   "outputs": [],
   "source": [
    "# Since one-hot encoding and ordinal encoding are already applied, only scale numerical columns.\n",
    "preprocessor = ColumnTransformer(\n",
    "    transformers=[\n",
    "        ('ss', StandardScaler(), ['num_inspections', 'violation_count', 'average_severity']),\n",
    "        ('ohe', OneHotEncoder(), ['inspection_type'])\n",
    "    ],\n",
    "    remainder='passthrough'  # Keep the already preprocessed columns as they are\n",
    ")"
   ]
  },
  {
   "cell_type": "markdown",
   "id": "aa9ce751-1ba4-4713-8bde-c5d0a3e17e10",
   "metadata": {},
   "source": [
    "---\n",
    "# Iteration 1"
   ]
  },
  {
   "cell_type": "markdown",
   "id": "f0cb77f6-4984-46d4-9962-843aff598a87",
   "metadata": {},
   "source": [
    "### Modelling"
   ]
  },
  {
   "cell_type": "code",
   "execution_count": 16,
   "id": "ea1440cf-b981-4bde-99c0-d6699e221f76",
   "metadata": {},
   "outputs": [],
   "source": [
    "# Model pipeline with Logistic Regression.\n",
    "pipeline_1 = Pipeline([\n",
    "    ('preprocessor', preprocessor),\n",
    "    ('classifier', LogisticRegression(max_iter = 1000, random_state = 42))\n",
    "])"
   ]
  },
  {
   "cell_type": "code",
   "execution_count": 17,
   "id": "3fe8b3bf-4f59-4332-95e5-650aa6951f19",
   "metadata": {},
   "outputs": [
    {
     "name": "stdout",
     "output_type": "stream",
     "text": [
      "Fitting 5 folds for each of 28 candidates, totalling 140 fits\n",
      "Best Parameters: {'classifier__C': 100, 'classifier__penalty': 'l2', 'classifier__solver': 'liblinear'}\n"
     ]
    }
   ],
   "source": [
    "# Hyperparameter tuning with GridSearchCV.\n",
    "param_grid = {\n",
    "    'classifier__C': [.001, .01, .1, 1, 10, 100, 1000],\n",
    "    'classifier__penalty': ['l2', 'l2'],\n",
    "    'classifier__solver': ['saga', 'liblinear']\n",
    "}\n",
    "\n",
    "grid_search_1 = GridSearchCV(pipeline_1, param_grid, cv = 5, scoring = 'recall', verbose = 1, n_jobs = -1)\n",
    "grid_search_1.fit(X_train, y_train)\n",
    "\n",
    "# Best model.\n",
    "model_1 = grid_search_1.best_estimator_\n",
    "print(f'Best Parameters: {grid_search_1.best_params_}')"
   ]
  },
  {
   "cell_type": "markdown",
   "id": "224ec13f-b764-414e-bd6c-78f26188e137",
   "metadata": {},
   "source": [
    "---\n",
    "### Model Evaluation"
   ]
  },
  {
   "cell_type": "code",
   "execution_count": 18,
   "id": "2b8d3977-809a-4bf6-8234-5940f3c2f859",
   "metadata": {},
   "outputs": [
    {
     "name": "stdout",
     "output_type": "stream",
     "text": [
      "Training Scores:\n",
      "Accuracy: 0.87\n",
      "Precision: 0.77\n",
      "Recall: 0.60\n",
      "F1 Score: 0.68\n"
     ]
    },
    {
     "data": {
      "image/png": "[encoded data removed]",
      "text/plain": [
       "<Figure size 1200x600 with 2 Axes>"
      ]
     },
     "metadata": {},
     "output_type": "display_data"
    },
    {
     "data": {
      "text/html": [
       "<div>\n",
       "<style scoped>\n",
       "    .dataframe tbody tr th:only-of-type {\n",
       "        vertical-align: middle;\n",
       "    }\n",
       "\n",
       "    .dataframe tbody tr th {\n",
       "        vertical-align: top;\n",
       "    }\n",
       "\n",
       "    .dataframe thead th {\n",
       "        text-align: right;\n",
       "    }\n",
       "</style>\n",
       "<table border=\"1\" class=\"dataframe\">\n",
       "  <thead>\n",
       "    <tr style=\"text-align: right;\">\n",
       "      <th></th>\n",
       "      <th>Accuracy</th>\n",
       "      <th>Precision</th>\n",
       "      <th>Recall</th>\n",
       "      <th>F1 Score</th>\n",
       "    </tr>\n",
       "  </thead>\n",
       "  <tbody>\n",
       "    <tr>\n",
       "      <th>First_Iteration_LR</th>\n",
       "      <td>0.865081</td>\n",
       "      <td>0.761669</td>\n",
       "      <td>0.6</td>\n",
       "      <td>0.671237</td>\n",
       "    </tr>\n",
       "  </tbody>\n",
       "</table>\n",
       "</div>"
      ],
      "text/plain": [
       "                    Accuracy  Precision  Recall  F1 Score\n",
       "First_Iteration_LR  0.865081   0.761669     0.6  0.671237"
      ]
     },
     "execution_count": 18,
     "metadata": {},
     "output_type": "execute_result"
    },
    {
     "data": {
      "text/plain": [
       "<Figure size 640x480 with 0 Axes>"
      ]
     },
     "metadata": {},
     "output_type": "display_data"
    }
   ],
   "source": [
    "# Evaluation.\n",
    "model_test_results.loc['First_Iteration_LR'] = evaluate_model(model_1, X_train, y_train, X_test, y_test, model_name = 'iteration_01') # default threshold of 0.5\n",
    "model_test_results"
   ]
  },
  {
   "cell_type": "markdown",
   "id": "eaf46d15-44eb-4589-864c-5ed31d5861ae",
   "metadata": {},
   "source": [
    "---\n",
    "### Interpretations"
   ]
  },
  {
   "cell_type": "markdown",
   "id": "d463668b-4078-490e-83a9-43314f743d16",
   "metadata": {},
   "source": [
    "I must address the assumptions I could be breaking before interpreting these coefficients.\n",
    "\n",
    "**For example:**\n",
    "\n",
    "- Independent Observations: Since our dataset could have multiple inspections for a single restaurant, this could mean our observations are not independent of each other. For example, a restaurant re-inspection would be related to the first inspection in terms of what violations (our explanatory variable) are being examined.\n",
    "\n",
    "- On a similar note, multicollinearity must be happening in our violations as they are inherently grouped by category (Physical Facilities, Prevention of Food Contamination, Employee Health, etc.). For example, if a restaurant is cited for improper reheating procedures (Health Code 19), the common demoninator here is an unawareness of proper temperature control which means they are likely to also not be following proper cooling procedures (Health Code 20).\n",
    "\n",
    "- Independence of observations could be achieved by taking only a single random inspection from each establishment, but might run into the problem of not having enough data."
   ]
  },
  {
   "cell_type": "code",
   "execution_count": 19,
   "id": "a991d668-49c4-46ca-b53a-5500c45f3c66",
   "metadata": {},
   "outputs": [
    {
     "data": {
      "text/html": [
       "<div>\n",
       "<style scoped>\n",
       "    .dataframe tbody tr th:only-of-type {\n",
       "        vertical-align: middle;\n",
       "    }\n",
       "\n",
       "    .dataframe tbody tr th {\n",
       "        vertical-align: top;\n",
       "    }\n",
       "\n",
       "    .dataframe thead th {\n",
       "        text-align: right;\n",
       "    }\n",
       "</style>\n",
       "<table border=\"1\" class=\"dataframe\">\n",
       "  <thead>\n",
       "    <tr style=\"text-align: right;\">\n",
       "      <th></th>\n",
       "      <th>Feature</th>\n",
       "      <th>Odds</th>\n",
       "    </tr>\n",
       "  </thead>\n",
       "  <tbody>\n",
       "    <tr>\n",
       "      <th>71</th>\n",
       "      <td>violation_code_59</td>\n",
       "      <td>260.635466</td>\n",
       "    </tr>\n",
       "    <tr>\n",
       "      <th>72</th>\n",
       "      <td>violation_code_60</td>\n",
       "      <td>13.474622</td>\n",
       "    </tr>\n",
       "    <tr>\n",
       "      <th>50</th>\n",
       "      <td>violation_code_38</td>\n",
       "      <td>13.018660</td>\n",
       "    </tr>\n",
       "    <tr>\n",
       "      <th>62</th>\n",
       "      <td>violation_code_50</td>\n",
       "      <td>9.860271</td>\n",
       "    </tr>\n",
       "    <tr>\n",
       "      <th>60</th>\n",
       "      <td>violation_code_48</td>\n",
       "      <td>6.071743</td>\n",
       "    </tr>\n",
       "    <tr>\n",
       "      <th>66</th>\n",
       "      <td>violation_code_54</td>\n",
       "      <td>4.299427</td>\n",
       "    </tr>\n",
       "    <tr>\n",
       "      <th>37</th>\n",
       "      <td>violation_code_25</td>\n",
       "      <td>3.432313</td>\n",
       "    </tr>\n",
       "    <tr>\n",
       "      <th>75</th>\n",
       "      <td>violation_code_63</td>\n",
       "      <td>3.198847</td>\n",
       "    </tr>\n",
       "    <tr>\n",
       "      <th>64</th>\n",
       "      <td>violation_code_52</td>\n",
       "      <td>2.982243</td>\n",
       "    </tr>\n",
       "    <tr>\n",
       "      <th>28</th>\n",
       "      <td>violation_code_16</td>\n",
       "      <td>2.717664</td>\n",
       "    </tr>\n",
       "  </tbody>\n",
       "</table>\n",
       "</div>"
      ],
      "text/plain": [
       "              Feature        Odds\n",
       "71  violation_code_59  260.635466\n",
       "72  violation_code_60   13.474622\n",
       "50  violation_code_38   13.018660\n",
       "62  violation_code_50    9.860271\n",
       "60  violation_code_48    6.071743\n",
       "66  violation_code_54    4.299427\n",
       "37  violation_code_25    3.432313\n",
       "75  violation_code_63    3.198847\n",
       "64  violation_code_52    2.982243\n",
       "28  violation_code_16    2.717664"
      ]
     },
     "execution_count": 19,
     "metadata": {},
     "output_type": "execute_result"
    }
   ],
   "source": [
    "coeffs = get_odds(model_1)\n",
    "\n",
    "# 10 Violation Codes with highest odds for failed inspection according to my model.\n",
    "coeffs.head(10)"
   ]
  },
  {
   "cell_type": "markdown",
   "id": "df297447-fbef-453b-b0fa-243c3ae78c7f",
   "metadata": {},
   "source": [
    "**Violation Code 59:** *Previous priority foundation violation corrected*\n",
    "\n",
    "- \"Priority violations create an immediate health hazard that carry a high-risk of causing food-borne illness. Priority violations must be corrected immediately; if they cannot be corrected immediately, the license will be suspended, and the food establishment must close\" [source](https://www.chicago.gov/city/en/depts/cdph/provdrs/food_safety/svcs/understand_healthcoderequirementsforfoodestablishments.html)\n",
    "\n",
    "- My model is able to recognize one of the major reasons for failing an inspection which is a good sign.\n",
    "\n",
    "**Violation Code 38:** *Insects, rodents, & animals not present*\n",
    "- A restaurant is 12.9 times more likely to fail if there are rodents present according to my model."
   ]
  },
  {
   "cell_type": "markdown",
   "id": "52679dda-bd61-4709-bf05-f69c0b8220f1",
   "metadata": {},
   "source": [
    "---\n",
    "## Conclusion\n",
    "\n",
    "- A suprisingly high accuracy for our first iteration of modelling. However I am not impressed with the amount of false negatives.\n",
    "\n",
    "- In my second model I need to consider different methods for ensuring I can achieve higher recall than my first iteration, as ~60% is too low.\n",
    "\n",
    "- For my second iteration I have introduced the threshold argument to my `evaluate_model` function and for further control of my model so hopefully I can find the sweet spot there.\n",
    "\n",
    "- No grave differences in training and test scores to suggest gross overfitting.\n",
    "---"
   ]
  },
  {
   "cell_type": "markdown",
   "id": "ab2f725c-8614-44e7-9b19-035bcdab8809",
   "metadata": {},
   "source": [
    "# Iteration 2"
   ]
  },
  {
   "cell_type": "markdown",
   "id": "231b0ca5-8205-42af-bcdd-13815dd2d213",
   "metadata": {},
   "source": [
    "### Modelling"
   ]
  },
  {
   "cell_type": "code",
   "execution_count": 20,
   "id": "fc6301b6-de19-41bf-95ed-b407a0ca1ac3",
   "metadata": {},
   "outputs": [],
   "source": [
    "# Model pipeline\n",
    "pipeline = Pipeline([\n",
    "    ('preprocessor', preprocessor),\n",
    "    ('classifier', LogisticRegression(penalty = 'l2', solver = 'saga', max_iter = 1000, random_state = 42))\n",
    "])"
   ]
  },
  {
   "cell_type": "code",
   "execution_count": 21,
   "id": "2af35ba0-a958-4365-8698-c3002aa74f0f",
   "metadata": {},
   "outputs": [
    {
     "name": "stdout",
     "output_type": "stream",
     "text": [
      "Fitting 5 folds for each of 20 candidates, totalling 100 fits\n",
      "Best Parameters: {'classifier__C': 15.0}\n"
     ]
    }
   ],
   "source": [
    "# Searching optimal alpha\n",
    "param_grid = {\n",
    "    'classifier__C': np.linspace(1, 20, 20),\n",
    "}\n",
    "\n",
    "grid_search_2 = GridSearchCV(pipeline, param_grid, cv = 5, scoring = 'recall', verbose = 1, n_jobs = -1)\n",
    "grid_search_2.fit(X_train, y_train)\n",
    "\n",
    "# Best model\n",
    "model_2 = grid_search_2.best_estimator_\n",
    "print(f'Best Parameters: {grid_search_2.best_params_}')"
   ]
  },
  {
   "cell_type": "markdown",
   "id": "0a042ebe-2e3f-432a-a543-b518d52a090c",
   "metadata": {},
   "source": [
    "---\n",
    "### Model Evaluation"
   ]
  },
  {
   "cell_type": "code",
   "execution_count": 22,
   "id": "6b40ae82-0b5f-4701-b357-9872bb8c3fae",
   "metadata": {},
   "outputs": [
    {
     "name": "stdout",
     "output_type": "stream",
     "text": [
      "Training Scores:\n",
      "Accuracy: 0.86\n",
      "Precision: 0.67\n",
      "Recall: 0.78\n",
      "F1 Score: 0.72\n"
     ]
    },
    {
     "data": {
      "image/png": "[encoded data removed]",
      "text/plain": [
       "<Figure size 1200x600 with 2 Axes>"
      ]
     },
     "metadata": {},
     "output_type": "display_data"
    },
    {
     "data": {
      "text/html": [
       "<div>\n",
       "<style scoped>\n",
       "    .dataframe tbody tr th:only-of-type {\n",
       "        vertical-align: middle;\n",
       "    }\n",
       "\n",
       "    .dataframe tbody tr th {\n",
       "        vertical-align: top;\n",
       "    }\n",
       "\n",
       "    .dataframe thead th {\n",
       "        text-align: right;\n",
       "    }\n",
       "</style>\n",
       "<table border=\"1\" class=\"dataframe\">\n",
       "  <thead>\n",
       "    <tr style=\"text-align: right;\">\n",
       "      <th></th>\n",
       "      <th>Accuracy</th>\n",
       "      <th>Precision</th>\n",
       "      <th>Recall</th>\n",
       "      <th>F1 Score</th>\n",
       "    </tr>\n",
       "  </thead>\n",
       "  <tbody>\n",
       "    <tr>\n",
       "      <th>First_Iteration_LR</th>\n",
       "      <td>0.865081</td>\n",
       "      <td>0.761669</td>\n",
       "      <td>0.600000</td>\n",
       "      <td>0.671237</td>\n",
       "    </tr>\n",
       "    <tr>\n",
       "      <th>Second_Iteration_LR</th>\n",
       "      <td>0.859134</td>\n",
       "      <td>0.667715</td>\n",
       "      <td>0.769081</td>\n",
       "      <td>0.714822</td>\n",
       "    </tr>\n",
       "  </tbody>\n",
       "</table>\n",
       "</div>"
      ],
      "text/plain": [
       "                     Accuracy  Precision    Recall  F1 Score\n",
       "First_Iteration_LR   0.865081   0.761669  0.600000  0.671237\n",
       "Second_Iteration_LR  0.859134   0.667715  0.769081  0.714822"
      ]
     },
     "execution_count": 22,
     "metadata": {},
     "output_type": "execute_result"
    },
    {
     "data": {
      "text/plain": [
       "<Figure size 640x480 with 0 Axes>"
      ]
     },
     "metadata": {},
     "output_type": "display_data"
    }
   ],
   "source": [
    "# Evaluation\n",
    "model_test_results.loc['Second_Iteration_LR'] = evaluate_model(model_2, X_train, y_train, X_test, y_test, threshold = 0.3, model_name = 'iteration_02') # changing threshold in hopes of improving recall\n",
    "model_test_results"
   ]
  },
  {
   "cell_type": "markdown",
   "id": "b8a3df73-ce1f-42f9-a982-eb1048c2ffbf",
   "metadata": {},
   "source": [
    "---\n",
    "### First vs Second Iteration"
   ]
  },
  {
   "cell_type": "markdown",
   "id": "b6af5f61-bab7-46c6-8d91-c4cbf4ed1111",
   "metadata": {},
   "source": [
    "- Taking advantage of predict_proba() to define a threshold for the predictions of my model effectively halved the amount of false negatives, and while precision naturally takes a hit, the recall and overall F1 score has improved.\n",
    "\n",
    "- No alarming difference in train and test scores.\n",
    "\n",
    "- When comparing very similar types of logistic regression I don't expect the AUC to be be changing that much if at all, I had implemented the ROC AUC for evaluation just in case I wanted to try out extremely different types of models but moving to my final iteration I will stick with Logistic Regression as it's what I'm most comfortable with for now.\n",
    "\n",
    "- Given the class imbalance, an accuracy rate of 86.4% is not as impressive as it seems seeing as we could predict Pass every time and get a baseline accuracy of roughly 76%. However it is reassuring to know we have beat the baseline accuracy.\n",
    "\n",
    "- In my final iteration of this model, I will attempt something new for me which is threshold tuning, while accounting for highest accuracy possible."
   ]
  },
  {
   "cell_type": "markdown",
   "id": "4ca33ad0-f530-474c-84b8-2be8600661dd",
   "metadata": {},
   "source": [
    "---\n",
    "# Final Iteration (Threshold Tuning)"
   ]
  },
  {
   "cell_type": "code",
   "execution_count": 23,
   "id": "c71c0d64-57f6-4f24-bdc3-3397876fdae5",
   "metadata": {},
   "outputs": [
    {
     "data": {
      "text/html": [
       "<style>#sk-container-id-1 {color: black;}#sk-container-id-1 pre{padding: 0;}#sk-container-id-1 div.sk-toggleable {background-color: white;}#sk-container-id-1 label.sk-toggleable__label {cursor: pointer;display: block;width: 100%;margin-bottom: 0;padding: 0.3em;box-sizing: border-box;text-align: center;}#sk-container-id-1 label.sk-toggleable__label-arrow:before {content: \"▸\";float: left;margin-right: 0.25em;color: #696969;}#sk-container-id-1 label.sk-toggleable__label-arrow:hover:before {color: black;}#sk-container-id-1 div.sk-estimator:hover label.sk-toggleable__label-arrow:before {color: black;}#sk-container-id-1 div.sk-toggleable__content {max-height: 0;max-width: 0;overflow: hidden;text-align: left;background-color: #f0f8ff;}#sk-container-id-1 div.sk-toggleable__content pre {margin: 0.2em;color: black;border-radius: 0.25em;background-color: #f0f8ff;}#sk-container-id-1 input.sk-toggleable__control:checked~div.sk-toggleable__content {max-height: 200px;max-width: 100%;overflow: auto;}#sk-container-id-1 input.sk-toggleable__control:checked~label.sk-toggleable__label-arrow:before {content: \"▾\";}#sk-container-id-1 div.sk-estimator input.sk-toggleable__control:checked~label.sk-toggleable__label {background-color: #d4ebff;}#sk-container-id-1 div.sk-label input.sk-toggleable__control:checked~label.sk-toggleable__label {background-color: #d4ebff;}#sk-container-id-1 input.sk-hidden--visually {border: 0;clip: rect(1px 1px 1px 1px);clip: rect(1px, 1px, 1px, 1px);height: 1px;margin: -1px;overflow: hidden;padding: 0;position: absolute;width: 1px;}#sk-container-id-1 div.sk-estimator {font-family: monospace;background-color: #f0f8ff;border: 1px dotted black;border-radius: 0.25em;box-sizing: border-box;margin-bottom: 0.5em;}#sk-container-id-1 div.sk-estimator:hover {background-color: #d4ebff;}#sk-container-id-1 div.sk-parallel-item::after {content: \"\";width: 100%;border-bottom: 1px solid gray;flex-grow: 1;}#sk-container-id-1 div.sk-label:hover label.sk-toggleable__label {background-color: #d4ebff;}#sk-container-id-1 div.sk-serial::before {content: \"\";position: absolute;border-left: 1px solid gray;box-sizing: border-box;top: 0;bottom: 0;left: 50%;z-index: 0;}#sk-container-id-1 div.sk-serial {display: flex;flex-direction: column;align-items: center;background-color: white;padding-right: 0.2em;padding-left: 0.2em;position: relative;}#sk-container-id-1 div.sk-item {position: relative;z-index: 1;}#sk-container-id-1 div.sk-parallel {display: flex;align-items: stretch;justify-content: center;background-color: white;position: relative;}#sk-container-id-1 div.sk-item::before, #sk-container-id-1 div.sk-parallel-item::before {content: \"\";position: absolute;border-left: 1px solid gray;box-sizing: border-box;top: 0;bottom: 0;left: 50%;z-index: -1;}#sk-container-id-1 div.sk-parallel-item {display: flex;flex-direction: column;z-index: 1;position: relative;background-color: white;}#sk-container-id-1 div.sk-parallel-item:first-child::after {align-self: flex-end;width: 50%;}#sk-container-id-1 div.sk-parallel-item:last-child::after {align-self: flex-start;width: 50%;}#sk-container-id-1 div.sk-parallel-item:only-child::after {width: 0;}#sk-container-id-1 div.sk-dashed-wrapped {border: 1px dashed gray;margin: 0 0.4em 0.5em 0.4em;box-sizing: border-box;padding-bottom: 0.4em;background-color: white;}#sk-container-id-1 div.sk-label label {font-family: monospace;font-weight: bold;display: inline-block;line-height: 1.2em;}#sk-container-id-1 div.sk-label-container {text-align: center;}#sk-container-id-1 div.sk-container {/* jupyter's `normalize.less` sets `[hidden] { display: none; }` but bootstrap.min.css set `[hidden] { display: none !important; }` so we also need the `!important` here to be able to override the default hidden behavior on the sphinx rendered scikit-learn.org. See: https://github.com/scikit-learn/scikit-learn/issues/21755 */display: inline-block !important;position: relative;}#sk-container-id-1 div.sk-text-repr-fallback {display: none;}</style><div id=\"sk-container-id-1\" class=\"sk-top-container\"><div class=\"sk-text-repr-fallback\"><pre>Pipeline(steps=[(&#x27;preprocessor&#x27;,\n",
       "                 ColumnTransformer(remainder=&#x27;passthrough&#x27;,\n",
       "                                   transformers=[(&#x27;ss&#x27;, StandardScaler(),\n",
       "                                                  [&#x27;num_inspections&#x27;,\n",
       "                                                   &#x27;violation_count&#x27;,\n",
       "                                                   &#x27;average_severity&#x27;]),\n",
       "                                                 (&#x27;ohe&#x27;, OneHotEncoder(),\n",
       "                                                  [&#x27;inspection_type&#x27;])])),\n",
       "                (&#x27;classifier&#x27;,\n",
       "                 LogisticRegression(C=5, max_iter=1000, random_state=42,\n",
       "                                    solver=&#x27;saga&#x27;))])</pre><b>In a Jupyter environment, please rerun this cell to show the HTML representation or trust the notebook. <br />On GitHub, the HTML representation is unable to render, please try loading this page with nbviewer.org.</b></div><div class=\"sk-container\" hidden><div class=\"sk-item sk-dashed-wrapped\"><div class=\"sk-label-container\"><div class=\"sk-label sk-toggleable\"><input class=\"sk-toggleable__control sk-hidden--visually\" id=\"sk-estimator-id-1\" type=\"checkbox\" ><label for=\"sk-estimator-id-1\" class=\"sk-toggleable__label sk-toggleable__label-arrow\">Pipeline</label><div class=\"sk-toggleable__content\"><pre>Pipeline(steps=[(&#x27;preprocessor&#x27;,\n",
       "                 ColumnTransformer(remainder=&#x27;passthrough&#x27;,\n",
       "                                   transformers=[(&#x27;ss&#x27;, StandardScaler(),\n",
       "                                                  [&#x27;num_inspections&#x27;,\n",
       "                                                   &#x27;violation_count&#x27;,\n",
       "                                                   &#x27;average_severity&#x27;]),\n",
       "                                                 (&#x27;ohe&#x27;, OneHotEncoder(),\n",
       "                                                  [&#x27;inspection_type&#x27;])])),\n",
       "                (&#x27;classifier&#x27;,\n",
       "                 LogisticRegression(C=5, max_iter=1000, random_state=42,\n",
       "                                    solver=&#x27;saga&#x27;))])</pre></div></div></div><div class=\"sk-serial\"><div class=\"sk-item sk-dashed-wrapped\"><div class=\"sk-label-container\"><div class=\"sk-label sk-toggleable\"><input class=\"sk-toggleable__control sk-hidden--visually\" id=\"sk-estimator-id-2\" type=\"checkbox\" ><label for=\"sk-estimator-id-2\" class=\"sk-toggleable__label sk-toggleable__label-arrow\">preprocessor: ColumnTransformer</label><div class=\"sk-toggleable__content\"><pre>ColumnTransformer(remainder=&#x27;passthrough&#x27;,\n",
       "                  transformers=[(&#x27;ss&#x27;, StandardScaler(),\n",
       "                                 [&#x27;num_inspections&#x27;, &#x27;violation_count&#x27;,\n",
       "                                  &#x27;average_severity&#x27;]),\n",
       "                                (&#x27;ohe&#x27;, OneHotEncoder(), [&#x27;inspection_type&#x27;])])</pre></div></div></div><div class=\"sk-parallel\"><div class=\"sk-parallel-item\"><div class=\"sk-item\"><div class=\"sk-label-container\"><div class=\"sk-label sk-toggleable\"><input class=\"sk-toggleable__control sk-hidden--visually\" id=\"sk-estimator-id-3\" type=\"checkbox\" ><label for=\"sk-estimator-id-3\" class=\"sk-toggleable__label sk-toggleable__label-arrow\">ss</label><div class=\"sk-toggleable__content\"><pre>[&#x27;num_inspections&#x27;, &#x27;violation_count&#x27;, &#x27;average_severity&#x27;]</pre></div></div></div><div class=\"sk-serial\"><div class=\"sk-item\"><div class=\"sk-estimator sk-toggleable\"><input class=\"sk-toggleable__control sk-hidden--visually\" id=\"sk-estimator-id-4\" type=\"checkbox\" ><label for=\"sk-estimator-id-4\" class=\"sk-toggleable__label sk-toggleable__label-arrow\">StandardScaler</label><div class=\"sk-toggleable__content\"><pre>StandardScaler()</pre></div></div></div></div></div></div><div class=\"sk-parallel-item\"><div class=\"sk-item\"><div class=\"sk-label-container\"><div class=\"sk-label sk-toggleable\"><input class=\"sk-toggleable__control sk-hidden--visually\" id=\"sk-estimator-id-5\" type=\"checkbox\" ><label for=\"sk-estimator-id-5\" class=\"sk-toggleable__label sk-toggleable__label-arrow\">ohe</label><div class=\"sk-toggleable__content\"><pre>[&#x27;inspection_type&#x27;]</pre></div></div></div><div class=\"sk-serial\"><div class=\"sk-item\"><div class=\"sk-estimator sk-toggleable\"><input class=\"sk-toggleable__control sk-hidden--visually\" id=\"sk-estimator-id-6\" type=\"checkbox\" ><label for=\"sk-estimator-id-6\" class=\"sk-toggleable__label sk-toggleable__label-arrow\">OneHotEncoder</label><div class=\"sk-toggleable__content\"><pre>OneHotEncoder()</pre></div></div></div></div></div></div><div class=\"sk-parallel-item\"><div class=\"sk-item\"><div class=\"sk-label-container\"><div class=\"sk-label sk-toggleable\"><input class=\"sk-toggleable__control sk-hidden--visually\" id=\"sk-estimator-id-7\" type=\"checkbox\" ><label for=\"sk-estimator-id-7\" class=\"sk-toggleable__label sk-toggleable__label-arrow\">remainder</label><div class=\"sk-toggleable__content\"><pre>[&#x27;risk&#x27;, &#x27;is_reinspection&#x27;, &#x27;violation_code_1&#x27;, &#x27;violation_code_2&#x27;, &#x27;violation_code_3&#x27;, &#x27;violation_code_4&#x27;, &#x27;violation_code_5&#x27;, &#x27;violation_code_6&#x27;, &#x27;violation_code_7&#x27;, &#x27;violation_code_8&#x27;, &#x27;violation_code_9&#x27;, &#x27;violation_code_10&#x27;, &#x27;violation_code_11&#x27;, &#x27;violation_code_12&#x27;, &#x27;violation_code_13&#x27;, &#x27;violation_code_14&#x27;, &#x27;violation_code_15&#x27;, &#x27;violation_code_16&#x27;, &#x27;violation_code_17&#x27;, &#x27;violation_code_18&#x27;, &#x27;violation_code_19&#x27;, &#x27;violation_code_20&#x27;, &#x27;violation_code_21&#x27;, &#x27;violation_code_22&#x27;, &#x27;violation_code_23&#x27;, &#x27;violation_code_24&#x27;, &#x27;violation_code_25&#x27;, &#x27;violation_code_26&#x27;, &#x27;violation_code_27&#x27;, &#x27;violation_code_28&#x27;, &#x27;violation_code_29&#x27;, &#x27;violation_code_30&#x27;, &#x27;violation_code_31&#x27;, &#x27;violation_code_32&#x27;, &#x27;violation_code_33&#x27;, &#x27;violation_code_34&#x27;, &#x27;violation_code_35&#x27;, &#x27;violation_code_36&#x27;, &#x27;violation_code_37&#x27;, &#x27;violation_code_38&#x27;, &#x27;violation_code_39&#x27;, &#x27;violation_code_40&#x27;, &#x27;violation_code_41&#x27;, &#x27;violation_code_42&#x27;, &#x27;violation_code_43&#x27;, &#x27;violation_code_44&#x27;, &#x27;violation_code_45&#x27;, &#x27;violation_code_46&#x27;, &#x27;violation_code_47&#x27;, &#x27;violation_code_48&#x27;, &#x27;violation_code_49&#x27;, &#x27;violation_code_50&#x27;, &#x27;violation_code_51&#x27;, &#x27;violation_code_52&#x27;, &#x27;violation_code_53&#x27;, &#x27;violation_code_54&#x27;, &#x27;violation_code_55&#x27;, &#x27;violation_code_56&#x27;, &#x27;violation_code_57&#x27;, &#x27;violation_code_58&#x27;, &#x27;violation_code_59&#x27;, &#x27;violation_code_60&#x27;, &#x27;violation_code_61&#x27;, &#x27;violation_code_62&#x27;, &#x27;violation_code_63&#x27;, &#x27;violation_code_64&#x27;]</pre></div></div></div><div class=\"sk-serial\"><div class=\"sk-item\"><div class=\"sk-estimator sk-toggleable\"><input class=\"sk-toggleable__control sk-hidden--visually\" id=\"sk-estimator-id-8\" type=\"checkbox\" ><label for=\"sk-estimator-id-8\" class=\"sk-toggleable__label sk-toggleable__label-arrow\">passthrough</label><div class=\"sk-toggleable__content\"><pre>passthrough</pre></div></div></div></div></div></div></div></div><div class=\"sk-item\"><div class=\"sk-estimator sk-toggleable\"><input class=\"sk-toggleable__control sk-hidden--visually\" id=\"sk-estimator-id-9\" type=\"checkbox\" ><label for=\"sk-estimator-id-9\" class=\"sk-toggleable__label sk-toggleable__label-arrow\">LogisticRegression</label><div class=\"sk-toggleable__content\"><pre>LogisticRegression(C=5, max_iter=1000, random_state=42, solver=&#x27;saga&#x27;)</pre></div></div></div></div></div></div></div>"
      ],
      "text/plain": [
       "Pipeline(steps=[('preprocessor',\n",
       "                 ColumnTransformer(remainder='passthrough',\n",
       "                                   transformers=[('ss', StandardScaler(),\n",
       "                                                  ['num_inspections',\n",
       "                                                   'violation_count',\n",
       "                                                   'average_severity']),\n",
       "                                                 ('ohe', OneHotEncoder(),\n",
       "                                                  ['inspection_type'])])),\n",
       "                ('classifier',\n",
       "                 LogisticRegression(C=5, max_iter=1000, random_state=42,\n",
       "                                    solver='saga'))])"
      ]
     },
     "execution_count": 23,
     "metadata": {},
     "output_type": "execute_result"
    }
   ],
   "source": [
    "# Fit logistic regression pipeline with best parameters form Grid Search CV\n",
    "pipeline_prod = Pipeline([\n",
    "    ('preprocessor', preprocessor),\n",
    "    ('classifier', LogisticRegression(C = 5, solver = 'saga', penalty = 'l2', max_iter = 1000, random_state = 42))\n",
    "])\n",
    "\n",
    "pipeline_prod.fit(X_train, y_train)"
   ]
  },
  {
   "cell_type": "code",
   "execution_count": 24,
   "id": "795ff81b-1cde-4d81-b606-f00eee6d4941",
   "metadata": {},
   "outputs": [],
   "source": [
    "# Generate predicted probabilities.\n",
    "probs = pipeline_prod.predict_proba(X_test)[:, 1]"
   ]
  },
  {
   "cell_type": "code",
   "execution_count": 25,
   "id": "b6f1b47b-ac2b-4b07-8eb0-b62b2c972942",
   "metadata": {},
   "outputs": [],
   "source": [
    "# Calculate recision, recall, and thresholds.\n",
    "precision, recall, thresholds = precision_recall_curve(y_test, probs)\n",
    "\n",
    "# list comp for accuracies for each threshold, converted to numpy array so I can use to some np functions on it.\n",
    "accuracies = np.array([accuracy_score(y_test, (probs >= t).astype(int)) for t in thresholds])"
   ]
  },
  {
   "cell_type": "code",
   "execution_count": 26,
   "id": "2398cc24-cddb-4467-b8e7-2efdd919a8f8",
   "metadata": {},
   "outputs": [
    {
     "name": "stdout",
     "output_type": "stream",
     "text": [
      "Optimal Threshold:  0.23380458121439626\n"
     ]
    }
   ],
   "source": [
    "# taking advantage of numpy functions to find the thresholds where accuracy does not drop below a certain number.\n",
    "accuracy_limit = 0.85\n",
    "\n",
    "good_thresholds = np.where(accuracies >= accuracy_limit)[0] # 85 is the lowest accuracy I will accept.\n",
    "\n",
    "best_threshold = thresholds[good_thresholds[np.argmax(recall[good_thresholds])]]\n",
    "\n",
    "print(f'Optimal Threshold:  {best_threshold}')"
   ]
  },
  {
   "cell_type": "code",
   "execution_count": 27,
   "id": "4d25c909-4f7b-44af-8902-b6bd05a741bd",
   "metadata": {},
   "outputs": [
    {
     "name": "stdout",
     "output_type": "stream",
     "text": [
      "Training Scores:\n",
      "Accuracy: 0.85\n",
      "Precision: 0.64\n",
      "Recall: 0.81\n",
      "F1 Score: 0.72\n"
     ]
    },
    {
     "data": {
      "image/png": "[encoded data removed]",
      "text/plain": [
       "<Figure size 1200x600 with 2 Axes>"
      ]
     },
     "metadata": {},
     "output_type": "display_data"
    },
    {
     "data": {
      "text/html": [
       "<div>\n",
       "<style scoped>\n",
       "    .dataframe tbody tr th:only-of-type {\n",
       "        vertical-align: middle;\n",
       "    }\n",
       "\n",
       "    .dataframe tbody tr th {\n",
       "        vertical-align: top;\n",
       "    }\n",
       "\n",
       "    .dataframe thead th {\n",
       "        text-align: right;\n",
       "    }\n",
       "</style>\n",
       "<table border=\"1\" class=\"dataframe\">\n",
       "  <thead>\n",
       "    <tr style=\"text-align: right;\">\n",
       "      <th></th>\n",
       "      <th>Accuracy</th>\n",
       "      <th>Precision</th>\n",
       "      <th>Recall</th>\n",
       "      <th>F1 Score</th>\n",
       "    </tr>\n",
       "  </thead>\n",
       "  <tbody>\n",
       "    <tr>\n",
       "      <th>First_Iteration_LR</th>\n",
       "      <td>0.865081</td>\n",
       "      <td>0.761669</td>\n",
       "      <td>0.600000</td>\n",
       "      <td>0.671237</td>\n",
       "    </tr>\n",
       "    <tr>\n",
       "      <th>Second_Iteration_LR</th>\n",
       "      <td>0.859134</td>\n",
       "      <td>0.667715</td>\n",
       "      <td>0.769081</td>\n",
       "      <td>0.714822</td>\n",
       "    </tr>\n",
       "    <tr>\n",
       "      <th>Third_Iteration_LR</th>\n",
       "      <td>0.850054</td>\n",
       "      <td>0.636483</td>\n",
       "      <td>0.808635</td>\n",
       "      <td>0.712305</td>\n",
       "    </tr>\n",
       "  </tbody>\n",
       "</table>\n",
       "</div>"
      ],
      "text/plain": [
       "                     Accuracy  Precision    Recall  F1 Score\n",
       "First_Iteration_LR   0.865081   0.761669  0.600000  0.671237\n",
       "Second_Iteration_LR  0.859134   0.667715  0.769081  0.714822\n",
       "Third_Iteration_LR   0.850054   0.636483  0.808635  0.712305"
      ]
     },
     "execution_count": 27,
     "metadata": {},
     "output_type": "execute_result"
    },
    {
     "data": {
      "text/plain": [
       "<Figure size 640x480 with 0 Axes>"
      ]
     },
     "metadata": {},
     "output_type": "display_data"
    }
   ],
   "source": [
    "model_test_results.loc['Third_Iteration_LR'] = evaluate_model(pipeline_prod, X_train, y_train, X_test, y_test, threshold = best_threshold, model_name = 'iteration_03')\n",
    "model_test_results"
   ]
  },
  {
   "cell_type": "code",
   "execution_count": 28,
   "id": "1eb9c157-0e77-433c-bd90-28b28a915ecf",
   "metadata": {},
   "outputs": [
    {
     "data": {
      "image/png": "[encoded data removed]",
      "text/plain": [
       "<Figure size 1000x600 with 1 Axes>"
      ]
     },
     "metadata": {
      "needs_background": "dark"
     },
     "output_type": "display_data"
    }
   ],
   "source": [
    "# Visualization of what we just calculated.\n",
    "plt.figure(figsize=(10, 6))\n",
    "\n",
    "plt.plot(thresholds, recall[:-1], label = 'Recall', color = 'deepskyblue', linewidth = 3)\n",
    "plt.plot(thresholds, accuracies, label = 'Accuracy', color = 'red', linewidth = 3)\n",
    "plt.axvline(best_threshold, linestyle = 'dotted', linewidth = 2, color = 'white', label = 'Best Threshold')\n",
    "\n",
    "plt.title('Recall vs. Accuracy', size = 32, color = 'white', fontweight = 'bold')\n",
    "plt.xlabel('Threshold', size = 28, color = 'white', fontweight = 'bold')\n",
    "plt.ylabel('Score', size = 28, color = 'white', fontweight = 'bold')\n",
    "\n",
    "ax = plt.gca()\n",
    "\n",
    "plt.xticks(color = 'white', fontsize = 12)\n",
    "plt.yticks(color = 'white', fontsize = 12)\n",
    "\n",
    "plt.grid(True, alpha = 0.3)\n",
    "plt.legend(loc = 'lower left', fontsize = 18, labelcolor = 'white', frameon = False, bbox_to_anchor = (1, 0.5))\n",
    "\n",
    "# Set the plot to be transparent.\n",
    "ax.patch.set_alpha(0)  \n",
    "plt.gcf().patch.set_alpha(0)  \n",
    "\n",
    "# Remove borders.\n",
    "for spine in ['top', 'right', 'left', 'bottom']:\n",
    "    ax.spines[spine].set_visible(False)\n",
    "\n",
    "plt.tight_layout()\n",
    "# Save plot to images folder.\n",
    "plt.savefig('../../images/recall_vs_accuracy.png');"
   ]
  },
  {
   "cell_type": "markdown",
   "id": "972a3285-909f-4d78-a8f7-18000c01b1a1",
   "metadata": {},
   "source": [
    "---\n",
    "# Modelling Conclusion\n",
    "\n",
    "**Preprocessing:**\n",
    "- Due the list-like nature of my engineered columns such as `violation_codes`, it posed a syntactical challenge in trying to get this feature matrix in the right shape and format to be fit for sklearn's libraries. That is why in the end I opted to just hard code the OHE for this column specifically, for the sake of time. Hindsight is 20/20, and having ran into these issues during the modelling and app phases of my project I would have created my features in a much different way. So that was a good learning experience.\n",
    "\n",
    "**Modelling:**\n",
    "\n",
    "- At first I chose logistic regression for the purposes of interpretation, so that restaurant owners could better understand what factors contribute the most to the success/failure of an inspection. Quickly I realized how many assumptions my dataset could be breaking and so interpretations are to be taken with a grain of salt until I research a way to solve this 'assumptions' problem.\n",
    "\n",
    "**Future Models:**\n",
    "- Is there a way to remove multicollinearity from these features in order for these coefficients to be interpretable? If I were to remove interpretability as a goal I could dive fully into a 'black box' model. With no interpretability to help restaurant owners, the most effective use of this model might be on the inspection department's side in order to verify grades or in some way expedite the inspection process, but there could be some very bad consequences to that, which is why I intially steered away from that goal. I have enough experience with health inspectors to say that it is frustrating when your kitchen gets cited for some small thing just because the inspector isn't in a good mood or doesn't particularly like you. A model wouldn't have this bias and could grade the restaurant objectively, which is one potential bonus. But on the other hand a model might not be able to pick up many nuances of the restaurant trade which must be taken into context when assessing potential violations. And without understanding how the model reached that conclusion, this could be a big problem very quickly and in fact cause more foodborne outbreaks or encouragement of unhealthy practices. I wouldn't even want to think of the legal problems.\n",
    "\n",
    "---\n"
   ]
  },
  {
   "cell_type": "code",
   "execution_count": 29,
   "id": "4932a4cf-1877-4686-a068-cb61405ac583",
   "metadata": {},
   "outputs": [],
   "source": [
    "# Export production model as pickle to models folder.\n",
    "\n",
    "with open('../../models/predict_inspection.pkl', 'wb') as pickle_out:\n",
    "    pickle_out = pickle.dump(pipeline_prod, pickle_out)"
   ]
  },
  {
   "cell_type": "code",
   "execution_count": null,
   "id": "3bf4289c-e554-4d1f-b245-48e4b498e2d5",
   "metadata": {},
   "outputs": [],
   "source": []
  }
 ],
 "metadata": {
  "kernelspec": {
   "display_name": "capstone_env",
   "language": "python",
   "name": "python3"
  },
  "language_info": {
   "codemirror_mode": {
    "name": "ipython",
    "version": 3
   },
   "file_extension": ".py",
   "mimetype": "text/x-python",
   "name": "python",
   "nbconvert_exporter": "python",
   "pygments_lexer": "ipython3",
   "version": "3.8.20"
  }
 },
 "nbformat": 4,
 "nbformat_minor": 5
}
