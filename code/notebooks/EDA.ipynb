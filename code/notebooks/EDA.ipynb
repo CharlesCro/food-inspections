{
 "cells": [
  {
   "cell_type": "markdown",
   "id": "a3a19c14-2f8a-4bce-841a-8f084f5675d5",
   "metadata": {},
   "source": [
    "# Exploratory Data Analysis\n",
    "---"
   ]
  },
  {
   "cell_type": "markdown",
   "id": "c735b60a-a255-45a1-b383-06a82b02ad17",
   "metadata": {},
   "source": [
    "## Imports"
   ]
  },
  {
   "cell_type": "code",
   "execution_count": 153,
   "id": "3b4bbfa9-aa62-4314-a991-6509cd3ee236",
   "metadata": {},
   "outputs": [],
   "source": [
    "import pandas as pd\n",
    "import numpy as np\n",
    "import re\n",
    "import matplotlib.pyplot as plt\n",
    "import seaborn as sns\n",
    "import string"
   ]
  },
  {
   "cell_type": "code",
   "execution_count": 154,
   "id": "64aa06e2-1cfb-4a2c-87de-e138dac7ab34",
   "metadata": {},
   "outputs": [],
   "source": [
    "# Setting pandas to display all columns.\n",
    "pd.set_option('display.max_columns', None)"
   ]
  },
  {
   "cell_type": "markdown",
   "id": "70f36143-ade3-42af-a5e7-2339e08e52ec",
   "metadata": {},
   "source": [
    "---\n",
    "# Part 1\n",
    "## Load Data"
   ]
  },
  {
   "cell_type": "code",
   "execution_count": 155,
   "id": "f0dcd952-f3f1-495a-8bcd-f17c9c0ff80b",
   "metadata": {},
   "outputs": [
    {
     "data": {
      "text/html": [
       "<div>\n",
       "<style scoped>\n",
       "    .dataframe tbody tr th:only-of-type {\n",
       "        vertical-align: middle;\n",
       "    }\n",
       "\n",
       "    .dataframe tbody tr th {\n",
       "        vertical-align: top;\n",
       "    }\n",
       "\n",
       "    .dataframe thead th {\n",
       "        text-align: right;\n",
       "    }\n",
       "</style>\n",
       "<table border=\"1\" class=\"dataframe\">\n",
       "  <thead>\n",
       "    <tr style=\"text-align: right;\">\n",
       "      <th></th>\n",
       "      <th>Inspection ID</th>\n",
       "      <th>DBA Name</th>\n",
       "      <th>AKA Name</th>\n",
       "      <th>License #</th>\n",
       "      <th>Facility Type</th>\n",
       "      <th>Risk</th>\n",
       "      <th>Address</th>\n",
       "      <th>City</th>\n",
       "      <th>State</th>\n",
       "      <th>Zip</th>\n",
       "      <th>Inspection Date</th>\n",
       "      <th>Inspection Type</th>\n",
       "      <th>Results</th>\n",
       "      <th>Violations</th>\n",
       "      <th>Latitude</th>\n",
       "      <th>Longitude</th>\n",
       "      <th>Location</th>\n",
       "    </tr>\n",
       "  </thead>\n",
       "  <tbody>\n",
       "    <tr>\n",
       "      <th>0</th>\n",
       "      <td>2606078</td>\n",
       "      <td>LOOMIS CITGO INC.</td>\n",
       "      <td>LOOMIS CITGO INC.</td>\n",
       "      <td>2523672.0</td>\n",
       "      <td>GAS STATION</td>\n",
       "      <td>Risk 2 (Medium)</td>\n",
       "      <td>1356 W 87TH ST</td>\n",
       "      <td>CHICAGO</td>\n",
       "      <td>IL</td>\n",
       "      <td>60620.0</td>\n",
       "      <td>11/07/2024</td>\n",
       "      <td>Canvass Re-Inspection</td>\n",
       "      <td>Pass</td>\n",
       "      <td>49. NON-FOOD/FOOD CONTACT SURFACES CLEAN - Com...</td>\n",
       "      <td>41.735973</td>\n",
       "      <td>-87.658068</td>\n",
       "      <td>(41.73597328807627, -87.65806837861354)</td>\n",
       "    </tr>\n",
       "    <tr>\n",
       "      <th>1</th>\n",
       "      <td>2606026</td>\n",
       "      <td>FAMOUS GRILL</td>\n",
       "      <td>SAM'S FAMOUS GRILL</td>\n",
       "      <td>2961604.0</td>\n",
       "      <td>Restaurant</td>\n",
       "      <td>Risk 1 (High)</td>\n",
       "      <td>2926 W 63RD ST</td>\n",
       "      <td>CHICAGO</td>\n",
       "      <td>IL</td>\n",
       "      <td>60629.0</td>\n",
       "      <td>11/06/2024</td>\n",
       "      <td>License</td>\n",
       "      <td>Pass</td>\n",
       "      <td>NaN</td>\n",
       "      <td>41.779173</td>\n",
       "      <td>-87.696989</td>\n",
       "      <td>(41.779173106768134, -87.69698885824073)</td>\n",
       "    </tr>\n",
       "    <tr>\n",
       "      <th>2</th>\n",
       "      <td>2605986</td>\n",
       "      <td>MOODZ FOOD &amp; DELI</td>\n",
       "      <td>MOODZ FOOD &amp; DELI</td>\n",
       "      <td>2992998.0</td>\n",
       "      <td>Grocery Store</td>\n",
       "      <td>Risk 1 (High)</td>\n",
       "      <td>233 W 119TH ST</td>\n",
       "      <td>CHICAGO</td>\n",
       "      <td>IL</td>\n",
       "      <td>60628.0</td>\n",
       "      <td>11/06/2024</td>\n",
       "      <td>License Re-Inspection</td>\n",
       "      <td>Pass</td>\n",
       "      <td>38. INSECTS, RODENTS, &amp; ANIMALS NOT PRESENT - ...</td>\n",
       "      <td>41.677849</td>\n",
       "      <td>-87.628719</td>\n",
       "      <td>(41.67784867927214, -87.62871899471705)</td>\n",
       "    </tr>\n",
       "  </tbody>\n",
       "</table>\n",
       "</div>"
      ],
      "text/plain": [
       "   Inspection ID           DBA Name            AKA Name  License #  \\\n",
       "0        2606078  LOOMIS CITGO INC.   LOOMIS CITGO INC.  2523672.0   \n",
       "1        2606026       FAMOUS GRILL  SAM'S FAMOUS GRILL  2961604.0   \n",
       "2        2605986  MOODZ FOOD & DELI   MOODZ FOOD & DELI  2992998.0   \n",
       "\n",
       "   Facility Type             Risk          Address     City State      Zip  \\\n",
       "0    GAS STATION  Risk 2 (Medium)  1356 W 87TH ST   CHICAGO    IL  60620.0   \n",
       "1     Restaurant    Risk 1 (High)  2926 W 63RD ST   CHICAGO    IL  60629.0   \n",
       "2  Grocery Store    Risk 1 (High)  233 W 119TH ST   CHICAGO    IL  60628.0   \n",
       "\n",
       "  Inspection Date        Inspection Type Results  \\\n",
       "0      11/07/2024  Canvass Re-Inspection    Pass   \n",
       "1      11/06/2024                License    Pass   \n",
       "2      11/06/2024  License Re-Inspection    Pass   \n",
       "\n",
       "                                          Violations   Latitude  Longitude  \\\n",
       "0  49. NON-FOOD/FOOD CONTACT SURFACES CLEAN - Com...  41.735973 -87.658068   \n",
       "1                                                NaN  41.779173 -87.696989   \n",
       "2  38. INSECTS, RODENTS, & ANIMALS NOT PRESENT - ...  41.677849 -87.628719   \n",
       "\n",
       "                                   Location  \n",
       "0   (41.73597328807627, -87.65806837861354)  \n",
       "1  (41.779173106768134, -87.69698885824073)  \n",
       "2   (41.67784867927214, -87.62871899471705)  "
      ]
     },
     "execution_count": 155,
     "metadata": {},
     "output_type": "execute_result"
    }
   ],
   "source": [
    "# Chicago Restaurant Inspections Data.\n",
    "chicago = pd.read_csv('../../data/inspection_chicago.csv')\n",
    "chicago.head(3)"
   ]
  },
  {
   "cell_type": "code",
   "execution_count": 156,
   "id": "8173ba07-f94c-42d0-8c92-6b7642bc4c98",
   "metadata": {},
   "outputs": [
    {
     "name": "stdout",
     "output_type": "stream",
     "text": [
      "Chicago Inspection Dataset Shape: \n",
      "108678 observations \n",
      "17 features\n"
     ]
    }
   ],
   "source": [
    "# Check shape of dataset.\n",
    "print(f'Chicago Inspection Dataset Shape: \\n{chicago.shape[0]} observations \\n{chicago.shape[1]} features')"
   ]
  },
  {
   "cell_type": "code",
   "execution_count": 157,
   "id": "9ae9b97c-56a1-40a7-9c0c-6824c56a117e",
   "metadata": {},
   "outputs": [
    {
     "name": "stdout",
     "output_type": "stream",
     "text": [
      "<class 'pandas.core.frame.DataFrame'>\n",
      "RangeIndex: 108678 entries, 0 to 108677\n",
      "Data columns (total 17 columns):\n",
      " #   Column           Non-Null Count   Dtype  \n",
      "---  ------           --------------   -----  \n",
      " 0   Inspection ID    108678 non-null  int64  \n",
      " 1   DBA Name         108678 non-null  object \n",
      " 2   AKA Name         108420 non-null  object \n",
      " 3   License #        108674 non-null  float64\n",
      " 4   Facility Type    108098 non-null  object \n",
      " 5   Risk             108655 non-null  object \n",
      " 6   Address          108678 non-null  object \n",
      " 7   City             108602 non-null  object \n",
      " 8   State            108637 non-null  object \n",
      " 9   Zip              108669 non-null  float64\n",
      " 10  Inspection Date  108678 non-null  object \n",
      " 11  Inspection Type  108678 non-null  object \n",
      " 12  Results          108678 non-null  object \n",
      " 13  Violations       77337 non-null   object \n",
      " 14  Latitude         108273 non-null  float64\n",
      " 15  Longitude        108273 non-null  float64\n",
      " 16  Location         108273 non-null  object \n",
      "dtypes: float64(4), int64(1), object(12)\n",
      "memory usage: 14.1+ MB\n"
     ]
    }
   ],
   "source": [
    "# Overview of datasets columns / types.\n",
    "chicago.info()"
   ]
  },
  {
   "cell_type": "markdown",
   "id": "b41cd3a2-b443-4f3a-813a-6103d5e70ed8",
   "metadata": {},
   "source": [
    "--- \n",
    "## Data Cleaning"
   ]
  },
  {
   "cell_type": "code",
   "execution_count": 158,
   "id": "b4802f0c-8182-4f3f-8511-fb2dd3ad8039",
   "metadata": {},
   "outputs": [
    {
     "name": "stdout",
     "output_type": "stream",
     "text": [
      "No duplicates found.\n"
     ]
    }
   ],
   "source": [
    "# Checking for duplicate entries.\n",
    "if chicago.duplicated().any():\n",
    "    print(\"There are duplicate rows in the dataset.\")\n",
    "else:\n",
    "    print(\"No duplicates found.\")"
   ]
  },
  {
   "cell_type": "code",
   "execution_count": 159,
   "id": "2f935368-7d96-45d6-9a20-b921b5606c17",
   "metadata": {},
   "outputs": [
    {
     "data": {
      "text/plain": [
       "Inspection ID          0\n",
       "DBA Name               0\n",
       "AKA Name             258\n",
       "License #              4\n",
       "Facility Type        580\n",
       "Risk                  23\n",
       "Address                0\n",
       "City                  76\n",
       "State                 41\n",
       "Zip                    9\n",
       "Inspection Date        0\n",
       "Inspection Type        0\n",
       "Results                0\n",
       "Violations         31341\n",
       "Latitude             405\n",
       "Longitude            405\n",
       "Location             405\n",
       "dtype: int64"
      ]
     },
     "execution_count": 159,
     "metadata": {},
     "output_type": "execute_result"
    }
   ],
   "source": [
    "# Assessment of null values.\n",
    "chicago.isna().sum()"
   ]
  },
  {
   "cell_type": "markdown",
   "id": "2ce27bb6-c838-46cc-9b68-5b70efa10c3c",
   "metadata": {},
   "source": [
    "- `Latitude`, `Longitude` and `Location` can be dropped as `Address` column is full and the address is what I will need for my app.\n",
    "- Same goes for `City` and `State`, they will be dropped since for this project we will only be dealing with Chicago, IL establishments.\n",
    "- `AKA Name` will be useful for my app but not needed for modelling, in the app I would like to allow a user to look up an establishment by `Address` if `AKA Name` is not available.\n",
    "- I will likely drop missing `Facility Type` entries since there are so few, however I should research further in EDA why these values might be missing. Perhap it was because of a specific type of inspection or maybe it's missing completely at random.\n",
    "- Very small amounts of missing `License #` and `Risk` values I will double check what these entries are before dropping them as well..\n",
    "\n",
    "- The bulk of my cleaning will be to parse the `Violations` column and using EDA to understand how it relates to `Inspection Type` and `Result`. In regards to rows where it is missing, the end goal is to engineer entirely new features such as `violation_count` in which case all these missing values will just be a 0, assuming the missing values aren't diminished greatly once I filter the dataset depending on type of inspection, TBD in EDA."
   ]
  },
  {
   "cell_type": "code",
   "execution_count": 160,
   "id": "fde49cd7-5fc4-4583-83cd-75294c250f29",
   "metadata": {},
   "outputs": [],
   "source": [
    "# Rename Columns\n",
    "chicago.columns = chicago.columns.str.replace(' ', '_').str.lower()"
   ]
  },
  {
   "cell_type": "code",
   "execution_count": 161,
   "id": "1d6bab3c",
   "metadata": {},
   "outputs": [],
   "source": [
    "# convert inspection_date to datetime object\n",
    "chicago['inspection_date'] = pd.to_datetime(chicago['inspection_date'])"
   ]
  },
  {
   "cell_type": "code",
   "execution_count": 162,
   "id": "ed802481-0433-4b5c-a196-26dd3b7efab9",
   "metadata": {},
   "outputs": [],
   "source": [
    "# Drop unnecessary columns in the context of this project.\n",
    "chicago.drop(columns = ['latitude', 'longitude', 'city', 'state', 'zip', 'location'], inplace = True)"
   ]
  },
  {
   "cell_type": "code",
   "execution_count": 163,
   "id": "38f22e5d-4d04-421d-8b41-865ab4884c16",
   "metadata": {},
   "outputs": [],
   "source": [
    "# Drop rows with negligible missing values.\n",
    "chicago.dropna(subset = ['aka_name', 'license_#', 'risk', 'facility_type'], inplace = True)"
   ]
  },
  {
   "cell_type": "code",
   "execution_count": 164,
   "id": "7cd12e93-e779-4ed9-a10c-ec3d00b7e5bd",
   "metadata": {},
   "outputs": [],
   "source": [
    "# Convert license_# to int and rename.\n",
    "chicago.rename(columns = {'license_#': 'license'}, inplace = True)\n",
    "chicago['license'] = chicago['license'].astype(int)"
   ]
  },
  {
   "cell_type": "code",
   "execution_count": 165,
   "id": "cd8c0a71-aae0-4deb-84a8-a617a0c003cf",
   "metadata": {},
   "outputs": [],
   "source": [
    "# drop facility types which are not restaurant (for the scope of this project).\n",
    "chicago = chicago[chicago['facility_type'] == 'Restaurant']"
   ]
  },
  {
   "cell_type": "code",
   "execution_count": 166,
   "id": "62e7bc02-daec-4287-8258-e1c4e56373d3",
   "metadata": {},
   "outputs": [],
   "source": [
    "# drop uncommon inspection types.\n",
    "chicago = chicago[~chicago['inspection_type'].isin(['Non-Inspection', 'Consultation', 'Recent Inspection'])]"
   ]
  },
  {
   "cell_type": "code",
   "execution_count": 167,
   "id": "9e1488eb",
   "metadata": {},
   "outputs": [],
   "source": [
    "def remove_punctuation(text):\n",
    "    # Helper function to remove punctuation\n",
    "    if isinstance(text, str):\n",
    "        return text.translate(str.maketrans('', '', string.punctuation))\n",
    "    return text"
   ]
  },
  {
   "cell_type": "code",
   "execution_count": 168,
   "id": "712cbf1f",
   "metadata": {},
   "outputs": [],
   "source": [
    "# remove punctuation from restaurant names\n",
    "chicago[\"name_cleaned\"] = chicago[\"aka_name\"].apply(remove_punctuation)"
   ]
  },
  {
   "cell_type": "code",
   "execution_count": 169,
   "id": "55afd3a9-9195-4466-8473-62128f9bd10c",
   "metadata": {},
   "outputs": [],
   "source": [
    "# rename inspection types column,\n",
    "# with the help of the provided data dictionary to make better descriptions.\n",
    "type_map = {'Canvass': 'Standard Inspection',\n",
    "           'Canvass Re-Inspection': 'Standard Re-Inspection',\n",
    "           'Complaint': 'Inspection Due to Customer Complaint',\n",
    "           'License': 'Required Inspection to Open',\n",
    "           'Complaint Re-Inspection': 'Revisiting Complaint Inspection',\n",
    "           'License Re-Inspection': 'Revisiting Inspection to Open',\n",
    "           'Short Form Complaint': 'Inspection Due to Customer Complaint',\n",
    "           'Suspected Food Poisoning': 'Suspected Food Poisoning (Uh Oh!)',\n",
    "           'Suspected Food Poisoning Re-inspection': 'Revisiting Suspected Food Poisoning'\n",
    "           }\n",
    "chicago['inspection_type'] = chicago['inspection_type'].map(type_map)"
   ]
  },
  {
   "cell_type": "code",
   "execution_count": 170,
   "id": "383503b4-890f-47a6-8b9b-1823f22815e7",
   "metadata": {},
   "outputs": [],
   "source": [
    "# Filling in NaN violations with something more descriptive.\n",
    "chicago['violations'] = chicago['violations'].fillna('No Violations')"
   ]
  },
  {
   "cell_type": "code",
   "execution_count": 171,
   "id": "f9cda948-2f53-447e-a5f4-7558d5fe8f11",
   "metadata": {},
   "outputs": [
    {
     "name": "stdout",
     "output_type": "stream",
     "text": [
      "<class 'pandas.core.frame.DataFrame'>\n",
      "Index: 71276 entries, 1 to 108677\n",
      "Data columns (total 12 columns):\n",
      " #   Column           Non-Null Count  Dtype         \n",
      "---  ------           --------------  -----         \n",
      " 0   inspection_id    71276 non-null  int64         \n",
      " 1   dba_name         71276 non-null  object        \n",
      " 2   aka_name         71276 non-null  object        \n",
      " 3   license          71276 non-null  int32         \n",
      " 4   facility_type    71276 non-null  object        \n",
      " 5   risk             71276 non-null  object        \n",
      " 6   address          71276 non-null  object        \n",
      " 7   inspection_date  71276 non-null  datetime64[ns]\n",
      " 8   inspection_type  71267 non-null  object        \n",
      " 9   results          71276 non-null  object        \n",
      " 10  violations       71276 non-null  object        \n",
      " 11  name_cleaned     71276 non-null  object        \n",
      "dtypes: datetime64[ns](1), int32(1), int64(1), object(9)\n",
      "memory usage: 6.8+ MB\n"
     ]
    }
   ],
   "source": [
    "chicago.info()"
   ]
  },
  {
   "cell_type": "markdown",
   "id": "93f237a0-a160-4f6f-873d-8dde6bfa23ed",
   "metadata": {},
   "source": [
    "**Data Cleaning Completed**\n",
    "\n",
    "- A clean data set means I can continue my work towards feature engineering and further analysis.\n",
    "\n",
    "---\n",
    "# Part 2\n",
    "- In part 2 we can begin to visualize this data as well as work on the preprocessing required before I export the final dataset to be modelled upon and used in my app."
   ]
  },
  {
   "cell_type": "code",
   "execution_count": 172,
   "id": "1915fdcd-0ad8-4777-ae05-05bc3ffeeef3",
   "metadata": {},
   "outputs": [],
   "source": [
    "# find number of inspections by location\n",
    "chicago['num_inspections'] = chicago.groupby('address')['address'].transform('count')"
   ]
  },
  {
   "cell_type": "code",
   "execution_count": 173,
   "id": "a3800b5c-4155-4e7f-8bf3-31bc92a53a48",
   "metadata": {},
   "outputs": [
    {
     "data": {
      "image/png": "[encoded data removed]",
      "text/plain": [
       "<Figure size 640x480 with 1 Axes>"
      ]
     },
     "metadata": {},
     "output_type": "display_data"
    }
   ],
   "source": [
    "# Inspection Type Frequency\n",
    "chicago['inspection_type'].value_counts(normalize = True).plot(kind = 'barh');"
   ]
  },
  {
   "cell_type": "markdown",
   "id": "75c104eb-e511-4261-8237-a6d06bff4f8d",
   "metadata": {},
   "source": [
    "**Three Most Common Inspection Types (referenced in data dictionary provided)**\n",
    "\n",
    "- Canvass: the most common type of inspection performed at a frequency relative to the `risk` of the establishment.\n",
    "- License: when the inspection is done as a requirement for the establishment to receive its license to operate.\n",
    "- Complaint: when the inspection is done in response to a complaint against the establishment.\n",
    "\n",
    "**Re-inspections can occur for most of the inspection types.**"
   ]
  },
  {
   "cell_type": "code",
   "execution_count": 174,
   "id": "70a22664-62ef-4093-ac5c-f0e4c3a8df6a",
   "metadata": {},
   "outputs": [
    {
     "data": {
      "image/png": "[encoded data removed]",
      "text/plain": [
       "<Figure size 640x480 with 1 Axes>"
      ]
     },
     "metadata": {},
     "output_type": "display_data"
    }
   ],
   "source": [
    "# Inspecton Results\n",
    "chicago['results'].value_counts(normalize = True).plot(kind = 'barh');"
   ]
  },
  {
   "cell_type": "markdown",
   "id": "17b72e5e-58a2-42c5-96e2-2aaafe06c6af",
   "metadata": {},
   "source": [
    "- More than 40% of inspections result in a Pass\n",
    "- Almost 1 in 5 inspections result in a Fail"
   ]
  },
  {
   "cell_type": "code",
   "execution_count": 175,
   "id": "9efb6bc5-d48f-4d5d-a0f3-850be6105c76",
   "metadata": {
    "scrolled": true
   },
   "outputs": [
    {
     "data": {
      "text/plain": [
       "(61649, 13)"
      ]
     },
     "execution_count": 175,
     "metadata": {},
     "output_type": "execute_result"
    }
   ],
   "source": [
    "# For the purposes of a simpler problem to tackle initially and for easier modelling, I will simplify the results to just Pass or Fail\n",
    "chicago['results'] = chicago['results'].replace('Pass w/ Conditions', 'Pass')\n",
    "\n",
    "# Now I will drop results which are not pass or fail\n",
    "chicago = chicago[chicago['results'].isin(['Pass', 'Fail'])]\n",
    "chicago.shape"
   ]
  },
  {
   "cell_type": "markdown",
   "id": "28ffb4c4-1c18-4e95-a163-1ae3fe9a9cda",
   "metadata": {},
   "source": [
    "- This method is risky as there is a possibility establishments who went out of business or deemed no entry could be re-opened later meaning they should not be removed from my dataset.\n",
    "- A future workaround to this would be to search for the latest result by each establishment and check if they are still open as of latest inspection.\n",
    "- I have not lost enough inspection rows to deem this is a necessary task at the moment, but it should be solved eventually."
   ]
  },
  {
   "cell_type": "code",
   "execution_count": 176,
   "id": "ef5fe182-acc5-494e-8146-16544e64c3a7",
   "metadata": {},
   "outputs": [
    {
     "data": {
      "text/plain": [
       "risk\n",
       "Risk 1 (High)      0.837937\n",
       "Risk 2 (Medium)    0.149832\n",
       "Risk 3 (Low)       0.012231\n",
       "Name: proportion, dtype: float64"
      ]
     },
     "execution_count": 176,
     "metadata": {},
     "output_type": "execute_result"
    }
   ],
   "source": [
    "# Assesing Risk Column\n",
    "chicago['risk'].value_counts(normalize = True)"
   ]
  },
  {
   "cell_type": "markdown",
   "id": "1fe0ab9b-e82a-4b89-8500-169ee5bb8b8b",
   "metadata": {},
   "source": [
    "- Risk 1 (High) being so frequent makes intuitive sense as inspections are performed at a rate relative to the risk factor, so this data would be biased to have higher risk establishments since they are inspected more frequently."
   ]
  },
  {
   "cell_type": "code",
   "execution_count": 177,
   "id": "3b99c4ed-bda6-4205-9ac1-ed8b9b4703c1",
   "metadata": {},
   "outputs": [
    {
     "name": "stdout",
     "output_type": "stream",
     "text": [
      "No Violations\n",
      "============================================================\n",
      "39. CONTAMINATION PREVENTED DURING FOOD PREPARATION, STORAGE & DISPLAY - Comments: OBSERVED ICE SCOOP STORED IN VARIOUS ICE CONTAINERS. INSTRUCTED TO MAINTAIN SCOOP IN A CLEAN SANITIZED MANNER. | 39. CONTAMINATION PREVENTED DURING FOOD PREPARATION, STORAGE & DISPLAY - Comments:  ALL BEVERAGE DISPENSOR NOZZLES IN NEED OF CLEANING TO REMOVE ALL BUILD UP. INSTRUCTED TO CLEAN AND MAINTAIN. | 41. WIPING CLOTHS: PROPERLY USED & STORED - Comments:  ALL WIPING CLOTHS IN NEED OF STORING IN A CLEAN SANITIZING SOLUTION. INSTRUCTED TO CHANGE SOLUTION MORE FREQUENTLY. | 47. FOOD & NON-FOOD CONTACT SURFACES CLEANABLE, PROPERLY DESIGNED, CONSTRUCTED & USED - Comments: ALL STORAGE SHELVES ON FRONT SERVICE LINE AREA IN NEED OF CLEANING TO REMOVE ALL FOOD SPILLS. INSTRUCTED TO CLEAN AND MAINTAIN | 49. NON-FOOD/FOOD CONTACT SURFACES CLEAN - Comments: FOOD EQUIPMENT IN NEED OF CLEANING TO REMOVE ALL FOOD SPILLS AND BUILD UP. INSTRUCTED TO CLEAN AND MAINTAIN.  | 53. TOILET FACILITIES: PROPERLY CONSTRUCTED, SUPPLIED, & CLEANED - Comments: INSTRUCTED TO DETAIL CLEAN ALL PLUMBING FIXTURES AND MAINTAIN CLEAN. CORRECT AND MAINTAIN. | 55. PHYSICAL FACILITIES INSTALLED, MAINTAINED & CLEAN - Comments: FLOORS IN DINING AREA AND SERVICE AREA IN NEED OF DETAIL CLEANING TO REMOVE ALL DEBRIS. INSTRUCTED TO DETAIL CLEAN AND MAINTAIN.\n",
      "============================================================\n",
      "38. INSECTS, RODENTS, & ANIMALS NOT PRESENT - Comments: OBSERVED PEST ACTIVITY WITH APPROX. 15 SMALL BLACK FLIES NOTED DURING INSPECTION. SMALL FLY ACTIVITY WAS NOTED NEAR THE REAR PREP/ DISH AREA, UTILITY SINK/DRY STORAGE AREA AND DINING AREA. INSTRUCTED TO CONSULT PEST CONTROL AS ADDITIONAL SERVICES ARE NEEDED TO MINIMIZE OR ELIMINATE ACTIVITY PRIOR TO RE-INSPECTION.  PRIORITY FOUNDATION VIOLATION #7-38-020(A). CITATION ISSUED. | 52. SEWAGE & WASTE WATER PROPERLY DISPOSED - Comments: OBSERVED INADEQUATE WASTEWATER DISPOSAL FROM OVERHEAD WASTEWATER PIPE IN DISH AREA DRIPPING WASTEWATER INTO 1ST SINK BASIN AT 3 COMPARTMENT SINK. INSTRUCTED TO DISCONTINUE USE AND UTILIZE ALTERNATIVE (HIGH TEMP DISH MACHINE) USE UNTIL PLUMBING IS CORRECTED PRIORITY VIOLATION #7-38-030(C). CITATION ISSUED. | 55. PHYSICAL FACILITIES INSTALLED, MAINTAINED & CLEAN - Comments: OBSERVED CLUTTER STORED ON FLOOR NEAR IN REAR STORAGE AREA. INSTRUCTED MANAGER TO REMOVE ALL UNUSED ARTICLES AND EQUIPMENT TO PREVENT PEST HARBORAGE.          | 55. PHYSICAL FACILITIES INSTALLED, MAINTAINED & CLEAN - Comments: OBSERVED FAUCETS IN REAR DISH AREA HAND SINK, 3 COMPARTMENT SINK RUSTY AND SOAP DISPENSER WITH EXCESSIVE AMOUNT OF RUST, INSTRUCTED TO REPAIR OR REPLACE AND MAINTAIN.\n",
      "============================================================\n"
     ]
    }
   ],
   "source": [
    "# Observing how violation field is formatted so I can determine how I'd like to parse the values\n",
    "for violation in chicago['violations'][:3]:\n",
    "    print(violation)\n",
    "    print('='*60)"
   ]
  },
  {
   "cell_type": "markdown",
   "id": "20b84b5e-f5a4-4d65-b66f-8a36ced1ca3f",
   "metadata": {},
   "source": [
    "**Parsing Violation Notes**\n",
    "\n",
    "- My first task is to extract only the violation code and descriptor elements of this submission, for example, if one violation is written as:\n",
    "\n",
    "`49. NON-FOOD/FOOD CONTACT SURFACES CLEAN - Comments: 4-601.11(C) : MUST CLEAN DUST BUILD UP AND DEBRIS FROM WINDOW SILLS,SERVICE COUNTER SHELVING UNITS,WALK IN COOLER-FAN GUARD COVERS AND SHELVING UNITS |`\n",
    "\n",
    "- I would like to end up with: `49. NON-FOOD/FOOD CONTACT SURFACES CLEAN`\n",
    "\n",
    "- There is an identifiable pattern in how the violations are written in which I can already see how I can pattern match to retreive the violation part alone: the violation code followed by a period and then the descriptor of the code, then a hyphen before Comments, then a separating bar (|) and the pattern is repeated for each violation.\n",
    "\n",
    "*I can save it as a stretch goal for my app to evaluate the `Comments` section and display key words such as type of rodents found and type of contiminations.*"
   ]
  },
  {
   "cell_type": "markdown",
   "id": "14bb81ed-2500-4757-8258-a6229002885f",
   "metadata": {},
   "source": [
    "---\n",
    "### Severity\n",
    "- For the purposes of my app I would like to map these health codes to a severity level that is more 'real'.\n",
    "\n",
    "- It will depend from county to county but I am using this capstone project to assess chicago's health codes and give them more realistic severity values.\n",
    "\n",
    "- For example, while Chicago does not state having rodents as a critical violation, customers might change their mind on eating somewhere after finding out there is/were infestations.\n",
    "I am using my domain knowledge and years of experience discussing what customers look for in a restaurant when they go out to eat in terms on cleanliness. This includes reading thousands and thousands of reviews and dealing with customers on a daily basis for many years. With this experience I can give a severity level to each health code of Chicago from 1 to 10."
   ]
  },
  {
   "cell_type": "code",
   "execution_count": 178,
   "id": "05beb636-b092-464c-a9c6-077dbfed82c3",
   "metadata": {},
   "outputs": [],
   "source": [
    "def process_violations(violations):\n",
    "    '''\n",
    "        This function will be applied to the violations column of the dataframe\n",
    "        and return the features I'd like to create.\n",
    "    '''\n",
    "    # Chicago health codes grouped by severity level\n",
    "    severity_map_reverse = {10: [3, 4, 5, 8, 9, 16, 17, 18, 19, 20, 28],\n",
    "                        9: [21, 22],\n",
    "                        8: [1, 2, 11, 13, 15, 52, 53],\n",
    "                        7: [7, 25, 23, 27, 33, 34, 35, 40, 42, 46],\n",
    "                        6: [10, 12, 14, 26, 29, 50],\n",
    "                        5: [51, 56, 43, 44, 45, 47],\n",
    "                        4: [30, 31, 36, 38, 39, 41, 48, 49],\n",
    "                        3: [37, 24, 32, 60],\n",
    "                        2: [6, 54],\n",
    "                        1: [57, 58, 61, 62, 55, 59, 63]}\n",
    "\n",
    "    if violations != 'No Violations':\n",
    "        violations_list_str = violations.split(' | ')\n",
    "        violation_count = len(violations_list_str)\n",
    "        violations_list_code = [int(re.search(r'^\\d{1,2}', v).group()) for v in violations_list_str]\n",
    "\n",
    "        # Adding severity of each violation code found from above regex matching.\n",
    "        severity_map = {code: severity for severity, violations_list_code in severity_map_reverse.items() for code in violations_list_code}\n",
    "        severity_levels = [severity_map.get(code, 0) for code in violations_list_code]\n",
    "    else:\n",
    "        violation_count = 0\n",
    "        violations_list_code = []\n",
    "        severity_levels = []\n",
    "    return violation_count, violations_list_code, severity_levels"
   ]
  },
  {
   "cell_type": "code",
   "execution_count": 179,
   "id": "c1808139-7b56-4334-81a4-0ae01a460439",
   "metadata": {},
   "outputs": [],
   "source": [
    "# Apply the function to the main dataframe to generate new columns\n",
    "chicago[['violation_count', 'violation_codes', 'severity_levels']] = chicago['violations'].apply(\n",
    "    lambda x: pd.Series(process_violations(x))\n",
    ")"
   ]
  },
  {
   "cell_type": "code",
   "execution_count": 180,
   "id": "a352efc3-39ae-4f49-aaba-3b72d5335e37",
   "metadata": {},
   "outputs": [],
   "source": [
    "# Next feature, whether the inspection is first or Re-Inspection\n",
    "chicago['is_reinspection'] = chicago['inspection_type'].str.contains('Re-Inspection')"
   ]
  },
  {
   "cell_type": "code",
   "execution_count": 181,
   "id": "d8ffefe7-df87-431f-92d3-7916c2d9e17f",
   "metadata": {},
   "outputs": [
    {
     "data": {
      "text/html": [
       "<div>\n",
       "<style scoped>\n",
       "    .dataframe tbody tr th:only-of-type {\n",
       "        vertical-align: middle;\n",
       "    }\n",
       "\n",
       "    .dataframe tbody tr th {\n",
       "        vertical-align: top;\n",
       "    }\n",
       "\n",
       "    .dataframe thead th {\n",
       "        text-align: right;\n",
       "    }\n",
       "</style>\n",
       "<table border=\"1\" class=\"dataframe\">\n",
       "  <thead>\n",
       "    <tr style=\"text-align: right;\">\n",
       "      <th></th>\n",
       "      <th>inspection_id</th>\n",
       "      <th>dba_name</th>\n",
       "      <th>aka_name</th>\n",
       "      <th>license</th>\n",
       "      <th>facility_type</th>\n",
       "      <th>risk</th>\n",
       "      <th>address</th>\n",
       "      <th>inspection_date</th>\n",
       "      <th>inspection_type</th>\n",
       "      <th>results</th>\n",
       "      <th>violations</th>\n",
       "      <th>name_cleaned</th>\n",
       "      <th>num_inspections</th>\n",
       "      <th>violation_count</th>\n",
       "      <th>violation_codes</th>\n",
       "      <th>severity_levels</th>\n",
       "      <th>is_reinspection</th>\n",
       "    </tr>\n",
       "  </thead>\n",
       "  <tbody>\n",
       "    <tr>\n",
       "      <th>1</th>\n",
       "      <td>2606026</td>\n",
       "      <td>FAMOUS GRILL</td>\n",
       "      <td>SAM'S FAMOUS GRILL</td>\n",
       "      <td>2961604</td>\n",
       "      <td>Restaurant</td>\n",
       "      <td>Risk 1 (High)</td>\n",
       "      <td>2926 W 63RD ST</td>\n",
       "      <td>2024-11-06</td>\n",
       "      <td>Required Inspection to Open</td>\n",
       "      <td>Pass</td>\n",
       "      <td>No Violations</td>\n",
       "      <td>SAMS FAMOUS GRILL</td>\n",
       "      <td>4</td>\n",
       "      <td>0</td>\n",
       "      <td>[]</td>\n",
       "      <td>[]</td>\n",
       "      <td>False</td>\n",
       "    </tr>\n",
       "    <tr>\n",
       "      <th>5</th>\n",
       "      <td>2605995</td>\n",
       "      <td>DUNKIN DONUTS</td>\n",
       "      <td>DUNKIN DONUTS</td>\n",
       "      <td>2835421</td>\n",
       "      <td>Restaurant</td>\n",
       "      <td>Risk 2 (Medium)</td>\n",
       "      <td>1465 W 95TH ST</td>\n",
       "      <td>2024-11-06</td>\n",
       "      <td>Standard Re-Inspection</td>\n",
       "      <td>Pass</td>\n",
       "      <td>39. CONTAMINATION PREVENTED DURING FOOD PREPAR...</td>\n",
       "      <td>DUNKIN DONUTS</td>\n",
       "      <td>13</td>\n",
       "      <td>7</td>\n",
       "      <td>[39, 39, 41, 47, 49, 53, 55]</td>\n",
       "      <td>[4, 4, 4, 5, 4, 8, 1]</td>\n",
       "      <td>True</td>\n",
       "    </tr>\n",
       "    <tr>\n",
       "      <th>6</th>\n",
       "      <td>2606039</td>\n",
       "      <td>STARBUCKS COFFEE #13710</td>\n",
       "      <td>STARBUCKS</td>\n",
       "      <td>1843207</td>\n",
       "      <td>Restaurant</td>\n",
       "      <td>Risk 2 (Medium)</td>\n",
       "      <td>30 W ERIE ST</td>\n",
       "      <td>2024-11-06</td>\n",
       "      <td>Standard Inspection</td>\n",
       "      <td>Fail</td>\n",
       "      <td>38. INSECTS, RODENTS, &amp; ANIMALS NOT PRESENT - ...</td>\n",
       "      <td>STARBUCKS</td>\n",
       "      <td>8</td>\n",
       "      <td>4</td>\n",
       "      <td>[38, 52, 55, 55]</td>\n",
       "      <td>[4, 8, 1, 1]</td>\n",
       "      <td>False</td>\n",
       "    </tr>\n",
       "    <tr>\n",
       "      <th>8</th>\n",
       "      <td>2606024</td>\n",
       "      <td>ANDINA COMFORT FOOD</td>\n",
       "      <td>ANDINA COMFORT FOOD</td>\n",
       "      <td>2997252</td>\n",
       "      <td>Restaurant</td>\n",
       "      <td>Risk 1 (High)</td>\n",
       "      <td>2325 W TAYLOR ST</td>\n",
       "      <td>2024-11-06</td>\n",
       "      <td>Required Inspection to Open</td>\n",
       "      <td>Pass</td>\n",
       "      <td>3. MANAGEMENT, FOOD EMPLOYEE AND CONDITIONAL E...</td>\n",
       "      <td>ANDINA COMFORT FOOD</td>\n",
       "      <td>8</td>\n",
       "      <td>2</td>\n",
       "      <td>[3, 58]</td>\n",
       "      <td>[10, 1]</td>\n",
       "      <td>False</td>\n",
       "    </tr>\n",
       "    <tr>\n",
       "      <th>11</th>\n",
       "      <td>2606040</td>\n",
       "      <td>UNCLE BEN'S GRILL</td>\n",
       "      <td>UNCLE BEN'S GRILL</td>\n",
       "      <td>2835481</td>\n",
       "      <td>Restaurant</td>\n",
       "      <td>Risk 1 (High)</td>\n",
       "      <td>456 N DAMEN AVE</td>\n",
       "      <td>2024-11-06</td>\n",
       "      <td>Inspection Due to Customer Complaint</td>\n",
       "      <td>Pass</td>\n",
       "      <td>2. CITY OF CHICAGO FOOD SERVICE SANITATION CER...</td>\n",
       "      <td>UNCLE BENS GRILL</td>\n",
       "      <td>10</td>\n",
       "      <td>6</td>\n",
       "      <td>[2, 3, 9, 49, 55, 55]</td>\n",
       "      <td>[8, 10, 10, 4, 1, 1]</td>\n",
       "      <td>False</td>\n",
       "    </tr>\n",
       "  </tbody>\n",
       "</table>\n",
       "</div>"
      ],
      "text/plain": [
       "    inspection_id                 dba_name             aka_name  license  \\\n",
       "1         2606026             FAMOUS GRILL   SAM'S FAMOUS GRILL  2961604   \n",
       "5         2605995            DUNKIN DONUTS        DUNKIN DONUTS  2835421   \n",
       "6         2606039  STARBUCKS COFFEE #13710            STARBUCKS  1843207   \n",
       "8         2606024      ANDINA COMFORT FOOD  ANDINA COMFORT FOOD  2997252   \n",
       "11        2606040        UNCLE BEN'S GRILL    UNCLE BEN'S GRILL  2835481   \n",
       "\n",
       "   facility_type             risk            address inspection_date  \\\n",
       "1     Restaurant    Risk 1 (High)    2926 W 63RD ST       2024-11-06   \n",
       "5     Restaurant  Risk 2 (Medium)    1465 W 95TH ST       2024-11-06   \n",
       "6     Restaurant  Risk 2 (Medium)      30 W ERIE ST       2024-11-06   \n",
       "8     Restaurant    Risk 1 (High)  2325 W TAYLOR ST       2024-11-06   \n",
       "11    Restaurant    Risk 1 (High)   456 N DAMEN AVE       2024-11-06   \n",
       "\n",
       "                         inspection_type results  \\\n",
       "1            Required Inspection to Open    Pass   \n",
       "5                 Standard Re-Inspection    Pass   \n",
       "6                    Standard Inspection    Fail   \n",
       "8            Required Inspection to Open    Pass   \n",
       "11  Inspection Due to Customer Complaint    Pass   \n",
       "\n",
       "                                           violations         name_cleaned  \\\n",
       "1                                       No Violations    SAMS FAMOUS GRILL   \n",
       "5   39. CONTAMINATION PREVENTED DURING FOOD PREPAR...        DUNKIN DONUTS   \n",
       "6   38. INSECTS, RODENTS, & ANIMALS NOT PRESENT - ...            STARBUCKS   \n",
       "8   3. MANAGEMENT, FOOD EMPLOYEE AND CONDITIONAL E...  ANDINA COMFORT FOOD   \n",
       "11  2. CITY OF CHICAGO FOOD SERVICE SANITATION CER...     UNCLE BENS GRILL   \n",
       "\n",
       "    num_inspections  violation_count               violation_codes  \\\n",
       "1                 4                0                            []   \n",
       "5                13                7  [39, 39, 41, 47, 49, 53, 55]   \n",
       "6                 8                4              [38, 52, 55, 55]   \n",
       "8                 8                2                       [3, 58]   \n",
       "11               10                6         [2, 3, 9, 49, 55, 55]   \n",
       "\n",
       "          severity_levels  is_reinspection  \n",
       "1                      []            False  \n",
       "5   [4, 4, 4, 5, 4, 8, 1]             True  \n",
       "6            [4, 8, 1, 1]            False  \n",
       "8                 [10, 1]            False  \n",
       "11   [8, 10, 10, 4, 1, 1]            False  "
      ]
     },
     "execution_count": 181,
     "metadata": {},
     "output_type": "execute_result"
    }
   ],
   "source": [
    "# Double check that my created features have been added properly.\n",
    "chicago.head()"
   ]
  },
  {
   "cell_type": "code",
   "execution_count": 182,
   "id": "5cbdfe18-83e5-4b57-8be0-33463b043c25",
   "metadata": {},
   "outputs": [
    {
     "data": {
      "image/png": "[encoded data removed]",
      "text/plain": [
       "<Figure size 640x480 with 1 Axes>"
      ]
     },
     "metadata": {},
     "output_type": "display_data"
    }
   ],
   "source": [
    "# Distribution of violation count depending if it is reinspection\n",
    "sns.violinplot(\n",
    "    data=chicago,\n",
    "    x='violation_count',  \n",
    "    y='is_reinspection', \n",
    "    palette='muted',\n",
    "    hue = 'is_reinspection',\n",
    "    orient='h',\n",
    "    legend = False \n",
    ")\n",
    "\n",
    "# Customize plot labels\n",
    "plt.title('Did Violation Count Decrease After First Visit?', fontsize=16)\n",
    "plt.xlabel('Violation Count', fontsize=12)\n",
    "plt.ylabel('Re-Inspection (True/False)', fontsize=12);"
   ]
  },
  {
   "cell_type": "markdown",
   "id": "065838cd-e573-4152-9b19-79277b341dc5",
   "metadata": {},
   "source": [
    "- Restaurants tend to fix most of their mistakes before getting re-inspected, as hoped!"
   ]
  },
  {
   "cell_type": "markdown",
   "id": "29d20f26-be98-4696-aa50-fbfc13d73c13",
   "metadata": {},
   "source": [
    "---\n",
    "# Export Processed Data"
   ]
  },
  {
   "cell_type": "code",
   "execution_count": 183,
   "id": "3d6c6d6b-5c6e-422b-be1e-cd42b9df4b75",
   "metadata": {},
   "outputs": [],
   "source": [
    "chicago.to_csv('../../data/processed_chicago.csv')"
   ]
  },
  {
   "cell_type": "code",
   "execution_count": null,
   "id": "2e57d771-1e54-4d1f-9ef4-f84fbdf10582",
   "metadata": {},
   "outputs": [],
   "source": []
  }
 ],
 "metadata": {
  "kernelspec": {
   "display_name": "capstone_env",
   "language": "python",
   "name": "python3"
  },
  "language_info": {
   "codemirror_mode": {
    "name": "ipython",
    "version": 3
   },
   "file_extension": ".py",
   "mimetype": "text/x-python",
   "name": "python",
   "nbconvert_exporter": "python",
   "pygments_lexer": "ipython3",
   "version": "3.8.20"
  }
 },
 "nbformat": 4,
 "nbformat_minor": 5
}
