{
 "cells": [
  {
   "cell_type": "markdown",
   "id": "a3a19c14-2f8a-4bce-841a-8f084f5675d5",
   "metadata": {},
   "source": [
    "# Exploratory Data Analysis\n",
    "---"
   ]
  },
  {
   "cell_type": "markdown",
   "id": "37b49cee-379d-4d6a-9047-2e38913b2e9e",
   "metadata": {},
   "source": [
    "- The goal of this section is to explore and expand upon the Chicago Food Inspections dataset.\n",
    "\n",
    "\n",
    "- I have opted to engineer as many new features as possible in this section before exporting the cleaned data set as I will need many of these features for my app and not just the model.\n",
    "\n",
    "\n",
    "- I will be exploring/cleaning/vizualising in a repeated manner throughout this section of the project as an expression of the cyclical process one must undergo in the data science workflow.\n",
    "\n",
    "---"
   ]
  },
  {
   "cell_type": "markdown",
   "id": "c735b60a-a255-45a1-b383-06a82b02ad17",
   "metadata": {},
   "source": [
    "## Imports"
   ]
  },
  {
   "cell_type": "code",
   "execution_count": 41,
   "id": "3b4bbfa9-aa62-4314-a991-6509cd3ee236",
   "metadata": {},
   "outputs": [],
   "source": [
    "import re\n",
    "import string\n",
    "\n",
    "import pandas as pd\n",
    "import numpy as np\n",
    "import matplotlib.pyplot as plt\n",
    "import seaborn as sns"
   ]
  },
  {
   "cell_type": "code",
   "execution_count": 42,
   "id": "64aa06e2-1cfb-4a2c-87de-e138dac7ab34",
   "metadata": {},
   "outputs": [],
   "source": [
    "# Setting pandas to display all columns.\n",
    "pd.set_option('display.max_columns', None)"
   ]
  },
  {
   "cell_type": "markdown",
   "id": "70f36143-ade3-42af-a5e7-2339e08e52ec",
   "metadata": {},
   "source": [
    "---\n",
    "# Part 1: Load Data"
   ]
  },
  {
   "cell_type": "markdown",
   "id": "1bd689ee-b1a6-40eb-af37-0302e40b99ab",
   "metadata": {},
   "source": [
    "**Data Set Download Instructions:**\n",
    "\n",
    "1. Click this [link](https://data.cityofchicago.org/Health-Human-Services/Food-Inspections-7-1-2018-Present/qizy-d2wf/about_data) for the dataset (`Food Inspections - 7/1/2018 - Present`)\n",
    "\n",
    "2. Click `Export` in the upper right hand corner.\n",
    "\n",
    "3. Ensure export format is `CSV` and click download.\n",
    "\n",
    "4. Place the downloaded CSV file in the `data/` folder of this repo.\n",
    "\n",
    "\n",
    "\n",
    "*Attention:* Before running `app_demo.py` the dataset must be read, processed, and exported to the `data/` folder via the code cells in the `01_EDA` notebook.\n",
    "\n",
    "---"
   ]
  },
  {
   "cell_type": "code",
   "execution_count": 43,
   "id": "d5a1bb10-8eb6-44cd-8d74-694210c3276e",
   "metadata": {},
   "outputs": [],
   "source": [
    "# If you not have placed the CSV in the data folder, replace with correct path.\n",
    "data_path = '../../data/Food_Inspections_-_7_1_2018_-_Present_20241130.csv'"
   ]
  },
  {
   "cell_type": "code",
   "execution_count": 44,
   "id": "f0dcd952-f3f1-495a-8bcd-f17c9c0ff80b",
   "metadata": {},
   "outputs": [
    {
     "data": {
      "text/html": [
       "<div>\n",
       "<style scoped>\n",
       "    .dataframe tbody tr th:only-of-type {\n",
       "        vertical-align: middle;\n",
       "    }\n",
       "\n",
       "    .dataframe tbody tr th {\n",
       "        vertical-align: top;\n",
       "    }\n",
       "\n",
       "    .dataframe thead th {\n",
       "        text-align: right;\n",
       "    }\n",
       "</style>\n",
       "<table border=\"1\" class=\"dataframe\">\n",
       "  <thead>\n",
       "    <tr style=\"text-align: right;\">\n",
       "      <th></th>\n",
       "      <th>Inspection ID</th>\n",
       "      <th>DBA Name</th>\n",
       "      <th>AKA Name</th>\n",
       "      <th>License #</th>\n",
       "      <th>Facility Type</th>\n",
       "      <th>Risk</th>\n",
       "      <th>Address</th>\n",
       "      <th>City</th>\n",
       "      <th>State</th>\n",
       "      <th>Zip</th>\n",
       "      <th>Inspection Date</th>\n",
       "      <th>Inspection Type</th>\n",
       "      <th>Results</th>\n",
       "      <th>Violations</th>\n",
       "      <th>Latitude</th>\n",
       "      <th>Longitude</th>\n",
       "      <th>Location</th>\n",
       "    </tr>\n",
       "  </thead>\n",
       "  <tbody>\n",
       "    <tr>\n",
       "      <th>0</th>\n",
       "      <td>2608159</td>\n",
       "      <td>PASSION HOUSE CAFE 1 LLC</td>\n",
       "      <td>PASSION HOUSE CAFE</td>\n",
       "      <td>2522245.0</td>\n",
       "      <td>Restaurant</td>\n",
       "      <td>Risk 2 (Medium)</td>\n",
       "      <td>2631 N KEDZIE AVE</td>\n",
       "      <td>CHICAGO</td>\n",
       "      <td>IL</td>\n",
       "      <td>60647.0</td>\n",
       "      <td>11/29/2024</td>\n",
       "      <td>Canvass</td>\n",
       "      <td>Out of Business</td>\n",
       "      <td>NaN</td>\n",
       "      <td>41.929344</td>\n",
       "      <td>-87.707218</td>\n",
       "      <td>(41.92934429527824, -87.70721753045883)</td>\n",
       "    </tr>\n",
       "    <tr>\n",
       "      <th>1</th>\n",
       "      <td>2608169</td>\n",
       "      <td>ONE WAY FOOD MART</td>\n",
       "      <td>ONE WAY FOOD MART</td>\n",
       "      <td>3001832.0</td>\n",
       "      <td>Grocery Store</td>\n",
       "      <td>Risk 2 (Medium)</td>\n",
       "      <td>3022 W MADISON</td>\n",
       "      <td>CHICAGO</td>\n",
       "      <td>IL</td>\n",
       "      <td>60612.0</td>\n",
       "      <td>11/29/2024</td>\n",
       "      <td>License</td>\n",
       "      <td>Pass w/ Conditions</td>\n",
       "      <td>23. PROPER DATE MARKING AND DISPOSITION - Comm...</td>\n",
       "      <td>41.881126</td>\n",
       "      <td>-87.702237</td>\n",
       "      <td>(41.881126474536984, -87.70223661787263)</td>\n",
       "    </tr>\n",
       "    <tr>\n",
       "      <th>2</th>\n",
       "      <td>2608170</td>\n",
       "      <td>LA COCINA DE ALICIA</td>\n",
       "      <td>LA COCINA DE ALICIA</td>\n",
       "      <td>2891348.0</td>\n",
       "      <td>Restaurant</td>\n",
       "      <td>Risk 1 (High)</td>\n",
       "      <td>4545 W DIVISION ST</td>\n",
       "      <td>CHICAGO</td>\n",
       "      <td>IL</td>\n",
       "      <td>60651.0</td>\n",
       "      <td>11/29/2024</td>\n",
       "      <td>Non-Inspection</td>\n",
       "      <td>No Entry</td>\n",
       "      <td>NaN</td>\n",
       "      <td>41.902332</td>\n",
       "      <td>-87.740459</td>\n",
       "      <td>(41.902331662977616, -87.74045894485229)</td>\n",
       "    </tr>\n",
       "  </tbody>\n",
       "</table>\n",
       "</div>"
      ],
      "text/plain": [
       "   Inspection ID                  DBA Name             AKA Name  License #  \\\n",
       "0        2608159  PASSION HOUSE CAFE 1 LLC   PASSION HOUSE CAFE  2522245.0   \n",
       "1        2608169         ONE WAY FOOD MART    ONE WAY FOOD MART  3001832.0   \n",
       "2        2608170       LA COCINA DE ALICIA  LA COCINA DE ALICIA  2891348.0   \n",
       "\n",
       "   Facility Type             Risk              Address     City State  \\\n",
       "0     Restaurant  Risk 2 (Medium)   2631 N KEDZIE AVE   CHICAGO    IL   \n",
       "1  Grocery Store  Risk 2 (Medium)      3022 W MADISON   CHICAGO    IL   \n",
       "2     Restaurant    Risk 1 (High)  4545 W DIVISION ST   CHICAGO    IL   \n",
       "\n",
       "       Zip Inspection Date Inspection Type             Results  \\\n",
       "0  60647.0      11/29/2024         Canvass     Out of Business   \n",
       "1  60612.0      11/29/2024         License  Pass w/ Conditions   \n",
       "2  60651.0      11/29/2024  Non-Inspection            No Entry   \n",
       "\n",
       "                                          Violations   Latitude  Longitude  \\\n",
       "0                                                NaN  41.929344 -87.707218   \n",
       "1  23. PROPER DATE MARKING AND DISPOSITION - Comm...  41.881126 -87.702237   \n",
       "2                                                NaN  41.902332 -87.740459   \n",
       "\n",
       "                                   Location  \n",
       "0   (41.92934429527824, -87.70721753045883)  \n",
       "1  (41.881126474536984, -87.70223661787263)  \n",
       "2  (41.902331662977616, -87.74045894485229)  "
      ]
     },
     "execution_count": 44,
     "metadata": {},
     "output_type": "execute_result"
    }
   ],
   "source": [
    "# Chicago Restaurant Inspections Data.\n",
    "chicago = pd.read_csv(data_path)\n",
    "chicago.head(3)"
   ]
  },
  {
   "cell_type": "code",
   "execution_count": 45,
   "id": "8173ba07-f94c-42d0-8c92-6b7642bc4c98",
   "metadata": {},
   "outputs": [
    {
     "name": "stdout",
     "output_type": "stream",
     "text": [
      "Chicago Inspection Dataset Shape: \n",
      "110187 observations \n",
      "17 features\n"
     ]
    }
   ],
   "source": [
    "# Check shape of dataset.\n",
    "print(f'Chicago Inspection Dataset Shape: \\n{chicago.shape[0]} observations \\n{chicago.shape[1]} features')"
   ]
  },
  {
   "cell_type": "code",
   "execution_count": 46,
   "id": "9ae9b97c-56a1-40a7-9c0c-6824c56a117e",
   "metadata": {},
   "outputs": [
    {
     "name": "stdout",
     "output_type": "stream",
     "text": [
      "<class 'pandas.core.frame.DataFrame'>\n",
      "RangeIndex: 110187 entries, 0 to 110186\n",
      "Data columns (total 17 columns):\n",
      " #   Column           Non-Null Count   Dtype  \n",
      "---  ------           --------------   -----  \n",
      " 0   Inspection ID    110187 non-null  int64  \n",
      " 1   DBA Name         110187 non-null  object \n",
      " 2   AKA Name         109936 non-null  object \n",
      " 3   License #        110183 non-null  float64\n",
      " 4   Facility Type    109588 non-null  object \n",
      " 5   Risk             110160 non-null  object \n",
      " 6   Address          110187 non-null  object \n",
      " 7   City             110107 non-null  object \n",
      " 8   State            110145 non-null  object \n",
      " 9   Zip              110178 non-null  float64\n",
      " 10  Inspection Date  110187 non-null  object \n",
      " 11  Inspection Type  110187 non-null  object \n",
      " 12  Results          110187 non-null  object \n",
      " 13  Violations       78328 non-null   object \n",
      " 14  Latitude         109777 non-null  float64\n",
      " 15  Longitude        109777 non-null  float64\n",
      " 16  Location         109777 non-null  object \n",
      "dtypes: float64(4), int64(1), object(12)\n",
      "memory usage: 14.3+ MB\n"
     ]
    }
   ],
   "source": [
    "# Overview of datasets columns / types.\n",
    "chicago.info()"
   ]
  },
  {
   "cell_type": "markdown",
   "id": "b41cd3a2-b443-4f3a-813a-6103d5e70ed8",
   "metadata": {},
   "source": [
    "--- \n",
    "## Data Cleaning"
   ]
  },
  {
   "cell_type": "code",
   "execution_count": 47,
   "id": "b4802f0c-8182-4f3f-8511-fb2dd3ad8039",
   "metadata": {},
   "outputs": [
    {
     "name": "stdout",
     "output_type": "stream",
     "text": [
      "No duplicates found.\n"
     ]
    }
   ],
   "source": [
    "# Checking for duplicate entries.\n",
    "if chicago.duplicated().any():\n",
    "    print(\"There are duplicate rows in the dataset.\")\n",
    "else:\n",
    "    print(\"No duplicates found.\")"
   ]
  },
  {
   "cell_type": "code",
   "execution_count": 48,
   "id": "2f935368-7d96-45d6-9a20-b921b5606c17",
   "metadata": {},
   "outputs": [
    {
     "data": {
      "text/plain": [
       "Inspection ID          0\n",
       "DBA Name               0\n",
       "AKA Name             251\n",
       "License #              4\n",
       "Facility Type        599\n",
       "Risk                  27\n",
       "Address                0\n",
       "City                  80\n",
       "State                 42\n",
       "Zip                    9\n",
       "Inspection Date        0\n",
       "Inspection Type        0\n",
       "Results                0\n",
       "Violations         31859\n",
       "Latitude             410\n",
       "Longitude            410\n",
       "Location             410\n",
       "dtype: int64"
      ]
     },
     "execution_count": 48,
     "metadata": {},
     "output_type": "execute_result"
    }
   ],
   "source": [
    "# Assessment of null values.\n",
    "chicago.isna().sum()"
   ]
  },
  {
   "cell_type": "markdown",
   "id": "2ce27bb6-c838-46cc-9b68-5b70efa10c3c",
   "metadata": {},
   "source": [
    "- `Latitude`, `Longitude`, `Zip` and `Location` can be dropped as the `Address` column is full and the address is what I will need for the first version of my app. However, location in general would be very nice to use in future versions of my app if I was to incorporate a map plot, and could also be a useful feature for a future version of my model.\n",
    "\n",
    "- `City` and `State` will be dropped since for this project we will only be dealing with Chicago, IL establishments, so this information is redundant anyway. On a larger scale, to impute missing cities would be an interesting challenge, perhaps incorporate an extra dataset of addresses for each county/state and look up each missing city by address? \n",
    "\n",
    "- I will try to impute missing `AKA Name` values for the time being with their DBA Name, ideally the app would allow the user to search for an establishment by address if an inputted name was not providing a result.\n",
    "\n",
    "- The scope of this project will only be dealing with restaurants, with already so few missing `Facility Type` entries, this problem is truly too miniscule to address with any extraneous imputing methods. Missing values will simply be filled with `Missing Type`.\n",
    "\n",
    "- Missing `License #` entries must be a data entry error as all establishments naturally need a license, since there is such a small amount I will fill the missing with a default value `0`.\n",
    "\n",
    "- The bulk of my cleaning will be to parse the `Violations` column. In regards to rows where it is missing, I will make the assumption that there were no violations broken at the time of these inspections."
   ]
  },
  {
   "cell_type": "code",
   "execution_count": 49,
   "id": "fde49cd7-5fc4-4583-83cd-75294c250f29",
   "metadata": {},
   "outputs": [],
   "source": [
    "# Rename Columns.\n",
    "chicago.columns = chicago.columns.str.replace(' ', '_').str.lower()"
   ]
  },
  {
   "cell_type": "code",
   "execution_count": 50,
   "id": "1d6bab3c",
   "metadata": {},
   "outputs": [],
   "source": [
    "# Convert inspection_date to datetime object.\n",
    "chicago['inspection_date'] = pd.to_datetime(chicago['inspection_date'])"
   ]
  },
  {
   "cell_type": "code",
   "execution_count": 51,
   "id": "ed802481-0433-4b5c-a196-26dd3b7efab9",
   "metadata": {},
   "outputs": [],
   "source": [
    "# Drop unnecessary columns in the context of this project.\n",
    "chicago.drop(columns = ['latitude', 'longitude', 'city', 'state', 'zip', 'location'], inplace = True)"
   ]
  },
  {
   "cell_type": "code",
   "execution_count": 52,
   "id": "38f22e5d-4d04-421d-8b41-865ab4884c16",
   "metadata": {},
   "outputs": [],
   "source": [
    "# Fill missing values.\n",
    "chicago['license_#'] = chicago['license_#'].fillna(0)\n",
    "\n",
    "chicago['facility_type'] = chicago['facility_type'].fillna('Missing Type')\n",
    "\n",
    "chicago['aka_name'] = chicago['aka_name'].fillna(chicago['dba_name'])\n",
    "\n",
    "chicago['violations'] = chicago['violations'].fillna('No Violations')\n",
    "\n",
    "chicago['risk'] = chicago['risk'].fillna('Risk 2 (Medium)') # give missing values average risk (Medium)."
   ]
  },
  {
   "cell_type": "code",
   "execution_count": 53,
   "id": "cd8c0a71-aae0-4deb-84a8-a617a0c003cf",
   "metadata": {},
   "outputs": [],
   "source": [
    "# Drop facility types which are not restaurant (for the scope of this project).\n",
    "chicago = chicago[chicago['facility_type'] == 'Restaurant']"
   ]
  },
  {
   "cell_type": "code",
   "execution_count": 54,
   "id": "7cd12e93-e779-4ed9-a10c-ec3d00b7e5bd",
   "metadata": {},
   "outputs": [],
   "source": [
    "# Convert license_# to int and rename.\n",
    "chicago.rename(columns = {'license_#': 'license'}, inplace = True)\n",
    "chicago['license'] = chicago['license'].astype(int)"
   ]
  },
  {
   "cell_type": "code",
   "execution_count": 55,
   "id": "aeb393fc-eb3b-4b51-b388-b171fa3cac06",
   "metadata": {},
   "outputs": [
    {
     "data": {
      "text/plain": [
       "inspection_type\n",
       "Canvass                                   0.500204\n",
       "Canvass Re-Inspection                     0.119660\n",
       "License                                   0.118671\n",
       "Complaint                                 0.111448\n",
       "Complaint Re-Inspection                   0.047202\n",
       "Non-Inspection                            0.043960\n",
       "License Re-Inspection                     0.030330\n",
       "Short Form Complaint                      0.023001\n",
       "Suspected Food Poisoning                  0.002452\n",
       "Recent Inspection                         0.002280\n",
       "Suspected Food Poisoning Re-inspection    0.000540\n",
       "Consultation                              0.000132\n",
       "Not Ready                                 0.000105\n",
       "OUT OF BUSINESS                           0.000013\n",
       "Name: proportion, dtype: float64"
      ]
     },
     "execution_count": 55,
     "metadata": {},
     "output_type": "execute_result"
    }
   ],
   "source": [
    "# Check types of inspections, some of them are edge cases and not common enough or useful for app or modelling.\n",
    "chicago['inspection_type'].value_counts(normalize = True)"
   ]
  },
  {
   "cell_type": "code",
   "execution_count": 56,
   "id": "62e7bc02-daec-4287-8258-e1c4e56373d3",
   "metadata": {},
   "outputs": [],
   "source": [
    "# Drop uncommon/irrelevant inspection types.\n",
    "chicago = chicago[~chicago['inspection_type'].isin(['Non-Inspection', 'Consultation', 'Recent Inspection' , 'Not Ready', 'OUT OF BUSINESS'])]"
   ]
  },
  {
   "cell_type": "code",
   "execution_count": 57,
   "id": "9e1488eb",
   "metadata": {},
   "outputs": [],
   "source": [
    "def remove_punctuation(text):\n",
    "    # Helper function to remove punctuation.\n",
    "    if isinstance(text, str):\n",
    "        return text.translate(str.maketrans('', '', string.punctuation))\n",
    "    return text"
   ]
  },
  {
   "cell_type": "code",
   "execution_count": 58,
   "id": "712cbf1f",
   "metadata": {},
   "outputs": [],
   "source": [
    "# Remove punctuation from restaurant names.\n",
    "chicago['name_cleaned'] = chicago['aka_name'].apply(remove_punctuation)"
   ]
  },
  {
   "cell_type": "code",
   "execution_count": 59,
   "id": "55afd3a9-9195-4466-8473-62128f9bd10c",
   "metadata": {},
   "outputs": [],
   "source": [
    "# Rename inspection types column.\n",
    "# With the help of the provided data dictionary to make better descriptions.\n",
    "type_map = {'Canvass': 'Standard Inspection',\n",
    "           'Canvass Re-Inspection': 'Standard Re-Inspection',\n",
    "           'Complaint': 'Inspection Due to Customer Complaint',\n",
    "           'License': 'Required Inspection to Open',\n",
    "           'Complaint Re-Inspection': 'Revisiting Complaint Inspection',\n",
    "           'License Re-Inspection': 'Revisiting Inspection to Open',\n",
    "           'Short Form Complaint': 'Inspection Due to Customer Complaint',\n",
    "           'Suspected Food Poisoning': 'Suspected Food Poisoning (Uh Oh!)',\n",
    "           'Suspected Food Poisoning Re-inspection': 'Revisiting Suspected Food Poisoning'\n",
    "           }\n",
    "chicago['inspection_type'] = chicago['inspection_type'].map(type_map)"
   ]
  },
  {
   "cell_type": "code",
   "execution_count": 60,
   "id": "f9cda948-2f53-447e-a5f4-7558d5fe8f11",
   "metadata": {},
   "outputs": [
    {
     "name": "stdout",
     "output_type": "stream",
     "text": [
      "<class 'pandas.core.frame.DataFrame'>\n",
      "Index: 72338 entries, 0 to 110186\n",
      "Data columns (total 12 columns):\n",
      " #   Column           Non-Null Count  Dtype         \n",
      "---  ------           --------------  -----         \n",
      " 0   inspection_id    72338 non-null  int64         \n",
      " 1   dba_name         72338 non-null  object        \n",
      " 2   aka_name         72338 non-null  object        \n",
      " 3   license          72338 non-null  int32         \n",
      " 4   facility_type    72338 non-null  object        \n",
      " 5   risk             72338 non-null  object        \n",
      " 6   address          72338 non-null  object        \n",
      " 7   inspection_date  72338 non-null  datetime64[ns]\n",
      " 8   inspection_type  72338 non-null  object        \n",
      " 9   results          72338 non-null  object        \n",
      " 10  violations       72338 non-null  object        \n",
      " 11  name_cleaned     72338 non-null  object        \n",
      "dtypes: datetime64[ns](1), int32(1), int64(1), object(9)\n",
      "memory usage: 6.9+ MB\n"
     ]
    }
   ],
   "source": [
    "# Double check data summary that all is well.\n",
    "chicago.info()"
   ]
  },
  {
   "cell_type": "markdown",
   "id": "93f237a0-a160-4f6f-873d-8dde6bfa23ed",
   "metadata": {},
   "source": [
    "---\n",
    "# Part 2: Exploring Features\n",
    "\n",
    "- In part 2 I can begin to visualize this data while I work on more preprocessing and any further cleaning required before I export the final dataset to be modelled upon and used in my app."
   ]
  },
  {
   "cell_type": "code",
   "execution_count": 61,
   "id": "1915fdcd-0ad8-4777-ae05-05bc3ffeeef3",
   "metadata": {},
   "outputs": [
    {
     "data": {
      "text/plain": [
       "0          6\n",
       "6          2\n",
       "9         10\n",
       "10         7\n",
       "11        52\n",
       "          ..\n",
       "110182    16\n",
       "110183     4\n",
       "110184    11\n",
       "110185     8\n",
       "110186    10\n",
       "Name: num_inspections, Length: 72338, dtype: int64"
      ]
     },
     "execution_count": 61,
     "metadata": {},
     "output_type": "execute_result"
    }
   ],
   "source": [
    "# First new feature, find number of inspections by location.\n",
    "chicago['num_inspections'] = chicago.groupby('address')['address'].transform('count')\n",
    "chicago['num_inspections']"
   ]
  },
  {
   "cell_type": "code",
   "execution_count": 62,
   "id": "a3800b5c-4155-4e7f-8bf3-31bc92a53a48",
   "metadata": {},
   "outputs": [
    {
     "data": {
      "image/png": "[encoded data removed]",
      "text/plain": [
       "<Figure size 800x600 with 1 Axes>"
      ]
     },
     "metadata": {
      "needs_background": "dark"
     },
     "output_type": "display_data"
    }
   ],
   "source": [
    "# Inspection type frequency visualized.\n",
    "types = chicago['inspection_type'].value_counts(normalize = True)\n",
    "\n",
    "plt.figure(figsize =  (8, 6))\n",
    "\n",
    "sns.barplot(x = types.values,\n",
    "            y = types.index,\n",
    "            orient = 'h',\n",
    "            palette = ['lightcoral', 'indianred', 'brown', 'firebrick', 'maroon', 'darkred', 'red', 'salmon'],\n",
    "            hue = types.index,\n",
    "            legend = False)\n",
    "\n",
    "# Customization altered to match aesthetic of presentation and may not appear correctly in notebook if you have light theme.\n",
    "plt.title('Inspection Type Ratios', color = 'white', fontsize = 25, fontweight = 'bold')\n",
    "plt.ylabel('Inspection Type', color = 'white', fontsize = 22, fontweight = 'bold')\n",
    "\n",
    "plt.xticks(color = 'white')\n",
    "plt.yticks(color = 'white')\n",
    "\n",
    "ax = plt.gca()\n",
    "\n",
    "# Set to transparent.\n",
    "ax.patch.set_alpha(0)  \n",
    "plt.gcf().patch.set_alpha(0)  \n",
    "\n",
    "# Remove borders.\n",
    "for spine in ['top', 'right', 'left', 'bottom']:\n",
    "    ax.spines[spine].set_visible(False)\n",
    "\n",
    "plt.tight_layout()\n",
    "# Save plot to images folder.\n",
    "plt.savefig('../../images/inspection_types.png');"
   ]
  },
  {
   "cell_type": "markdown",
   "id": "75c104eb-e511-4261-8237-a6d06bff4f8d",
   "metadata": {},
   "source": [
    "**Three Most Common Inspection Types (referenced in data dictionary provided)**\n",
    "\n",
    "- Canvass: the most common type of inspection performed at a frequency relative to the `risk` of the establishment.\n",
    "- License: when the inspection is done as a requirement for the establishment to receive its license to operate.\n",
    "- Complaint: when the inspection is done in response to a complaint against the establishment.\n",
    "\n",
    "**Re-inspections can occur for most of the inspection types.**"
   ]
  },
  {
   "cell_type": "code",
   "execution_count": 63,
   "id": "70a22664-62ef-4093-ac5c-f0e4c3a8df6a",
   "metadata": {},
   "outputs": [
    {
     "data": {
      "image/png": "[encoded data removed]",
      "text/plain": [
       "<Figure size 800x600 with 1 Axes>"
      ]
     },
     "metadata": {
      "needs_background": "dark"
     },
     "output_type": "display_data"
    }
   ],
   "source": [
    "# Inspecton results visualized.\n",
    "results = chicago['results'].value_counts(normalize = True)\n",
    "\n",
    "plt.figure(figsize =  (8, 6))\n",
    "\n",
    "sns.barplot(x = results.values,\n",
    "            y = results.index,\n",
    "            orient = 'h',\n",
    "            palette = ['darkslategray', 'teal', 'darkcyan', 'aqua', 'cyan', 'darkturquoise', 'cadetblue'],\n",
    "            hue = results.index,\n",
    "            legend = False)\n",
    "\n",
    "# Customization altered to match aesthetic of presentation and may not appear correctly in notebook if you have light theme.\n",
    "plt.title('Ratio of Inspection Results', color = 'white', fontsize = 25, fontweight = 'bold')\n",
    "plt.ylabel('Result', color = 'white', fontsize = 25, fontweight = 'bold')\n",
    "plt.xlabel('')\n",
    "\n",
    "plt.xticks(color = 'white')\n",
    "plt.yticks(color = 'white')\n",
    "\n",
    "ax = plt.gca()\n",
    "\n",
    "# Set to transparent.\n",
    "ax.patch.set_alpha(0)  \n",
    "plt.gcf().patch.set_alpha(0)  \n",
    "\n",
    "# Remove borders.\n",
    "for spine in ['top', 'right', 'left', 'bottom']:\n",
    "    ax.spines[spine].set_visible(False)\n",
    "\n",
    "plt.tight_layout()\n",
    "# Save plot to images folder.\n",
    "plt.savefig('../../images/inspection_results.png');"
   ]
  },
  {
   "cell_type": "markdown",
   "id": "17b72e5e-58a2-42c5-96e2-2aaafe06c6af",
   "metadata": {},
   "source": [
    "- More than 40% of inspections result in a **Pass**.\n",
    "- Almost 1 in 5 inspections result in a **Fail**."
   ]
  },
  {
   "cell_type": "code",
   "execution_count": 64,
   "id": "9efb6bc5-d48f-4d5d-a0f3-850be6105c76",
   "metadata": {
    "scrolled": true
   },
   "outputs": [
    {
     "data": {
      "text/plain": [
       "(62556, 13)"
      ]
     },
     "execution_count": 64,
     "metadata": {},
     "output_type": "execute_result"
    }
   ],
   "source": [
    "# For the purposes of a simpler problem to tackle initially and for binary classification in my modelling, I will simplify the results to just Pass or Fail.\n",
    "\n",
    "# Referenced chicago.gov to make many judgement calls such as this one where I deem a 'Pass w/ Conditions' to have virtually the same merits as a straight Pass.\n",
    "chicago['results'] = chicago['results'].replace('Pass w/ Conditions', 'Pass')\n",
    "\n",
    "# Now I will drop results which are not Pass or Fail.\n",
    "chicago = chicago[chicago['results'].isin(['Pass', 'Fail'])]\n",
    "chicago.shape"
   ]
  },
  {
   "cell_type": "markdown",
   "id": "28ffb4c4-1c18-4e95-a163-1ae3fe9a9cda",
   "metadata": {},
   "source": [
    "- This method is risky as there is a possibility establishments who went out of business or deemed no entry could be re-opened later meaning they should not be removed from my dataset.\n",
    "- A future workaround to this would be to search for the latest result by each establishment and check if they are still open as of latest inspection.\n",
    "- I have not lost enough observations to deem this is a necessary task at the moment, but it should be solved eventually."
   ]
  },
  {
   "cell_type": "code",
   "execution_count": 77,
   "id": "ef5fe182-acc5-494e-8146-16544e64c3a7",
   "metadata": {},
   "outputs": [
    {
     "data": {
      "image/png": "[encoded data removed]",
      "text/plain": [
       "<Figure size 800x600 with 1 Axes>"
      ]
     },
     "metadata": {},
     "output_type": "display_data"
    }
   ],
   "source": [
    "# Visualizing the 'risk' levels.\n",
    "risks = chicago['risk'].value_counts()\n",
    "\n",
    "plt.figure(figsize = (8, 6))\n",
    "\n",
    "# The infamous Pie Chart, in honour of Hank Butler.\n",
    "plt.pie(x = risks,\n",
    "        labels = risks.index,\n",
    "        autopct = '%1.1f%%',\n",
    "        colors = ['crimson', 'deepskyblue', 'lightgreen'],\n",
    "        explode = (0.1, 0.1, 0.1),\n",
    "        shadow = True)\n",
    "\n",
    "plt.title('Ratio of Risk Levels for Restaurants in Chicago', fontsize = 16, fontweight = 'bold')\n",
    "\n",
    "\n",
    "# Save plot to images folder.\n",
    "plt.savefig('../../images/risk_levels.png');"
   ]
  },
  {
   "cell_type": "markdown",
   "id": "7d885250-4f4d-4e5b-a582-44ee2912a6f4",
   "metadata": {},
   "source": [
    "- Risk 1 (High) alarmed me at first being so frequent, But it makes intuitive sense since (according to the data dictionary) inspections are performed at a rate relative to the risk factor, so this data would be biased to have higher risk establishments since they are inspected more frequently.\n",
    "\n",
    "- After [further research](https://www.chicago.gov/dam/city/depts/cdph/food_env/general/REGSSelfCertPilotdraftposting321.pdf) there is actually a lot to unpack in regards to the `Risk` of a an establishment, so I will explain a little further below.\n",
    "\n",
    "\n",
    "The risk factor of an establishment is reflective of the potential hazards which could occur at the establishment and *not* necessarily a representation of dangerous practices. It is merely a classification method for identifying *if* such dangerous practices are possible. For example, a kiosk selling granola bars would be low risk as there is virtually zero chance for foodborne pathogens, cross-contamination, and any other food handling practices which could be improperly managed. On the other side of the spectrum (high risk) would be something like a Michelin Star restaurant, which handles many exotic ingredients from a wide range of suppliers and a multitude of cooking methods. While I have faith that those chefs are performing every task up to code, it is still technically true that there is **more** potential for something to go wrong. Just like with Big O notation that we must account for the worst case scenario, health departments must account for the worst case scenario and the risk factor is the representation of that.\n",
    "\n",
    "---"
   ]
  },
  {
   "cell_type": "markdown",
   "id": "30faee6b-5e77-4150-8ac2-c95daf0acffb",
   "metadata": {},
   "source": [
    "### Violations"
   ]
  },
  {
   "cell_type": "code",
   "execution_count": null,
   "id": "3b99c4ed-bda6-4205-9ac1-ed8b9b4703c1",
   "metadata": {},
   "outputs": [
    {
     "name": "stdout",
     "output_type": "stream",
     "text": [
      "22. PROPER COLD HOLDING TEMPERATURES - Comments: 3-501.16(A)(2) NOTED INTERNAL TEMPERATURES OF THE FOLLOWING TIME/TEMPERATURE CONTROL FOR SAFETY FOOD ITEMS INSIDE THE TWO-DOOR FOOD REFRIGERATOR TO BE IMPROPER: TRES LECHES 45. O F, HEAVY CREAM 48.6 F, RICE 73.0 F, SLICED MUSHROOMS 50.5 F, PEPPER SAUCE 55.6 F. MANAGER IMMEDIATELY AND VOLUNTARILY DISPOSED OF 20 LBS OF PRODUCTS WORTH $75.00 THROUGH DENATURING PROCESS. PRIORITY VIOLATION #7-38-005. CITATION ISSUED. | 51. PLUMBING INSTALLED; PROPER BACKFLOW DEVICES - Comments: 5-205.15(B) NOTED LEAKING FAUCET ABOVE SINK NEXT TO THE LAW TEMP DISH WASHER IN DISH WASHING AREA. INSTRUCTED TO REPAIR AND MAINTAIN. | 55. PHYSICAL FACILITIES INSTALLED, MAINTAINED & CLEAN - Comments: 6-201.17 OBSERVED THE CEILING TILES AND THE CEILING VENTILATION COVER WITH DIRT/DUST BUILD UP IN THE DISH WASH AREA AND ABOVE KITCHEN FOOD PREP AREA. INSTRUCTED TO CLEAN AND MAINTAIN. | 55. PHYSICAL FACILITIES INSTALLED, MAINTAINED & CLEAN - Comments: 6-501.13: NOTED GREASE AND DIRT BUILD UP BEHIND COOKING EQUIPMENT IN THE KITCHEN AND IN THE BAR AREA. MUST CLEAN DEBRIS BUILD UP FROM FLOOR ALONG WITH  WALL BASES IN BOTH AREAS AND MAINTAIN. | 55. PHYSICAL FACILITIES INSTALLED, MAINTAINED & CLEAN - Comments: 6-501.114  NOTED DISHWASHING CRATES STORED UNDER THE SINK ON THE FLOOR NEXT TO THE LOW-TEMPERATURE DISHWASHER. MUST ELEVATE ALL ITEMS TO ALLOW CLEANING. | 56. ADEQUATE VENTILATION & LIGHTING; DESIGNATED AREAS USED - Comments: 4-202.18 NOTED DIRT AND GREASE ACCUMULATION INSIDE, ON PIPES/CONDUITS, AND ON EDGES OF THE EXHAUST HOOD AND FILTERS ABOVE COOKING EQUIPMENT. INSTRUCTED TO DETAIL CLEAN AND MAINTAIN HOOD, FILTERS, AND PIPES/CONDUITS.\n",
      "========================================================================================================================\n",
      "1. PERSON IN CHARGE PRESENT, DEMONSTRATES KNOWLEDGE, AND PERFORMS DUTIES - Comments: PERSON IN CHARGE DOES NOT HAVE A CITY OF CHICAGO FOOD MANAGER CERTIFICATE. THERE IS CURRENTLY NO FOOD PREP TAKING PLACE ON SITE (NO FOOD ON SITE). INSTRUCTED MANAGEMENT THAT THE PERSON IN CHARGE MUST HAVE A VALID CITY OF CHICAGO FOOD MANAGER CERTIFICATE. | 5. PROCEDURES FOR RESPONDING TO VOMITING AND DIARRHEAL EVENTS - Comments: NO VOMIT/DIARRHEA CLEANUP KIT OR WRITTEN PROCEDURES ON SITE AT THE TIME OF INSPECTION. INSTRUCTED MANAGEMENT TO PROVIDE. PRIORITY FOUNDATION, 7-38-005. | 33. PROPER COOLING METHODS USED; ADEQUATE EQUIPMENT FOR TEMPERATURE CONTROL - Comments: INSTRUCTED TO HAVE ALL COOLERS AND EQUIPMENT TURNED ON AND OPERATING AT THE PROPER TEMPERATURE TO KEEP TCS FOODS AT 41F OR BELOW. PRIORITY, 7-38-005. | 36. THERMOMETERS PROVIDED & ACCURATE - Comments: NO THERMOMETER ON PREMISES TO ACCURATELY MEASURE COLD AND HOT TEMPERATURES. INSTRUCTED TO PROVIDE.PRIORITY FOUNDATION, 7-38-005. | 48. WAREWASHING FACILITIES: INSTALLED, MAINTAINED & USED; TEST STRIPS - Comments: NO CHEMICAL TEST KITS ON SITE FOR THE CHLORINE AND QUATERNARY AMMONIUM SANITIZER. INSTRUCTED TO PROVIDE TEST KITS THAT ACCURATELY MEASURES SANITIZER CONCENTRATION. PRIORITY FOUNDATION, 7-38-00. | 50. HOT & COLD WATER AVAILABLE; ADEQUATE PRESSURE - Comments: NO HOT RUNNING WATER UNDER CITY PRESSURE. INSTRUCTED TO PROVIDE AND MAINTAIN (100F-120F AT HANDWASH SINKS, 110F MINIMUM AT 3-COMPARTMENT SINK. PRIORITY, 7-38-030(C). | 58. ALLERGEN TRAINING AS REQUIRED - Comments: MUST PROVIDE ALLERGEN TRAINING ON SITE FOR CITY OF CHICAGO FOOD MANAGER(S). INSTRUCTED MANAGEMENT THAT ALL CITY OF CHICAGO FOOD MANAGERS MUST COMPLETE ALLERGEN TRAINING AND KEEP CERTIFICATE ON SITE. \n",
      "========================================================================================================================\n",
      "22. PROPER COLD HOLDING TEMPERATURES - Comments: NOTED TCS FOOD AT IMPROPER COLD HOLDING TEMPERATURE. SHAKE MIX IN ICE CREAM HOPPER AT IMPROPER COLD HOLDING TEMPERATURE OF 47.0F. INSTRUCTED TO HOLD COLD TCS FOOD ITEMS AT 41F OR BELOW. PRIORITY VIOLATION. #7-38-005. CITATION ISSUED. SHAKE THE MIX DISCARDED AT THIS TIME. APPROXIMATELY 2 GALLONS OF SHAKE MIX DISCARDED VALUED AT $10. | 55. PHYSICAL FACILITIES INSTALLED, MAINTAINED & CLEAN - Comments: CAULKING  WITH EXCESSIVE BLACK SUBSTANCE AT 3-COMPARTMENT SINK. INSTRUCTED TO REMOVE EXCESSIVE BLACK SUBSTANCE AND MAINTAIN CLEAN\n",
      "========================================================================================================================\n"
     ]
    }
   ],
   "source": [
    "# Observing how violation field is formatted so I can determine how I'd like to parse the values.\n",
    "for violation in chicago[chicago['violations'] != 'No Violations']['violations'][:3]:\n",
    "    print(violation)\n",
    "    print('==' * 60)"
   ]
  },
  {
   "cell_type": "markdown",
   "id": "20b84b5e-f5a4-4d65-b66f-8a36ced1ca3f",
   "metadata": {},
   "source": [
    "**Parsing Violation Notes**\n",
    "\n",
    "- My first task is to extract only the violation code of this submission.\n",
    "\n",
    "- There is an identifiable pattern in how the violations are written in which I can already see how I can pattern match to retreive the violation part alone: the violation code followed by a period and then the descriptor of the code, then a hyphen before Comments, then a separating bar (|) and the pattern is repeated for each violation.\n",
    "\n",
    "*Note: For time reasons, in this project I will only be taking advantage of the violation codes, I can save it as a stretch goal for my app to evaluate the entirety of these entries (especially the `Comments` section) and display key words such as type of rodents found and type of contiminations.*"
   ]
  },
  {
   "cell_type": "markdown",
   "id": "14bb81ed-2500-4757-8258-a6229002885f",
   "metadata": {},
   "source": [
    "---\n",
    "### Severity\n",
    "- For the purposes of my app I would like to map these health codes to a severity level that is more 'real'.\n",
    "\n",
    "- It will depend from place to place but I am using this capstone project to assess Chicago's health codes and give them more realistic severity values.\n",
    "\n",
    "- For example, while Chicago does not state having rodents as a critical violation, customers might change their mind on eating somewhere after finding out there is/were infestations.\n",
    "I am using my domain knowledge and years of experience discussing what customers look for in a restaurant when they go out to eat in terms of cleanliness and employee practices. This includes reading thousands and thousands of reviews and dealing with customers on a daily basis for more than 7 years. With this knowledge I can give a severity level to each health code of Chicago from 1 to 10."
   ]
  },
  {
   "cell_type": "code",
   "execution_count": 68,
   "id": "05beb636-b092-464c-a9c6-077dbfed82c3",
   "metadata": {},
   "outputs": [],
   "source": [
    "def process_violations(violations):\n",
    "    \"\"\"\n",
    "     This function will take the string of violations as input, parse it via splitting and regex, and perform calculations in order to obtain new features\n",
    "     relating to the violations provided. If there are no violations, default values for each feature have been assigned.\n",
    "\n",
    "     Input:\n",
    "         violations - (string)\n",
    "         \n",
    "     Output:\n",
    "         violation_count - (integer)\n",
    "         violations_list_code - (list of integers)\n",
    "         severity_levels - (list of int)\n",
    "         average_severity - (float)\n",
    "    \"\"\"\n",
    "    # Chicago health codes grouped by severity level.\n",
    "    severity_map_reverse = {10: [3, 4, 5, 8, 9, 16, 17, 18, 19, 20, 28],\n",
    "                            9: [21, 22, 59],\n",
    "                            8: [1, 2, 11, 13, 15, 52, 53],\n",
    "                            7: [7, 25, 23, 27, 33, 34, 35, 40, 42, 46, 60],\n",
    "                            6: [10, 12, 14, 26, 29, 50, 57],\n",
    "                            5: [51, 56, 43, 44, 45, 47],\n",
    "                            4: [30, 31, 36, 38, 39, 41, 48, 49],\n",
    "                            3: [37, 24, 32],\n",
    "                            2: [6, 54, 63, 55],\n",
    "                            1: [58, 61, 62]}\n",
    "\n",
    "    if violations != 'No Violations':\n",
    "        violations_list_str = violations.split(' | ')\n",
    "        violation_count = len(violations_list_str)\n",
    "        violations_list_code = [int(re.search(r'^\\d{1,2}', v).group()) for v in violations_list_str]\n",
    "\n",
    "        # Adding severity of each violation code found from above regex matching.\n",
    "        severity_map = {code: severity for severity, violations_list_code in severity_map_reverse.items() for code in violations_list_code}\n",
    "        severity_levels = [severity_map.get(code, 0) for code in violations_list_code]\n",
    "\n",
    "        # Calculate average severity.\n",
    "        average_severity = np.mean(severity_levels)\n",
    "    else:\n",
    "        violation_count = 0\n",
    "        violations_list_code = []\n",
    "        severity_levels = []\n",
    "        average_severity = 0.0\n",
    "        \n",
    "    return violation_count, violations_list_code, severity_levels, average_severity"
   ]
  },
  {
   "cell_type": "code",
   "execution_count": 69,
   "id": "c1808139-7b56-4334-81a4-0ae01a460439",
   "metadata": {},
   "outputs": [],
   "source": [
    "# Apply the function to the main dataframe to generate new columns.\n",
    "chicago[['violation_count', 'violation_codes', 'severity_levels', 'average_severity']] = chicago['violations'].apply(\n",
    "    lambda x: pd.Series(process_violations(x))\n",
    ")"
   ]
  },
  {
   "cell_type": "code",
   "execution_count": 70,
   "id": "a352efc3-39ae-4f49-aaba-3b72d5335e37",
   "metadata": {},
   "outputs": [],
   "source": [
    "# Next feature, boolean value for whether the inspection is first or re-inspection.\n",
    "chicago['is_reinspection'] = chicago['inspection_type'].str.contains('Re-Inspection')"
   ]
  },
  {
   "cell_type": "code",
   "execution_count": 71,
   "id": "d8ffefe7-df87-431f-92d3-7916c2d9e17f",
   "metadata": {},
   "outputs": [
    {
     "data": {
      "text/html": [
       "<div>\n",
       "<style scoped>\n",
       "    .dataframe tbody tr th:only-of-type {\n",
       "        vertical-align: middle;\n",
       "    }\n",
       "\n",
       "    .dataframe tbody tr th {\n",
       "        vertical-align: top;\n",
       "    }\n",
       "\n",
       "    .dataframe thead th {\n",
       "        text-align: right;\n",
       "    }\n",
       "</style>\n",
       "<table border=\"1\" class=\"dataframe\">\n",
       "  <thead>\n",
       "    <tr style=\"text-align: right;\">\n",
       "      <th></th>\n",
       "      <th>inspection_id</th>\n",
       "      <th>dba_name</th>\n",
       "      <th>aka_name</th>\n",
       "      <th>license</th>\n",
       "      <th>facility_type</th>\n",
       "      <th>risk</th>\n",
       "      <th>address</th>\n",
       "      <th>inspection_date</th>\n",
       "      <th>inspection_type</th>\n",
       "      <th>results</th>\n",
       "      <th>violations</th>\n",
       "      <th>name_cleaned</th>\n",
       "      <th>num_inspections</th>\n",
       "      <th>violation_count</th>\n",
       "      <th>violation_codes</th>\n",
       "      <th>severity_levels</th>\n",
       "      <th>average_severity</th>\n",
       "      <th>is_reinspection</th>\n",
       "    </tr>\n",
       "  </thead>\n",
       "  <tbody>\n",
       "    <tr>\n",
       "      <th>10</th>\n",
       "      <td>2608132</td>\n",
       "      <td>S.K.Y.</td>\n",
       "      <td>S.K.Y.</td>\n",
       "      <td>2516847</td>\n",
       "      <td>Restaurant</td>\n",
       "      <td>Risk 1 (High)</td>\n",
       "      <td>1239 W 18TH ST</td>\n",
       "      <td>2024-11-27</td>\n",
       "      <td>Standard Inspection</td>\n",
       "      <td>Pass</td>\n",
       "      <td>22. PROPER COLD HOLDING TEMPERATURES - Comment...</td>\n",
       "      <td>SKY</td>\n",
       "      <td>7</td>\n",
       "      <td>6</td>\n",
       "      <td>[22, 51, 55, 55, 55, 56]</td>\n",
       "      <td>[9, 5, 2, 2, 2, 5]</td>\n",
       "      <td>4.166667</td>\n",
       "      <td>False</td>\n",
       "    </tr>\n",
       "    <tr>\n",
       "      <th>11</th>\n",
       "      <td>2608152</td>\n",
       "      <td>601 W COMPANIES</td>\n",
       "      <td>601 W COMPANIES</td>\n",
       "      <td>2988676</td>\n",
       "      <td>Restaurant</td>\n",
       "      <td>Risk 1 (High)</td>\n",
       "      <td>200 E RANDOLPH ST</td>\n",
       "      <td>2024-11-27</td>\n",
       "      <td>Required Inspection to Open</td>\n",
       "      <td>Fail</td>\n",
       "      <td>1. PERSON IN CHARGE PRESENT, DEMONSTRATES KNOW...</td>\n",
       "      <td>601 W COMPANIES</td>\n",
       "      <td>52</td>\n",
       "      <td>7</td>\n",
       "      <td>[1, 5, 33, 36, 48, 50, 58]</td>\n",
       "      <td>[8, 10, 7, 4, 4, 6, 1]</td>\n",
       "      <td>5.714286</td>\n",
       "      <td>False</td>\n",
       "    </tr>\n",
       "    <tr>\n",
       "      <th>14</th>\n",
       "      <td>2608140</td>\n",
       "      <td>MC DONALD'S</td>\n",
       "      <td>MC DONALD'S</td>\n",
       "      <td>1045468</td>\n",
       "      <td>Restaurant</td>\n",
       "      <td>Risk 2 (Medium)</td>\n",
       "      <td>6737 S PULASKI RD</td>\n",
       "      <td>2024-11-27</td>\n",
       "      <td>Standard Inspection</td>\n",
       "      <td>Pass</td>\n",
       "      <td>22. PROPER COLD HOLDING TEMPERATURES - Comment...</td>\n",
       "      <td>MC DONALDS</td>\n",
       "      <td>1</td>\n",
       "      <td>2</td>\n",
       "      <td>[22, 55]</td>\n",
       "      <td>[9, 2]</td>\n",
       "      <td>5.500000</td>\n",
       "      <td>False</td>\n",
       "    </tr>\n",
       "    <tr>\n",
       "      <th>15</th>\n",
       "      <td>2608138</td>\n",
       "      <td>BEATNIK</td>\n",
       "      <td>BEATNIK</td>\n",
       "      <td>2609157</td>\n",
       "      <td>Restaurant</td>\n",
       "      <td>Risk 1 (High)</td>\n",
       "      <td>1604-1608 W CHICAGO AVE</td>\n",
       "      <td>2024-11-27</td>\n",
       "      <td>Standard Inspection</td>\n",
       "      <td>Fail</td>\n",
       "      <td>38. INSECTS, RODENTS, &amp; ANIMALS NOT PRESENT - ...</td>\n",
       "      <td>BEATNIK</td>\n",
       "      <td>15</td>\n",
       "      <td>2</td>\n",
       "      <td>[38, 50]</td>\n",
       "      <td>[4, 6]</td>\n",
       "      <td>5.000000</td>\n",
       "      <td>False</td>\n",
       "    </tr>\n",
       "    <tr>\n",
       "      <th>19</th>\n",
       "      <td>2608153</td>\n",
       "      <td>LOS 3 COMPADRES DE GUERRERO LLC</td>\n",
       "      <td>LOS 3 COMPADRES DE GUERRERO</td>\n",
       "      <td>2929721</td>\n",
       "      <td>Restaurant</td>\n",
       "      <td>Risk 1 (High)</td>\n",
       "      <td>912 N WESTERN AVE</td>\n",
       "      <td>2024-11-27</td>\n",
       "      <td>Standard Re-Inspection</td>\n",
       "      <td>Pass</td>\n",
       "      <td>55. PHYSICAL FACILITIES INSTALLED, MAINTAINED ...</td>\n",
       "      <td>LOS 3 COMPADRES DE GUERRERO</td>\n",
       "      <td>15</td>\n",
       "      <td>1</td>\n",
       "      <td>[55]</td>\n",
       "      <td>[2]</td>\n",
       "      <td>2.000000</td>\n",
       "      <td>True</td>\n",
       "    </tr>\n",
       "  </tbody>\n",
       "</table>\n",
       "</div>"
      ],
      "text/plain": [
       "    inspection_id                         dba_name  \\\n",
       "10        2608132                           S.K.Y.   \n",
       "11        2608152                  601 W COMPANIES   \n",
       "14        2608140                      MC DONALD'S   \n",
       "15        2608138                          BEATNIK   \n",
       "19        2608153  LOS 3 COMPADRES DE GUERRERO LLC   \n",
       "\n",
       "                       aka_name  license facility_type             risk  \\\n",
       "10                       S.K.Y.  2516847    Restaurant    Risk 1 (High)   \n",
       "11              601 W COMPANIES  2988676    Restaurant    Risk 1 (High)   \n",
       "14                  MC DONALD'S  1045468    Restaurant  Risk 2 (Medium)   \n",
       "15                      BEATNIK  2609157    Restaurant    Risk 1 (High)   \n",
       "19  LOS 3 COMPADRES DE GUERRERO  2929721    Restaurant    Risk 1 (High)   \n",
       "\n",
       "                     address inspection_date              inspection_type  \\\n",
       "10           1239 W 18TH ST       2024-11-27          Standard Inspection   \n",
       "11        200 E RANDOLPH ST       2024-11-27  Required Inspection to Open   \n",
       "14        6737 S PULASKI RD       2024-11-27          Standard Inspection   \n",
       "15  1604-1608 W CHICAGO AVE       2024-11-27          Standard Inspection   \n",
       "19        912 N WESTERN AVE       2024-11-27       Standard Re-Inspection   \n",
       "\n",
       "   results                                         violations  \\\n",
       "10    Pass  22. PROPER COLD HOLDING TEMPERATURES - Comment...   \n",
       "11    Fail  1. PERSON IN CHARGE PRESENT, DEMONSTRATES KNOW...   \n",
       "14    Pass  22. PROPER COLD HOLDING TEMPERATURES - Comment...   \n",
       "15    Fail  38. INSECTS, RODENTS, & ANIMALS NOT PRESENT - ...   \n",
       "19    Pass  55. PHYSICAL FACILITIES INSTALLED, MAINTAINED ...   \n",
       "\n",
       "                   name_cleaned  num_inspections  violation_count  \\\n",
       "10                          SKY                7                6   \n",
       "11              601 W COMPANIES               52                7   \n",
       "14                   MC DONALDS                1                2   \n",
       "15                      BEATNIK               15                2   \n",
       "19  LOS 3 COMPADRES DE GUERRERO               15                1   \n",
       "\n",
       "               violation_codes         severity_levels  average_severity  \\\n",
       "10    [22, 51, 55, 55, 55, 56]      [9, 5, 2, 2, 2, 5]          4.166667   \n",
       "11  [1, 5, 33, 36, 48, 50, 58]  [8, 10, 7, 4, 4, 6, 1]          5.714286   \n",
       "14                    [22, 55]                  [9, 2]          5.500000   \n",
       "15                    [38, 50]                  [4, 6]          5.000000   \n",
       "19                        [55]                     [2]          2.000000   \n",
       "\n",
       "    is_reinspection  \n",
       "10            False  \n",
       "11            False  \n",
       "14            False  \n",
       "15            False  \n",
       "19             True  "
      ]
     },
     "execution_count": 71,
     "metadata": {},
     "output_type": "execute_result"
    }
   ],
   "source": [
    "# Double check that my created features have been added properly.\n",
    "chicago.head()"
   ]
  },
  {
   "cell_type": "markdown",
   "id": "1cca08af-1d7e-4700-83f2-7bc018012b8e",
   "metadata": {},
   "source": [
    "---\n",
    "## Final EDA of Engineered Features"
   ]
  },
  {
   "cell_type": "code",
   "execution_count": 72,
   "id": "5cbdfe18-83e5-4b57-8be0-33463b043c25",
   "metadata": {},
   "outputs": [
    {
     "data": {
      "image/png": "[encoded data removed]",
      "text/plain": [
       "<Figure size 800x600 with 1 Axes>"
      ]
     },
     "metadata": {
      "needs_background": "dark"
     },
     "output_type": "display_data"
    }
   ],
   "source": [
    "# Distribution of violation count depending on if it is reinspection.  \n",
    "plt.figure(figsize = (8, 6))\n",
    "\n",
    "sns.violinplot(\n",
    "    data=chicago,\n",
    "    x='violation_count',  \n",
    "    y='is_reinspection', \n",
    "    palette = {True: 'deepskyblue', False: 'red'},\n",
    "    hue = 'is_reinspection',\n",
    "    orient='h',\n",
    "    legend = False\n",
    ")\n",
    "\n",
    "# Customization altered to match aesthetic of presentation and may not appear correctly in notebook if you have light theme.\n",
    "plt.title('Violation Count - First vs. Second Visit', fontsize = 20, color = 'white', fontweight = 'bold')\n",
    "plt.xlabel('Violation Count', fontsize = 20, color = 'white', fontweight = 'bold')\n",
    "ax = plt.gca()\n",
    "ax.set_ylabel('')\n",
    "ax.set_yticks([0, 1])\n",
    "ax.set_yticklabels(['First Inspection', 'Re-Inspection'], fontsize = 16)\n",
    "\n",
    "plt.xticks(color = 'white')\n",
    "plt.yticks(color = 'white')\n",
    "\n",
    "# Set to transparent.\n",
    "ax.patch.set_alpha(0)  \n",
    "plt.gcf().patch.set_alpha(0)  \n",
    "\n",
    "# Remove borders.\n",
    "for spine in ['top', 'right', 'left', 'bottom']:\n",
    "    ax.spines[spine].set_visible(False)\n",
    "\n",
    "plt.tight_layout()\n",
    "# Save plot to images folder.\n",
    "plt.savefig('../../images/violation_count_distributions.png');"
   ]
  },
  {
   "cell_type": "markdown",
   "id": "065838cd-e573-4152-9b19-79277b341dc5",
   "metadata": {},
   "source": [
    "- Restaurants tend to fix *most* of their mistakes before getting re-inspected, as I had hoped!"
   ]
  },
  {
   "cell_type": "code",
   "execution_count": 73,
   "id": "0c1ebb8b-4734-4e3a-a8a9-ee6070ec5858",
   "metadata": {},
   "outputs": [
    {
     "data": {
      "image/png": "[encoded data removed]",
      "text/plain": [
       "<Figure size 800x600 with 1 Axes>"
      ]
     },
     "metadata": {
      "needs_background": "dark"
     },
     "output_type": "display_data"
    }
   ],
   "source": [
    "# Distribution of average severity.\n",
    "severities = chicago[chicago['average_severity'] > 0]['average_severity']\n",
    "\n",
    "plt.figure(figsize = (8, 6))\n",
    "\n",
    "sns.histplot(severities,\n",
    "             bins = 30,\n",
    "             stat = 'density',\n",
    "             fill = False,\n",
    "             color = 'deepskyblue')\n",
    "sns.kdeplot(severities, color = 'red')\n",
    "\n",
    "# Customization altered to match aesthetic of presentation and may not appear correctly in notebook if you have light theme.\n",
    "plt.title('Distribution of Average Severity Levels', fontsize = 22, color = 'white', fontweight = 'bold')\n",
    "plt.xlabel('Severity Level', fontsize = 16, color = 'white', fontweight = 'bold')\n",
    "\n",
    "ax = plt.gca()\n",
    "ax.set_ylabel('')\n",
    "\n",
    "plt.xticks(size = 14, color = 'white')\n",
    "plt.yticks([], [])\n",
    "\n",
    "# Set the plot to be transparent.\n",
    "ax.patch.set_alpha(0) \n",
    "plt.gcf().patch.set_alpha(0)  \n",
    "\n",
    "# Remove borders.\n",
    "for spine in ['top', 'right', 'left', 'bottom']:\n",
    "    ax.spines[spine].set_visible(False)\n",
    "\n",
    "plt.tight_layout()\n",
    "# Save plot to images folder.\n",
    "plt.savefig('../../images/average_severity_distribution.png');"
   ]
  },
  {
   "cell_type": "markdown",
   "id": "820e7810-d3c4-45a5-8bf3-10748a6e66ad",
   "metadata": {},
   "source": [
    "- These plots are mainly to double check that nothing wonky happened while creating these features, seeing a nice normal distribution centered around 5 is reassuring of that."
   ]
  },
  {
   "cell_type": "code",
   "execution_count": 74,
   "id": "5027678c-6602-4419-81fc-906e89e9c4a2",
   "metadata": {},
   "outputs": [
    {
     "data": {
      "image/png": "[encoded data removed]",
      "text/plain": [
       "<Figure size 800x600 with 1 Axes>"
      ]
     },
     "metadata": {
      "needs_background": "dark"
     },
     "output_type": "display_data"
    }
   ],
   "source": [
    "# Plotting average severity by Inpsection Result (Pass/Fail).\n",
    "plt.figure(figsize = (8, 6))\n",
    "\n",
    "sns.boxplot(data = chicago, x = 'results', y = 'average_severity',\n",
    "            flierprops = {'marker': 'o', 'markeredgecolor': 'red', 'markersize': 10},\n",
    "            boxprops = {'facecolor': 'deepskyblue', 'edgecolor': 'black', 'linewidth': 0.5},\n",
    "            medianprops = {'color': 'black'},\n",
    "            whiskerprops = {'color': 'white', 'linewidth': 1},\n",
    "            capprops = {'color': 'white', 'linewidth': 1})\n",
    "\n",
    "# Customization altered to match aesthetic of presentation and may not appear correctly in notebook if you have light theme.\n",
    "plt.title('Average Severity by Inspection Result', color = 'white', fontsize = 22, fontweight = 'bold')\n",
    "plt.ylabel('Severity Level', fontsize=22, color = 'white', fontweight = 'bold')\n",
    "\n",
    "ax = plt.gca()\n",
    "ax.set_xlabel('')\n",
    "\n",
    "plt.xticks(color = 'white', fontsize = 18, fontweight = 'bold')\n",
    "plt.yticks(color = 'white', fontsize = 12)\n",
    "\n",
    "# Set the plot to be transparent.\n",
    "ax.patch.set_alpha(0) \n",
    "plt.gcf().patch.set_alpha(0)  \n",
    "\n",
    "# Remove borders.\n",
    "for spine in ['top', 'right', 'left', 'bottom']:\n",
    "    ax.spines[spine].set_visible(False)\n",
    "\n",
    "plt.tight_layout()\n",
    "# Save plot to images folder.\n",
    "plt.savefig('../../images/average_severity_by_result.png');"
   ]
  },
  {
   "cell_type": "markdown",
   "id": "f7dabf39-0f7d-4fa5-a205-500f44f18576",
   "metadata": {},
   "source": [
    "- This test is more to see how useful this average severity feature could be used in my modelling for predicting pass or fail. The average severity of inspection failures are much more tightly packed around that 5-6 level. While the average severity of successful inspections is pretty much spread much looser across the whole range. On average the severity level in fails is slightly higher than passes, and the main takeaway here is that the majority of data points under `Fail` are clustered very close together in that 5-6 range, with the outliers tending to fall more above than below."
   ]
  },
  {
   "cell_type": "markdown",
   "id": "29d20f26-be98-4696-aa50-fbfc13d73c13",
   "metadata": {},
   "source": [
    "---\n",
    "# Export Processed Data"
   ]
  },
  {
   "cell_type": "code",
   "execution_count": 75,
   "id": "3d6c6d6b-5c6e-422b-be1e-cd42b9df4b75",
   "metadata": {},
   "outputs": [],
   "source": [
    "chicago.to_csv('../../data/processed_chicago.csv', index = False)"
   ]
  },
  {
   "cell_type": "markdown",
   "id": "f34e67b3",
   "metadata": {},
   "source": [
    "# Continue To [Model](02_modelling.ipynb)"
   ]
  }
 ],
 "metadata": {
  "kernelspec": {
   "display_name": "capstone_env",
   "language": "python",
   "name": "python3"
  },
  "language_info": {
   "codemirror_mode": {
    "name": "ipython",
    "version": 3
   },
   "file_extension": ".py",
   "mimetype": "text/x-python",
   "name": "python",
   "nbconvert_exporter": "python",
   "pygments_lexer": "ipython3",
   "version": "3.8.20"
  }
 },
 "nbformat": 4,
 "nbformat_minor": 5
}
